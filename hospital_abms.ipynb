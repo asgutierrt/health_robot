{
  "cells": [
    {
      "cell_type": "markdown",
      "metadata": {
        "colab_type": "text",
        "id": "view-in-github"
      },
      "source": [
        "<a href=\"https://colab.research.google.com/github/asgutierrt/health_robot/blob/main/hospital_abms.ipynb\" target=\"_parent\"><img src=\"https://colab.research.google.com/assets/colab-badge.svg\" alt=\"Open In Colab\"/></a>"
      ]
    },
    {
      "cell_type": "code",
      "execution_count": 15,
      "metadata": {
        "colab": {
          "base_uri": "https://localhost:8080/"
        },
        "id": "jB6fzTCzJf8m",
        "outputId": "49f955d0-e039-4d9b-97d8-9d9767b5639a"
      },
      "outputs": [
        {
          "name": "stdout",
          "output_type": "stream",
          "text": [
            "Requirement already satisfied: mesa in c:\\users\\anita\\appdata\\local\\packages\\pythonsoftwarefoundation.python.3.9_qbz5n2kfra8p0\\localcache\\local-packages\\python39\\site-packages (1.1.1)Note: you may need to restart the kernel to use updated packages.\n",
            "\n",
            "Requirement already satisfied: click in c:\\users\\anita\\appdata\\local\\packages\\pythonsoftwarefoundation.python.3.9_qbz5n2kfra8p0\\localcache\\local-packages\\python39\\site-packages (from mesa) (8.1.7)\n",
            "Requirement already satisfied: cookiecutter in c:\\users\\anita\\appdata\\local\\packages\\pythonsoftwarefoundation.python.3.9_qbz5n2kfra8p0\\localcache\\local-packages\\python39\\site-packages (from mesa) (2.3.0)\n",
            "Requirement already satisfied: networkx in c:\\users\\anita\\appdata\\local\\packages\\pythonsoftwarefoundation.python.3.9_qbz5n2kfra8p0\\localcache\\local-packages\\python39\\site-packages (from mesa) (3.1)\n",
            "Requirement already satisfied: numpy in c:\\users\\anita\\appdata\\local\\packages\\pythonsoftwarefoundation.python.3.9_qbz5n2kfra8p0\\localcache\\local-packages\\python39\\site-packages (from mesa) (1.25.2)\n",
            "Requirement already satisfied: pandas in c:\\users\\anita\\appdata\\local\\packages\\pythonsoftwarefoundation.python.3.9_qbz5n2kfra8p0\\localcache\\local-packages\\python39\\site-packages (from mesa) (2.0.3)\n",
            "Requirement already satisfied: tornado in c:\\users\\anita\\appdata\\local\\packages\\pythonsoftwarefoundation.python.3.9_qbz5n2kfra8p0\\localcache\\local-packages\\python39\\site-packages (from mesa) (6.3.3)\n",
            "Requirement already satisfied: tqdm in c:\\users\\anita\\appdata\\local\\packages\\pythonsoftwarefoundation.python.3.9_qbz5n2kfra8p0\\localcache\\local-packages\\python39\\site-packages (from mesa) (4.66.1)\n",
            "Requirement already satisfied: colorama in c:\\users\\anita\\appdata\\local\\packages\\pythonsoftwarefoundation.python.3.9_qbz5n2kfra8p0\\localcache\\local-packages\\python39\\site-packages (from click->mesa) (0.4.6)\n",
            "Requirement already satisfied: binaryornot>=0.4.4 in c:\\users\\anita\\appdata\\local\\packages\\pythonsoftwarefoundation.python.3.9_qbz5n2kfra8p0\\localcache\\local-packages\\python39\\site-packages (from cookiecutter->mesa) (0.4.4)\n",
            "Requirement already satisfied: Jinja2<4.0.0,>=2.7 in c:\\users\\anita\\appdata\\local\\packages\\pythonsoftwarefoundation.python.3.9_qbz5n2kfra8p0\\localcache\\local-packages\\python39\\site-packages (from cookiecutter->mesa) (3.1.2)\n",
            "Requirement already satisfied: pyyaml>=5.3.1 in c:\\users\\anita\\appdata\\local\\packages\\pythonsoftwarefoundation.python.3.9_qbz5n2kfra8p0\\localcache\\local-packages\\python39\\site-packages (from cookiecutter->mesa) (6.0.1)\n",
            "Requirement already satisfied: python-slugify>=4.0.0 in c:\\users\\anita\\appdata\\local\\packages\\pythonsoftwarefoundation.python.3.9_qbz5n2kfra8p0\\localcache\\local-packages\\python39\\site-packages (from cookiecutter->mesa) (6.1.2)\n",
            "Requirement already satisfied: requests>=2.23.0 in c:\\users\\anita\\appdata\\local\\packages\\pythonsoftwarefoundation.python.3.9_qbz5n2kfra8p0\\localcache\\local-packages\\python39\\site-packages (from cookiecutter->mesa) (2.28.1)\n",
            "Requirement already satisfied: arrow in c:\\users\\anita\\appdata\\local\\packages\\pythonsoftwarefoundation.python.3.9_qbz5n2kfra8p0\\localcache\\local-packages\\python39\\site-packages (from cookiecutter->mesa) (1.2.3)\n",
            "Requirement already satisfied: rich in c:\\users\\anita\\appdata\\local\\packages\\pythonsoftwarefoundation.python.3.9_qbz5n2kfra8p0\\localcache\\local-packages\\python39\\site-packages (from cookiecutter->mesa) (13.5.2)\n",
            "Requirement already satisfied: python-dateutil>=2.8.2 in c:\\users\\anita\\appdata\\local\\packages\\pythonsoftwarefoundation.python.3.9_qbz5n2kfra8p0\\localcache\\local-packages\\python39\\site-packages (from pandas->mesa) (2.8.2)\n",
            "Requirement already satisfied: pytz>=2020.1 in c:\\users\\anita\\appdata\\local\\packages\\pythonsoftwarefoundation.python.3.9_qbz5n2kfra8p0\\localcache\\local-packages\\python39\\site-packages (from pandas->mesa) (2023.3)\n",
            "Requirement already satisfied: tzdata>=2022.1 in c:\\users\\anita\\appdata\\local\\packages\\pythonsoftwarefoundation.python.3.9_qbz5n2kfra8p0\\localcache\\local-packages\\python39\\site-packages (from pandas->mesa) (2022.5)\n",
            "Requirement already satisfied: chardet>=3.0.2 in c:\\users\\anita\\appdata\\local\\packages\\pythonsoftwarefoundation.python.3.9_qbz5n2kfra8p0\\localcache\\local-packages\\python39\\site-packages (from binaryornot>=0.4.4->cookiecutter->mesa) (5.2.0)\n",
            "Requirement already satisfied: MarkupSafe>=2.0 in c:\\users\\anita\\appdata\\local\\packages\\pythonsoftwarefoundation.python.3.9_qbz5n2kfra8p0\\localcache\\local-packages\\python39\\site-packages (from Jinja2<4.0.0,>=2.7->cookiecutter->mesa) (2.1.3)\n",
            "Requirement already satisfied: six>=1.5 in c:\\users\\anita\\appdata\\local\\packages\\pythonsoftwarefoundation.python.3.9_qbz5n2kfra8p0\\localcache\\local-packages\\python39\\site-packages (from python-dateutil>=2.8.2->pandas->mesa) (1.16.0)\n",
            "Requirement already satisfied: text-unidecode>=1.3 in c:\\users\\anita\\appdata\\local\\packages\\pythonsoftwarefoundation.python.3.9_qbz5n2kfra8p0\\localcache\\local-packages\\python39\\site-packages (from python-slugify>=4.0.0->cookiecutter->mesa) (1.3)\n",
            "Requirement already satisfied: charset-normalizer<3,>=2 in c:\\users\\anita\\appdata\\local\\packages\\pythonsoftwarefoundation.python.3.9_qbz5n2kfra8p0\\localcache\\local-packages\\python39\\site-packages (from requests>=2.23.0->cookiecutter->mesa) (2.1.1)\n",
            "Requirement already satisfied: idna<4,>=2.5 in c:\\users\\anita\\appdata\\local\\packages\\pythonsoftwarefoundation.python.3.9_qbz5n2kfra8p0\\localcache\\local-packages\\python39\\site-packages (from requests>=2.23.0->cookiecutter->mesa) (3.4)\n",
            "Requirement already satisfied: urllib3<1.27,>=1.21.1 in c:\\users\\anita\\appdata\\local\\packages\\pythonsoftwarefoundation.python.3.9_qbz5n2kfra8p0\\localcache\\local-packages\\python39\\site-packages (from requests>=2.23.0->cookiecutter->mesa) (1.26.12)\n",
            "Requirement already satisfied: certifi>=2017.4.17 in c:\\users\\anita\\appdata\\local\\packages\\pythonsoftwarefoundation.python.3.9_qbz5n2kfra8p0\\localcache\\local-packages\\python39\\site-packages (from requests>=2.23.0->cookiecutter->mesa) (2022.9.24)\n",
            "Requirement already satisfied: markdown-it-py>=2.2.0 in c:\\users\\anita\\appdata\\local\\packages\\pythonsoftwarefoundation.python.3.9_qbz5n2kfra8p0\\localcache\\local-packages\\python39\\site-packages (from rich->cookiecutter->mesa) (3.0.0)\n",
            "Requirement already satisfied: pygments<3.0.0,>=2.13.0 in c:\\users\\anita\\appdata\\local\\packages\\pythonsoftwarefoundation.python.3.9_qbz5n2kfra8p0\\localcache\\local-packages\\python39\\site-packages (from rich->cookiecutter->mesa) (2.16.1)\n",
            "Requirement already satisfied: mdurl~=0.1 in c:\\users\\anita\\appdata\\local\\packages\\pythonsoftwarefoundation.python.3.9_qbz5n2kfra8p0\\localcache\\local-packages\\python39\\site-packages (from markdown-it-py>=2.2.0->rich->cookiecutter->mesa) (0.1.2)\n",
            "Requirement already satisfied: mesa_geo in c:\\users\\anita\\appdata\\local\\packages\\pythonsoftwarefoundation.python.3.9_qbz5n2kfra8p0\\localcache\\local-packages\\python39\\site-packages (0.5.0)\n",
            "Requirement already satisfied: mesa~=1.1.0 in c:\\users\\anita\\appdata\\local\\packages\\pythonsoftwarefoundation.python.3.9_qbz5n2kfra8p0\\localcache\\local-packages\\python39\\site-packages (from mesa_geo) (1.1.1)\n",
            "Requirement already satisfied: geopandas in c:\\users\\anita\\appdata\\local\\packages\\pythonsoftwarefoundation.python.3.9_qbz5n2kfra8p0\\localcache\\local-packages\\python39\\site-packages (from mesa_geo) (0.13.2)\n",
            "Requirement already satisfied: libpysal in c:\\users\\anita\\appdata\\local\\packages\\pythonsoftwarefoundation.python.3.9_qbz5n2kfra8p0\\localcache\\local-packages\\python39\\site-packages (from mesa_geo) (4.7.0)\n",
            "Requirement already satisfied: rtree in c:\\users\\anita\\appdata\\local\\packages\\pythonsoftwarefoundation.python.3.9_qbz5n2kfra8p0\\localcache\\local-packages\\python39\\site-packages (from mesa_geo) (1.0.1)\n",
            "Requirement already satisfied: rasterio>=1.3b1 in c:\\users\\anita\\appdata\\local\\packages\\pythonsoftwarefoundation.python.3.9_qbz5n2kfra8p0\\localcache\\local-packages\\python39\\site-packages (from mesa_geo) (1.3.8)\n",
            "Requirement already satisfied: shapely in c:\\users\\anita\\appdata\\local\\packages\\pythonsoftwarefoundation.python.3.9_qbz5n2kfra8p0\\localcache\\local-packages\\python39\\site-packages (from mesa_geo) (2.0.1)\n",
            "Requirement already satisfied: numpy in c:\\users\\anita\\appdata\\local\\packages\\pythonsoftwarefoundation.python.3.9_qbz5n2kfra8p0\\localcache\\local-packages\\python39\\site-packages (from mesa_geo) (1.25.2)\n",
            "Requirement already satisfied: pyproj in c:\\users\\anita\\appdata\\local\\packages\\pythonsoftwarefoundation.python.3.9_qbz5n2kfra8p0\\localcache\\local-packages\\python39\\site-packages (from mesa_geo) (3.6.0)\n",
            "Requirement already satisfied: folium in c:\\users\\anita\\appdata\\local\\packages\\pythonsoftwarefoundation.python.3.9_qbz5n2kfra8p0\\localcache\\local-packages\\python39\\site-packages (from mesa_geo) (0.14.0)\n",
            "Requirement already satisfied: xyzservices>=2022.9.0 in c:\\users\\anita\\appdata\\local\\packages\\pythonsoftwarefoundation.python.3.9_qbz5n2kfra8p0\\localcache\\local-packages\\python39\\site-packages (from mesa_geo) (2023.7.0)\n",
            "Requirement already satisfied: click in c:\\users\\anita\\appdata\\local\\packages\\pythonsoftwarefoundation.python.3.9_qbz5n2kfra8p0\\localcache\\local-packages\\python39\\site-packages (from mesa~=1.1.0->mesa_geo) (8.1.7)\n",
            "Requirement already satisfied: cookiecutter in c:\\users\\anita\\appdata\\local\\packages\\pythonsoftwarefoundation.python.3.9_qbz5n2kfra8p0\\localcache\\local-packages\\python39\\site-packages (from mesa~=1.1.0->mesa_geo) (2.3.0)\n",
            "Requirement already satisfied: networkx in c:\\users\\anita\\appdata\\local\\packages\\pythonsoftwarefoundation.python.3.9_qbz5n2kfra8p0\\localcache\\local-packages\\python39\\site-packages (from mesa~=1.1.0->mesa_geo) (3.1)\n",
            "Requirement already satisfied: pandas in c:\\users\\anita\\appdata\\local\\packages\\pythonsoftwarefoundation.python.3.9_qbz5n2kfra8p0\\localcache\\local-packages\\python39\\site-packages (from mesa~=1.1.0->mesa_geo) (2.0.3)\n",
            "Requirement already satisfied: tornado in c:\\users\\anita\\appdata\\local\\packages\\pythonsoftwarefoundation.python.3.9_qbz5n2kfra8p0\\localcache\\local-packages\\python39\\site-packages (from mesa~=1.1.0->mesa_geo) (6.3.3)\n",
            "Requirement already satisfied: tqdm in c:\\users\\anita\\appdata\\local\\packages\\pythonsoftwarefoundation.python.3.9_qbz5n2kfra8p0\\localcache\\local-packages\\python39\\site-packages (from mesa~=1.1.0->mesa_geo) (4.66.1)\n",
            "Requirement already satisfied: affine in c:\\users\\anita\\appdata\\local\\packages\\pythonsoftwarefoundation.python.3.9_qbz5n2kfra8p0\\localcache\\local-packages\\python39\\site-packages (from rasterio>=1.3b1->mesa_geo) (2.4.0)\n",
            "Requirement already satisfied: attrs in c:\\users\\anita\\appdata\\local\\packages\\pythonsoftwarefoundation.python.3.9_qbz5n2kfra8p0\\localcache\\local-packages\\python39\\site-packages (from rasterio>=1.3b1->mesa_geo) (23.1.0)\n",
            "Requirement already satisfied: certifi in c:\\users\\anita\\appdata\\local\\packages\\pythonsoftwarefoundation.python.3.9_qbz5n2kfra8p0\\localcache\\local-packages\\python39\\site-packages (from rasterio>=1.3b1->mesa_geo) (2022.9.24)\n",
            "Requirement already satisfied: cligj>=0.5 in c:\\users\\anita\\appdata\\local\\packages\\pythonsoftwarefoundation.python.3.9_qbz5n2kfra8p0\\localcache\\local-packages\\python39\\site-packages (from rasterio>=1.3b1->mesa_geo) (0.7.2)\n",
            "Requirement already satisfied: snuggs>=1.4.1 in c:\\users\\anita\\appdata\\local\\packages\\pythonsoftwarefoundation.python.3.9_qbz5n2kfra8p0\\localcache\\local-packages\\python39\\site-packages (from rasterio>=1.3b1->mesa_geo) (1.4.7)\n",
            "Requirement already satisfied: click-plugins in c:\\users\\anita\\appdata\\local\\packages\\pythonsoftwarefoundation.python.3.9_qbz5n2kfra8p0\\localcache\\local-packages\\python39\\site-packages (from rasterio>=1.3b1->mesa_geo) (1.1.1)\n",
            "Requirement already satisfied: setuptools in c:\\program files\\windowsapps\\pythonsoftwarefoundation.python.3.9_3.9.3568.0_x64__qbz5n2kfra8p0\\lib\\site-packages (from rasterio>=1.3b1->mesa_geo) (58.1.0)\n",
            "Requirement already satisfied: branca>=0.6.0 in c:\\users\\anita\\appdata\\local\\packages\\pythonsoftwarefoundation.python.3.9_qbz5n2kfra8p0\\localcache\\local-packages\\python39\\site-packages (from folium->mesa_geo) (0.6.0)\n",
            "Requirement already satisfied: jinja2>=2.9 in c:\\users\\anita\\appdata\\local\\packages\\pythonsoftwarefoundation.python.3.9_qbz5n2kfra8p0\\localcache\\local-packages\\python39\\site-packages (from folium->mesa_geo) (3.1.2)\n",
            "Requirement already satisfied: requests in c:\\users\\anita\\appdata\\local\\packages\\pythonsoftwarefoundation.python.3.9_qbz5n2kfra8p0\\localcache\\local-packages\\python39\\site-packages (from folium->mesa_geo) (2.28.1)\n",
            "Requirement already satisfied: fiona>=1.8.19 in c:\\users\\anita\\appdata\\local\\packages\\pythonsoftwarefoundation.python.3.9_qbz5n2kfra8p0\\localcache\\local-packages\\python39\\site-packages (from geopandas->mesa_geo) (1.9.4.post1)\n",
            "Requirement already satisfied: packaging in c:\\users\\anita\\appdata\\local\\packages\\pythonsoftwarefoundation.python.3.9_qbz5n2kfra8p0\\localcache\\local-packages\\python39\\site-packages (from geopandas->mesa_geo) (23.1)\n",
            "Requirement already satisfied: platformdirs in c:\\users\\anita\\appdata\\local\\packages\\pythonsoftwarefoundation.python.3.9_qbz5n2kfra8p0\\localcache\\local-packages\\python39\\site-packages (from libpysal->mesa_geo) (3.10.0)\n",
            "Requirement already satisfied: beautifulsoup4 in c:\\users\\anita\\appdata\\local\\packages\\pythonsoftwarefoundation.python.3.9_qbz5n2kfra8p0\\localcache\\local-packages\\python39\\site-packages (from libpysal->mesa_geo) (4.11.1)\n",
            "Requirement already satisfied: scipy>=0.11 in c:\\users\\anita\\appdata\\local\\packages\\pythonsoftwarefoundation.python.3.9_qbz5n2kfra8p0\\localcache\\local-packages\\python39\\site-packages (from libpysal->mesa_geo) (1.11.2)\n",
            "Requirement already satisfied: colorama in c:\\users\\anita\\appdata\\local\\packages\\pythonsoftwarefoundation.python.3.9_qbz5n2kfra8p0\\localcache\\local-packages\\python39\\site-packages (from click->mesa~=1.1.0->mesa_geo) (0.4.6)\n",
            "Requirement already satisfied: six in c:\\users\\anita\\appdata\\local\\packages\\pythonsoftwarefoundation.python.3.9_qbz5n2kfra8p0\\localcache\\local-packages\\python39\\site-packages (from fiona>=1.8.19->geopandas->mesa_geo) (1.16.0)\n",
            "Requirement already satisfied: importlib-metadata in c:\\users\\anita\\appdata\\local\\packages\\pythonsoftwarefoundation.python.3.9_qbz5n2kfra8p0\\localcache\\local-packages\\python39\\site-packages (from fiona>=1.8.19->geopandas->mesa_geo) (6.8.0)\n",
            "Requirement already satisfied: MarkupSafe>=2.0 in c:\\users\\anita\\appdata\\local\\packages\\pythonsoftwarefoundation.python.3.9_qbz5n2kfra8p0\\localcache\\local-packages\\python39\\site-packages (from jinja2>=2.9->folium->mesa_geo) (2.1.3)\n",
            "Requirement already satisfied: python-dateutil>=2.8.2 in c:\\users\\anita\\appdata\\local\\packages\\pythonsoftwarefoundation.python.3.9_qbz5n2kfra8p0\\localcache\\local-packages\\python39\\site-packages (from pandas->mesa~=1.1.0->mesa_geo) (2.8.2)\n",
            "Requirement already satisfied: pytz>=2020.1 in c:\\users\\anita\\appdata\\local\\packages\\pythonsoftwarefoundation.python.3.9_qbz5n2kfra8p0\\localcache\\local-packages\\python39\\site-packages (from pandas->mesa~=1.1.0->mesa_geo) (2023.3)\n",
            "Requirement already satisfied: tzdata>=2022.1 in c:\\users\\anita\\appdata\\local\\packages\\pythonsoftwarefoundation.python.3.9_qbz5n2kfra8p0\\localcache\\local-packages\\python39\\site-packages (from pandas->mesa~=1.1.0->mesa_geo) (2022.5)\n",
            "Requirement already satisfied: pyparsing>=2.1.6 in c:\\users\\anita\\appdata\\local\\packages\\pythonsoftwarefoundation.python.3.9_qbz5n2kfra8p0\\localcache\\local-packages\\python39\\site-packages (from snuggs>=1.4.1->rasterio>=1.3b1->mesa_geo) (3.0.9)\n",
            "Requirement already satisfied: soupsieve>1.2 in c:\\users\\anita\\appdata\\local\\packages\\pythonsoftwarefoundation.python.3.9_qbz5n2kfra8p0\\localcache\\local-packages\\python39\\site-packages (from beautifulsoup4->libpysal->mesa_geo) (2.3.2.post1)\n",
            "Requirement already satisfied: binaryornot>=0.4.4 in c:\\users\\anita\\appdata\\local\\packages\\pythonsoftwarefoundation.python.3.9_qbz5n2kfra8p0\\localcache\\local-packages\\python39\\site-packages (from cookiecutter->mesa~=1.1.0->mesa_geo) (0.4.4)\n",
            "Requirement already satisfied: pyyaml>=5.3.1 in c:\\users\\anita\\appdata\\local\\packages\\pythonsoftwarefoundation.python.3.9_qbz5n2kfra8p0\\localcache\\local-packages\\python39\\site-packages (from cookiecutter->mesa~=1.1.0->mesa_geo) (6.0.1)\n",
            "Requirement already satisfied: python-slugify>=4.0.0 in c:\\users\\anita\\appdata\\local\\packages\\pythonsoftwarefoundation.python.3.9_qbz5n2kfra8p0\\localcache\\local-packages\\python39\\site-packages (from cookiecutter->mesa~=1.1.0->mesa_geo) (6.1.2)\n",
            "Requirement already satisfied: arrow in c:\\users\\anita\\appdata\\local\\packages\\pythonsoftwarefoundation.python.3.9_qbz5n2kfra8p0\\localcache\\local-packages\\python39\\site-packages (from cookiecutter->mesa~=1.1.0->mesa_geo) (1.2.3)\n",
            "Requirement already satisfied: rich in c:\\users\\anita\\appdata\\local\\packages\\pythonsoftwarefoundation.python.3.9_qbz5n2kfra8p0\\localcache\\local-packages\\python39\\site-packages (from cookiecutter->mesa~=1.1.0->mesa_geo) (13.5.2)\n",
            "Requirement already satisfied: charset-normalizer<3,>=2 in c:\\users\\anita\\appdata\\local\\packages\\pythonsoftwarefoundation.python.3.9_qbz5n2kfra8p0\\localcache\\local-packages\\python39\\site-packages (from requests->folium->mesa_geo) (2.1.1)\n",
            "Requirement already satisfied: idna<4,>=2.5 in c:\\users\\anita\\appdata\\local\\packages\\pythonsoftwarefoundation.python.3.9_qbz5n2kfra8p0\\localcache\\local-packages\\python39\\site-packages (from requests->folium->mesa_geo) (3.4)\n",
            "Requirement already satisfied: urllib3<1.27,>=1.21.1 in c:\\users\\anita\\appdata\\local\\packages\\pythonsoftwarefoundation.python.3.9_qbz5n2kfra8p0\\localcache\\local-packages\\python39\\site-packages (from requests->folium->mesa_geo) (1.26.12)\n",
            "Requirement already satisfied: chardet>=3.0.2 in c:\\users\\anita\\appdata\\local\\packages\\pythonsoftwarefoundation.python.3.9_qbz5n2kfra8p0\\localcache\\local-packages\\python39\\site-packages (from binaryornot>=0.4.4->cookiecutter->mesa~=1.1.0->mesa_geo) (5.2.0)\n",
            "Requirement already satisfied: text-unidecode>=1.3 in c:\\users\\anita\\appdata\\local\\packages\\pythonsoftwarefoundation.python.3.9_qbz5n2kfra8p0\\localcache\\local-packages\\python39\\site-packages (from python-slugify>=4.0.0->cookiecutter->mesa~=1.1.0->mesa_geo) (1.3)\n",
            "Requirement already satisfied: zipp>=0.5 in c:\\users\\anita\\appdata\\local\\packages\\pythonsoftwarefoundation.python.3.9_qbz5n2kfra8p0\\localcache\\local-packages\\python39\\site-packages (from importlib-metadata->fiona>=1.8.19->geopandas->mesa_geo) (3.16.2)\n",
            "Requirement already satisfied: markdown-it-py>=2.2.0 in c:\\users\\anita\\appdata\\local\\packages\\pythonsoftwarefoundation.python.3.9_qbz5n2kfra8p0\\localcache\\local-packages\\python39\\site-packages (from rich->cookiecutter->mesa~=1.1.0->mesa_geo) (3.0.0)\n",
            "Requirement already satisfied: pygments<3.0.0,>=2.13.0 in c:\\users\\anita\\appdata\\local\\packages\\pythonsoftwarefoundation.python.3.9_qbz5n2kfra8p0\\localcache\\local-packages\\python39\\site-packages (from rich->cookiecutter->mesa~=1.1.0->mesa_geo) (2.16.1)\n",
            "Requirement already satisfied: mdurl~=0.1 in c:\\users\\anita\\appdata\\local\\packages\\pythonsoftwarefoundation.python.3.9_qbz5n2kfra8p0\\localcache\\local-packages\\python39\\site-packages (from markdown-it-py>=2.2.0->rich->cookiecutter->mesa~=1.1.0->mesa_geo) (0.1.2)\n",
            "Note: you may need to restart the kernel to use updated packages.\n"
          ]
        }
      ],
      "source": [
        "%pip install mesa\n",
        "%pip install mesa_geo"
      ]
    },
    {
      "cell_type": "code",
      "execution_count": 18,
      "metadata": {
        "id": "-0ZhpXogJM0t"
      },
      "outputs": [],
      "source": [
        "import mesa\n",
        "import mesa_geo as mg\n",
        "import json"
      ]
    },
    {
      "cell_type": "markdown",
      "metadata": {
        "id": "XI70xiHxJrK_"
      },
      "source": [
        "# agents"
      ]
    },
    {
      "cell_type": "code",
      "execution_count": 19,
      "metadata": {
        "id": "caVw-jNHJn9G"
      },
      "outputs": [],
      "source": [
        "class Hospital(mg.GeoAgent):\n",
        "    def __init__(self, unique_id, model, geometry, crs):\n",
        "        super().__init__(unique_id, model, geometry, crs)\n",
        "        self.color_hotspot()\n",
        "\n",
        "    def color_hotspot(self):\n",
        "      # Decide if there are agents here\n",
        "      residents = self.model.space.get_intersecting_agents(self)\n",
        "      patients_here = [resident for resident in residents if resident.atype == \"patient\"]\n",
        "\n",
        "      if len(patients_here) >= 1:\n",
        "          self.atype = \"ocupied\"\n",
        "      else:\n",
        "          self.atype = \"empty\"\n",
        "\n",
        "    def __repr__(self):\n",
        "        return \"Hospital space \" + str(self.unique_id)\n",
        "\n",
        "from shapely.geometry import Point\n",
        "class PersonAgent(mg.GeoAgent):\n",
        "    \"\"\"Person Agent.\"\"\"\n",
        "    def __init__( self, unique_id, model, geometry, crs,\n",
        "        agent_type=\"patient\",\n",
        "        mobility_range=100, # movement per step\n",
        "        recovery_rate=0.2,\n",
        "        death_risk=0.1,\n",
        "        p_worker=0.9,\n",
        "    ):\n",
        "        super().__init__(unique_id, model, geometry, crs)\n",
        "        # Agent parameters\n",
        "        self.atype = agent_type\n",
        "        self.mobility_range = mobility_range\n",
        "\n",
        "        # Random choose if healthcare worker\n",
        "        if self.random.random() < p_worker:\n",
        "            self.atype = \"medical provider\"\n",
        "            self.model.counts[\"patient\"] -= 1  # Adjust initial counts\n",
        "            self.model.counts[\"medical provider\"] += 1\n",
        "\n",
        "    def move_point(self, dx, dy):\n",
        "        \"\"\"\n",
        "        Move a point by creating a new one\n",
        "        :param dx:  Distance to move in x-axis\n",
        "        :param dy:  Distance to move in y-axis\n",
        "        \"\"\"\n",
        "        return Point(self.geometry.x + dx, self.geometry.y + dy)\n",
        "\n",
        "    def step(self):\n",
        "        \"\"\"Advance one step.\"\"\"\n",
        "        if self.random.random() < self.death_risk: self.atype = \"dead\"\n",
        "\n",
        "        # If not dead, move\n",
        "        if self.atype != \"dead\":\n",
        "            move_x = self.random.randint(-self.mobility_range, self.mobility_range)\n",
        "            move_y = self.random.randint(-self.mobility_range, self.mobility_range)\n",
        "            self.geometry = self.move_point(move_x, move_y)  # Reassign geometry\n",
        "\n",
        "        self.model.counts[self.atype] += 1  # Count agent type\n",
        "\n",
        "    def __repr__(self):\n",
        "        return \"Person \" + str(self.unique_id)"
      ]
    },
    {
      "cell_type": "markdown",
      "metadata": {
        "id": "EkVcRTq9JtAV"
      },
      "source": [
        "# Model"
      ]
    },
    {
      "cell_type": "code",
      "execution_count": 20,
      "metadata": {
        "id": "JvlUhHy-Jpuq"
      },
      "outputs": [],
      "source": [
        "class GeoModel(mesa.Model):\n",
        "    # Opening geoJSON files\n",
        "    with open('floorplans/map.geojson') as file:\n",
        "        hospital_rooms = json.load(file)\n",
        "\n",
        "    def __init__(self, pop_size=3, p_worker=0.2):\n",
        "\n",
        "        self.schedule = mesa.time.BaseScheduler(self)\n",
        "        self.space = mg.GeoSpace(warn_crs_conversion=False)\n",
        "        self.steps = 0\n",
        "        self.counts = None\n",
        "        self.reset_counts()\n",
        "\n",
        "        # model parameters\n",
        "        self.pop_size = pop_size\n",
        "        self.counts[\"patient\"] = pop_size\n",
        "\n",
        "        self.running = True\n",
        "        self.datacollector = mesa.DataCollector(\n",
        "            {\n",
        "                \"patient\": get_patient_count,\n",
        "                \"medical provider\": get_med_count,\n",
        "                \"dead\": get_dead_count,\n",
        "            }\n",
        "        )\n",
        "\n",
        "        # Set up the Neighbourhood patches for every region in file\n",
        "        # (add to schedule later)\n",
        "        ac = mg.AgentCreator(agent_class=Hospital, model=self)\n",
        "        neighbourhood_agents = ac.from_GeoJSON(self.hospital_rooms)\n",
        "        self.space.add_agents(neighbourhood_agents)\n",
        "\n",
        "        # Generate PersonAgent population\n",
        "        ac_population = mg.AgentCreator( PersonAgent, model=self, crs=self.space.crs )\n",
        "\n",
        "        # Generate random location, add agent to grid and scheduler\n",
        "        for i in range(pop_size):\n",
        "             # Region where agent starts\n",
        "            this_neighbourhood = self.random.randint(0, len(neighbourhood_agents) - 1)\n",
        "\n",
        "            center_x, center_y = neighbourhood_agents[this_neighbourhood].geometry.centroid.coords.xy\n",
        "            this_bounds = neighbourhood_agents[this_neighbourhood].geometry.bounds\n",
        "\n",
        "            # Heuristic for agent spread in region\n",
        "            spread_x = int(this_bounds[2] - this_bounds[0])\n",
        "            spread_y = int(this_bounds[3] - this_bounds[1])\n",
        "            this_x = center_x[0] + self.random.randint(0, spread_x) - spread_x / 2\n",
        "            this_y = center_y[0] + self.random.randint(0, spread_y) - spread_y / 2\n",
        "\n",
        "            # create and place Person\n",
        "            this_person = ac_population.create_agent(Point(this_x, this_y), \"P\" + str(i))\n",
        "            self.space.add_agents(this_person)\n",
        "            self.schedule.add(this_person)\n",
        "\n",
        "        # Add the neighbourhood agents to schedule AFTER person agents,\n",
        "        # to allow them to update their color by using BaseScheduler\n",
        "        for agent in neighbourhood_agents:\n",
        "            self.schedule.add(agent)\n",
        "\n",
        "        self.datacollector.collect(self)\n",
        "\n",
        "    def reset_counts(self):\n",
        "      self.counts = {\n",
        "          \"patient\": 0,\n",
        "          \"medical provider\": 0,\n",
        "          \"dead\": 0,\n",
        "          \"ocupied\": 0,\n",
        "          \"empty\": 0}\n",
        "\n",
        "    def step(self):\n",
        "        \"\"\"Run one step of the model.\"\"\"\n",
        "        self.steps += 1\n",
        "        self.reset_counts()\n",
        "        self.schedule.step()\n",
        "        # Recalculate spatial tree, because agents are moving\n",
        "        self.space._recreate_rtree()\n",
        "\n",
        "        self.datacollector.collect(self)\n",
        "\n",
        "        # Run until no one is in hospital\n",
        "        if self.counts[\"patient\"] == 0 and self.counts[\"medical provider\"]==0:\n",
        "            self.running = False\n",
        "\n",
        "\n",
        "# Functions needed for datacollector\n",
        "def get_patient_count(model): return model.counts[\"patient\"]\n",
        "def get_med_count(model): return model.counts[\"medical provider\"]\n",
        "def get_dead_count(model): return model.counts[\"dead\"]"
      ]
    },
    {
      "cell_type": "markdown",
      "metadata": {
        "id": "vizdJ6nNMkYm"
      },
      "source": [
        "# server"
      ]
    },
    {
      "cell_type": "code",
      "execution_count": 21,
      "metadata": {
        "id": "vxyAiOD2Mllk"
      },
      "outputs": [],
      "source": [
        "class Text(mesa.visualization.TextElement):\n",
        "    \"\"\"\n",
        "    Display a text\n",
        "    \"\"\"\n",
        "    def __init__(self):\n",
        "        pass\n",
        "\n",
        "    def render(self, model):\n",
        "        return \"Steps: \" + str(model.steps)\n",
        "\n",
        "\n",
        "model_params = {\n",
        "    \"pop_size\": mesa.visualization.Slider(\"Population size\", 30, 10, 100, 10),\n",
        "}\n",
        "\n",
        "def agent_draw(agent):\n",
        "    \"\"\"\n",
        "    Portrayal Method for canvas\n",
        "    \"\"\"\n",
        "    portrayal = {}\n",
        "    if isinstance(agent, PersonAgent): portrayal[\"radius\"] = \"2\"\n",
        "\n",
        "    if agent.atype in [\"ocupied\"]: portrayal[\"color\"] = \"Red\"\n",
        "    elif agent.atype in [\"empty\"]: portrayal[\"color\"] = \"Green\"\n",
        "\n",
        "    elif agent.atype in [\"patient\"]: portrayal[\"color\"] = \"Grey\"\n",
        "    elif agent.atype in [\"medical provider\"]: portrayal[\"color\"] = \"Black\"\n",
        "    elif agent.atype in [\"dead\"]: portrayal[\"color\"] = \"Yellow\"\n",
        "    return portrayal\n",
        "\n",
        "\n",
        "map_element = mg.visualization.MapModule(agent_draw)\n",
        "agents_chart = mesa.visualization.ChartModule(\n",
        "    [\n",
        "        {\"Label\": \"medical provider\", \"Color\": \"Black\"},\n",
        "        {\"Label\": \"patient\", \"Color\": \"Grey\"},\n",
        "        {\"Label\": \"dead\", \"Color\": \"Yellow\"},\n",
        "    ]\n",
        ")\n",
        "\n",
        "server = mesa.visualization.ModularServer(\n",
        "    GeoModel,\n",
        "    [map_element, Text(), agents_chart],\n",
        "    \"agent-based model\",\n",
        "    model_params,\n",
        ")"
      ]
    },
    {
      "cell_type": "code",
      "execution_count": 22,
      "metadata": {
        "colab": {
          "base_uri": "https://localhost:8080/",
          "height": 338
        },
        "id": "GgXsSgacSKJN",
        "outputId": "5f0eedec-ef28-4136-8f34-f03c63f88d1c"
      },
      "outputs": [
        {
          "name": "stdout",
          "output_type": "stream",
          "text": [
            "Interface starting at http://127.0.0.1:8521\n"
          ]
        },
        {
          "ename": "OSError",
          "evalue": "[WinError 10048] Only one usage of each socket address (protocol/network address/port) is normally permitted",
          "output_type": "error",
          "traceback": [
            "\u001b[1;31m---------------------------------------------------------------------------\u001b[0m",
            "\u001b[1;31mOSError\u001b[0m                                   Traceback (most recent call last)",
            "\u001b[1;32mc:\\Users\\anita\\Documents\\GitHub\\health_robot\\hospital_abms.ipynb Cell 10\u001b[0m line \u001b[0;36m1\n\u001b[1;32m----> <a href='vscode-notebook-cell:/c%3A/Users/anita/Documents/GitHub/health_robot/hospital_abms.ipynb#X12sZmlsZQ%3D%3D?line=0'>1</a>\u001b[0m server\u001b[39m.\u001b[39;49mlaunch()\n",
            "File \u001b[1;32m~\\AppData\\Local\\Packages\\PythonSoftwareFoundation.Python.3.9_qbz5n2kfra8p0\\LocalCache\\local-packages\\Python39\\site-packages\\mesa\\visualization\\ModularVisualization.py:406\u001b[0m, in \u001b[0;36mModularServer.launch\u001b[1;34m(self, port, open_browser)\u001b[0m\n\u001b[0;32m    404\u001b[0m url \u001b[39m=\u001b[39m \u001b[39mf\u001b[39m\u001b[39m\"\u001b[39m\u001b[39mhttp://127.0.0.1:\u001b[39m\u001b[39m{\u001b[39;00m\u001b[39mself\u001b[39m\u001b[39m.\u001b[39mport\u001b[39m}\u001b[39;00m\u001b[39m\"\u001b[39m\n\u001b[0;32m    405\u001b[0m \u001b[39mprint\u001b[39m(\u001b[39mf\u001b[39m\u001b[39m\"\u001b[39m\u001b[39mInterface starting at \u001b[39m\u001b[39m{\u001b[39;00murl\u001b[39m}\u001b[39;00m\u001b[39m\"\u001b[39m)\n\u001b[1;32m--> 406\u001b[0m \u001b[39mself\u001b[39;49m\u001b[39m.\u001b[39;49mlisten(\u001b[39mself\u001b[39;49m\u001b[39m.\u001b[39;49mport)\n\u001b[0;32m    407\u001b[0m \u001b[39mif\u001b[39;00m open_browser:\n\u001b[0;32m    408\u001b[0m     webbrowser\u001b[39m.\u001b[39mopen(url)\n",
            "File \u001b[1;32m~\\AppData\\Local\\Packages\\PythonSoftwareFoundation.Python.3.9_qbz5n2kfra8p0\\LocalCache\\local-packages\\Python39\\site-packages\\tornado\\web.py:2207\u001b[0m, in \u001b[0;36mApplication.listen\u001b[1;34m(self, port, address, family, backlog, flags, reuse_port, **kwargs)\u001b[0m\n\u001b[0;32m   2184\u001b[0m \u001b[39m\u001b[39m\u001b[39m\"\"\"Starts an HTTP server for this application on the given port.\u001b[39;00m\n\u001b[0;32m   2185\u001b[0m \n\u001b[0;32m   2186\u001b[0m \u001b[39mThis is a convenience alias for creating an `.HTTPServer` object and\u001b[39;00m\n\u001b[1;32m   (...)\u001b[0m\n\u001b[0;32m   2204\u001b[0m \u001b[39m   including ``reuse_port``.\u001b[39;00m\n\u001b[0;32m   2205\u001b[0m \u001b[39m\"\"\"\u001b[39;00m\n\u001b[0;32m   2206\u001b[0m server \u001b[39m=\u001b[39m HTTPServer(\u001b[39mself\u001b[39m, \u001b[39m*\u001b[39m\u001b[39m*\u001b[39mkwargs)\n\u001b[1;32m-> 2207\u001b[0m server\u001b[39m.\u001b[39;49mlisten(\n\u001b[0;32m   2208\u001b[0m     port,\n\u001b[0;32m   2209\u001b[0m     address\u001b[39m=\u001b[39;49maddress,\n\u001b[0;32m   2210\u001b[0m     family\u001b[39m=\u001b[39;49mfamily,\n\u001b[0;32m   2211\u001b[0m     backlog\u001b[39m=\u001b[39;49mbacklog,\n\u001b[0;32m   2212\u001b[0m     flags\u001b[39m=\u001b[39;49mflags,\n\u001b[0;32m   2213\u001b[0m     reuse_port\u001b[39m=\u001b[39;49mreuse_port,\n\u001b[0;32m   2214\u001b[0m )\n\u001b[0;32m   2215\u001b[0m \u001b[39mreturn\u001b[39;00m server\n",
            "File \u001b[1;32m~\\AppData\\Local\\Packages\\PythonSoftwareFoundation.Python.3.9_qbz5n2kfra8p0\\LocalCache\\local-packages\\Python39\\site-packages\\tornado\\tcpserver.py:183\u001b[0m, in \u001b[0;36mTCPServer.listen\u001b[1;34m(self, port, address, family, backlog, flags, reuse_port)\u001b[0m\n\u001b[0;32m    159\u001b[0m \u001b[39mdef\u001b[39;00m \u001b[39mlisten\u001b[39m(\n\u001b[0;32m    160\u001b[0m     \u001b[39mself\u001b[39m,\n\u001b[0;32m    161\u001b[0m     port: \u001b[39mint\u001b[39m,\n\u001b[1;32m   (...)\u001b[0m\n\u001b[0;32m    166\u001b[0m     reuse_port: \u001b[39mbool\u001b[39m \u001b[39m=\u001b[39m \u001b[39mFalse\u001b[39;00m,\n\u001b[0;32m    167\u001b[0m ) \u001b[39m-\u001b[39m\u001b[39m>\u001b[39m \u001b[39mNone\u001b[39;00m:\n\u001b[0;32m    168\u001b[0m \u001b[39m    \u001b[39m\u001b[39m\"\"\"Starts accepting connections on the given port.\u001b[39;00m\n\u001b[0;32m    169\u001b[0m \n\u001b[0;32m    170\u001b[0m \u001b[39m    This method may be called more than once to listen on multiple ports.\u001b[39;00m\n\u001b[1;32m   (...)\u001b[0m\n\u001b[0;32m    181\u001b[0m \u001b[39m       arguments to match `tornado.netutil.bind_sockets`.\u001b[39;00m\n\u001b[0;32m    182\u001b[0m \u001b[39m    \"\"\"\u001b[39;00m\n\u001b[1;32m--> 183\u001b[0m     sockets \u001b[39m=\u001b[39m bind_sockets(\n\u001b[0;32m    184\u001b[0m         port,\n\u001b[0;32m    185\u001b[0m         address\u001b[39m=\u001b[39;49maddress,\n\u001b[0;32m    186\u001b[0m         family\u001b[39m=\u001b[39;49mfamily,\n\u001b[0;32m    187\u001b[0m         backlog\u001b[39m=\u001b[39;49mbacklog,\n\u001b[0;32m    188\u001b[0m         flags\u001b[39m=\u001b[39;49mflags,\n\u001b[0;32m    189\u001b[0m         reuse_port\u001b[39m=\u001b[39;49mreuse_port,\n\u001b[0;32m    190\u001b[0m     )\n\u001b[0;32m    191\u001b[0m     \u001b[39mself\u001b[39m\u001b[39m.\u001b[39madd_sockets(sockets)\n",
            "File \u001b[1;32m~\\AppData\\Local\\Packages\\PythonSoftwareFoundation.Python.3.9_qbz5n2kfra8p0\\LocalCache\\local-packages\\Python39\\site-packages\\tornado\\netutil.py:162\u001b[0m, in \u001b[0;36mbind_sockets\u001b[1;34m(port, address, family, backlog, flags, reuse_port)\u001b[0m\n\u001b[0;32m    160\u001b[0m sock\u001b[39m.\u001b[39msetblocking(\u001b[39mFalse\u001b[39;00m)\n\u001b[0;32m    161\u001b[0m \u001b[39mtry\u001b[39;00m:\n\u001b[1;32m--> 162\u001b[0m     sock\u001b[39m.\u001b[39;49mbind(sockaddr)\n\u001b[0;32m    163\u001b[0m \u001b[39mexcept\u001b[39;00m \u001b[39mOSError\u001b[39;00m \u001b[39mas\u001b[39;00m e:\n\u001b[0;32m    164\u001b[0m     \u001b[39mif\u001b[39;00m (\n\u001b[0;32m    165\u001b[0m         errno_from_exception(e) \u001b[39m==\u001b[39m errno\u001b[39m.\u001b[39mEADDRNOTAVAIL\n\u001b[0;32m    166\u001b[0m         \u001b[39mand\u001b[39;00m address \u001b[39m==\u001b[39m \u001b[39m\"\u001b[39m\u001b[39mlocalhost\u001b[39m\u001b[39m\"\u001b[39m\n\u001b[1;32m   (...)\u001b[0m\n\u001b[0;32m    178\u001b[0m         \u001b[39m# might be a real problem like a typo in a\u001b[39;00m\n\u001b[0;32m    179\u001b[0m         \u001b[39m# configuration.\u001b[39;00m\n",
            "\u001b[1;31mOSError\u001b[0m: [WinError 10048] Only one usage of each socket address (protocol/network address/port) is normally permitted"
          ]
        },
        {
          "name": "stdout",
          "output_type": "stream",
          "text": [
            "Socket opened!\n",
            "{\"type\":\"reset\"}\n",
            "{\"type\":\"get_step\",\"step\":1}\n"
          ]
        }
      ],
      "source": [
        "server.launch()"
      ]
    },
    {
      "cell_type": "code",
      "execution_count": null,
      "metadata": {},
      "outputs": [],
      "source": []
    }
  ],
  "metadata": {
    "colab": {
      "authorship_tag": "ABX9TyOuitYa7THSVi7eR3KeuLbX",
      "include_colab_link": true,
      "provenance": []
    },
    "kernelspec": {
      "display_name": "Python 3",
      "name": "python3"
    },
    "language_info": {
      "codemirror_mode": {
        "name": "ipython",
        "version": 3
      },
      "file_extension": ".py",
      "mimetype": "text/x-python",
      "name": "python",
      "nbconvert_exporter": "python",
      "pygments_lexer": "ipython3",
      "version": "3.9.13"
    }
  },
  "nbformat": 4,
  "nbformat_minor": 0
}
