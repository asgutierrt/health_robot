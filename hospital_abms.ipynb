{
  "nbformat": 4,
  "nbformat_minor": 0,
  "metadata": {
    "colab": {
      "provenance": [],
      "authorship_tag": "ABX9TyOuitYa7THSVi7eR3KeuLbX",
      "include_colab_link": true
    },
    "kernelspec": {
      "name": "python3",
      "display_name": "Python 3"
    },
    "language_info": {
      "name": "python"
    }
  },
  "cells": [
    {
      "cell_type": "markdown",
      "metadata": {
        "id": "view-in-github",
        "colab_type": "text"
      },
      "source": [
        "<a href=\"https://colab.research.google.com/github/asgutierrt/health_robot/blob/main/hospital_abms.ipynb\" target=\"_parent\"><img src=\"https://colab.research.google.com/assets/colab-badge.svg\" alt=\"Open In Colab\"/></a>"
      ]
    },
    {
      "cell_type": "code",
      "source": [
        "!pip install mesa\n",
        "!pip install mesa_geo"
      ],
      "metadata": {
        "id": "jB6fzTCzJf8m",
        "colab": {
          "base_uri": "https://localhost:8080/"
        },
        "outputId": "49f955d0-e039-4d9b-97d8-9d9767b5639a"
      },
      "execution_count": 1,
      "outputs": [
        {
          "output_type": "stream",
          "name": "stdout",
          "text": [
            "Collecting mesa\n",
            "  Downloading Mesa-2.1.1-py3-none-any.whl (1.8 MB)\n",
            "\u001b[2K     \u001b[90m━━━━━━━━━━━━━━━━━━━━━━━━━━━━━━━━━━━━━━━━\u001b[0m \u001b[32m1.8/1.8 MB\u001b[0m \u001b[31m18.8 MB/s\u001b[0m eta \u001b[36m0:00:00\u001b[0m\n",
            "\u001b[?25hRequirement already satisfied: click in /usr/local/lib/python3.10/dist-packages (from mesa) (8.1.7)\n",
            "Collecting cookiecutter (from mesa)\n",
            "  Downloading cookiecutter-2.3.0-py3-none-any.whl (39 kB)\n",
            "Requirement already satisfied: networkx in /usr/local/lib/python3.10/dist-packages (from mesa) (3.1)\n",
            "Requirement already satisfied: numpy in /usr/local/lib/python3.10/dist-packages (from mesa) (1.23.5)\n",
            "Requirement already satisfied: pandas in /usr/local/lib/python3.10/dist-packages (from mesa) (1.5.3)\n",
            "Collecting solara (from mesa)\n",
            "  Downloading solara-1.19.0-py2.py3-none-any.whl (13.1 MB)\n",
            "\u001b[2K     \u001b[90m━━━━━━━━━━━━━━━━━━━━━━━━━━━━━━━━━━━━━━━━\u001b[0m \u001b[32m13.1/13.1 MB\u001b[0m \u001b[31m52.9 MB/s\u001b[0m eta \u001b[36m0:00:00\u001b[0m\n",
            "\u001b[?25hRequirement already satisfied: tornado in /usr/local/lib/python3.10/dist-packages (from mesa) (6.3.2)\n",
            "Requirement already satisfied: tqdm in /usr/local/lib/python3.10/dist-packages (from mesa) (4.66.1)\n",
            "Collecting binaryornot>=0.4.4 (from cookiecutter->mesa)\n",
            "  Downloading binaryornot-0.4.4-py2.py3-none-any.whl (9.0 kB)\n",
            "Requirement already satisfied: Jinja2<4.0.0,>=2.7 in /usr/local/lib/python3.10/dist-packages (from cookiecutter->mesa) (3.1.2)\n",
            "Requirement already satisfied: pyyaml>=5.3.1 in /usr/local/lib/python3.10/dist-packages (from cookiecutter->mesa) (6.0.1)\n",
            "Requirement already satisfied: python-slugify>=4.0.0 in /usr/local/lib/python3.10/dist-packages (from cookiecutter->mesa) (8.0.1)\n",
            "Requirement already satisfied: requests>=2.23.0 in /usr/local/lib/python3.10/dist-packages (from cookiecutter->mesa) (2.31.0)\n",
            "Collecting arrow (from cookiecutter->mesa)\n",
            "  Downloading arrow-1.2.3-py3-none-any.whl (66 kB)\n",
            "\u001b[2K     \u001b[90m━━━━━━━━━━━━━━━━━━━━━━━━━━━━━━━━━━━━━━━━\u001b[0m \u001b[32m66.4/66.4 kB\u001b[0m \u001b[31m5.4 MB/s\u001b[0m eta \u001b[36m0:00:00\u001b[0m\n",
            "\u001b[?25hRequirement already satisfied: rich in /usr/local/lib/python3.10/dist-packages (from cookiecutter->mesa) (13.5.2)\n",
            "Requirement already satisfied: python-dateutil>=2.8.1 in /usr/local/lib/python3.10/dist-packages (from pandas->mesa) (2.8.2)\n",
            "Requirement already satisfied: pytz>=2020.1 in /usr/local/lib/python3.10/dist-packages (from pandas->mesa) (2023.3.post1)\n",
            "Requirement already satisfied: cachetools in /usr/local/lib/python3.10/dist-packages (from solara->mesa) (5.3.1)\n",
            "Requirement already satisfied: filelock in /usr/local/lib/python3.10/dist-packages (from solara->mesa) (3.12.2)\n",
            "Requirement already satisfied: humanize in /usr/local/lib/python3.10/dist-packages (from solara->mesa) (4.7.0)\n",
            "Requirement already satisfied: ipykernel in /usr/local/lib/python3.10/dist-packages (from solara->mesa) (5.5.6)\n",
            "Collecting ipyvue>=1.9.0 (from solara->mesa)\n",
            "  Downloading ipyvue-1.10.1-py2.py3-none-any.whl (2.7 MB)\n",
            "\u001b[2K     \u001b[90m━━━━━━━━━━━━━━━━━━━━━━━━━━━━━━━━━━━━━━━━\u001b[0m \u001b[32m2.7/2.7 MB\u001b[0m \u001b[31m56.1 MB/s\u001b[0m eta \u001b[36m0:00:00\u001b[0m\n",
            "\u001b[?25hCollecting ipyvuetify>=1.8.10 (from solara->mesa)\n",
            "  Downloading ipyvuetify-1.8.10-py2.py3-none-any.whl (11.7 MB)\n",
            "\u001b[2K     \u001b[90m━━━━━━━━━━━━━━━━━━━━━━━━━━━━━━━━━━━━━━━━\u001b[0m \u001b[32m11.7/11.7 MB\u001b[0m \u001b[31m60.1 MB/s\u001b[0m eta \u001b[36m0:00:00\u001b[0m\n",
            "\u001b[?25hRequirement already satisfied: ipywidgets in /usr/local/lib/python3.10/dist-packages (from solara->mesa) (7.7.1)\n",
            "Collecting jupyter-client>=7.0.0 (from solara->mesa)\n",
            "  Downloading jupyter_client-8.3.1-py3-none-any.whl (104 kB)\n",
            "\u001b[2K     \u001b[90m━━━━━━━━━━━━━━━━━━━━━━━━━━━━━━━━━━━━━━\u001b[0m \u001b[32m104.1/104.1 kB\u001b[0m \u001b[31m10.4 MB/s\u001b[0m eta \u001b[36m0:00:00\u001b[0m\n",
            "\u001b[?25hRequirement already satisfied: markdown in /usr/local/lib/python3.10/dist-packages (from solara->mesa) (3.4.4)\n",
            "Requirement already satisfied: markupsafe in /usr/local/lib/python3.10/dist-packages (from solara->mesa) (2.1.3)\n",
            "Requirement already satisfied: nbformat in /usr/local/lib/python3.10/dist-packages (from solara->mesa) (5.9.2)\n",
            "Collecting pymdown-extensions (from solara->mesa)\n",
            "  Downloading pymdown_extensions-10.3-py3-none-any.whl (241 kB)\n",
            "\u001b[2K     \u001b[90m━━━━━━━━━━━━━━━━━━━━━━━━━━━━━━━━━━━━━━━\u001b[0m \u001b[32m241.0/241.0 kB\u001b[0m \u001b[31m9.7 MB/s\u001b[0m eta \u001b[36m0:00:00\u001b[0m\n",
            "\u001b[?25hCollecting reacton>=1.7.1 (from solara->mesa)\n",
            "  Downloading reacton-1.7.1-py2.py3-none-any.whl (106 kB)\n",
            "\u001b[2K     \u001b[90m━━━━━━━━━━━━━━━━━━━━━━━━━━━━━━━━━━━━━━━\u001b[0m \u001b[32m106.4/106.4 kB\u001b[0m \u001b[31m4.5 MB/s\u001b[0m eta \u001b[36m0:00:00\u001b[0m\n",
            "\u001b[?25hCollecting rich-click (from solara->mesa)\n",
            "  Downloading rich_click-1.6.1-py3-none-any.whl (19 kB)\n",
            "Collecting starlette (from solara->mesa)\n",
            "  Downloading starlette-0.31.1-py3-none-any.whl (69 kB)\n",
            "\u001b[2K     \u001b[90m━━━━━━━━━━━━━━━━━━━━━━━━━━━━━━━━━━━━━━━━\u001b[0m \u001b[32m69.9/69.9 kB\u001b[0m \u001b[31m7.1 MB/s\u001b[0m eta \u001b[36m0:00:00\u001b[0m\n",
            "\u001b[?25hCollecting uvicorn (from solara->mesa)\n",
            "  Downloading uvicorn-0.23.2-py3-none-any.whl (59 kB)\n",
            "\u001b[2K     \u001b[90m━━━━━━━━━━━━━━━━━━━━━━━━━━━━━━━━━━━━━━━━\u001b[0m \u001b[32m59.5/59.5 kB\u001b[0m \u001b[31m6.3 MB/s\u001b[0m eta \u001b[36m0:00:00\u001b[0m\n",
            "\u001b[?25hCollecting watchdog (from solara->mesa)\n",
            "  Downloading watchdog-3.0.0-py3-none-manylinux2014_x86_64.whl (82 kB)\n",
            "\u001b[2K     \u001b[90m━━━━━━━━━━━━━━━━━━━━━━━━━━━━━━━━━━━━━━━━\u001b[0m \u001b[32m82.1/82.1 kB\u001b[0m \u001b[31m7.6 MB/s\u001b[0m eta \u001b[36m0:00:00\u001b[0m\n",
            "\u001b[?25hCollecting websockets (from solara->mesa)\n",
            "  Downloading websockets-11.0.3-cp310-cp310-manylinux_2_5_x86_64.manylinux1_x86_64.manylinux_2_17_x86_64.manylinux2014_x86_64.whl (129 kB)\n",
            "\u001b[2K     \u001b[90m━━━━━━━━━━━━━━━━━━━━━━━━━━━━━━━━━━━━━━\u001b[0m \u001b[32m129.9/129.9 kB\u001b[0m \u001b[31m13.4 MB/s\u001b[0m eta \u001b[36m0:00:00\u001b[0m\n",
            "\u001b[?25hRequirement already satisfied: chardet>=3.0.2 in /usr/local/lib/python3.10/dist-packages (from binaryornot>=0.4.4->cookiecutter->mesa) (5.2.0)\n",
            "Requirement already satisfied: ipython-genutils~=0.2.0 in /usr/local/lib/python3.10/dist-packages (from ipywidgets->solara->mesa) (0.2.0)\n",
            "Requirement already satisfied: traitlets>=4.3.1 in /usr/local/lib/python3.10/dist-packages (from ipywidgets->solara->mesa) (5.7.1)\n",
            "Requirement already satisfied: widgetsnbextension~=3.6.0 in /usr/local/lib/python3.10/dist-packages (from ipywidgets->solara->mesa) (3.6.5)\n",
            "Requirement already satisfied: ipython>=4.0.0 in /usr/local/lib/python3.10/dist-packages (from ipywidgets->solara->mesa) (7.34.0)\n",
            "Requirement already satisfied: jupyterlab-widgets>=1.0.0 in /usr/local/lib/python3.10/dist-packages (from ipywidgets->solara->mesa) (3.0.8)\n",
            "Requirement already satisfied: jupyter-core!=5.0.*,>=4.12 in /usr/local/lib/python3.10/dist-packages (from jupyter-client>=7.0.0->solara->mesa) (5.3.1)\n",
            "Requirement already satisfied: pyzmq>=23.0 in /usr/local/lib/python3.10/dist-packages (from jupyter-client>=7.0.0->solara->mesa) (23.2.1)\n",
            "Requirement already satisfied: six>=1.5 in /usr/local/lib/python3.10/dist-packages (from python-dateutil>=2.8.1->pandas->mesa) (1.16.0)\n",
            "Requirement already satisfied: text-unidecode>=1.3 in /usr/local/lib/python3.10/dist-packages (from python-slugify>=4.0.0->cookiecutter->mesa) (1.3)\n",
            "Requirement already satisfied: typing-extensions>=4.1.1 in /usr/local/lib/python3.10/dist-packages (from reacton>=1.7.1->solara->mesa) (4.5.0)\n",
            "Requirement already satisfied: charset-normalizer<4,>=2 in /usr/local/lib/python3.10/dist-packages (from requests>=2.23.0->cookiecutter->mesa) (3.2.0)\n",
            "Requirement already satisfied: idna<4,>=2.5 in /usr/local/lib/python3.10/dist-packages (from requests>=2.23.0->cookiecutter->mesa) (3.4)\n",
            "Requirement already satisfied: urllib3<3,>=1.21.1 in /usr/local/lib/python3.10/dist-packages (from requests>=2.23.0->cookiecutter->mesa) (2.0.4)\n",
            "Requirement already satisfied: certifi>=2017.4.17 in /usr/local/lib/python3.10/dist-packages (from requests>=2.23.0->cookiecutter->mesa) (2023.7.22)\n",
            "Requirement already satisfied: fastjsonschema in /usr/local/lib/python3.10/dist-packages (from nbformat->solara->mesa) (2.18.0)\n",
            "Requirement already satisfied: jsonschema>=2.6 in /usr/local/lib/python3.10/dist-packages (from nbformat->solara->mesa) (4.19.0)\n",
            "Requirement already satisfied: markdown-it-py>=2.2.0 in /usr/local/lib/python3.10/dist-packages (from rich->cookiecutter->mesa) (3.0.0)\n",
            "Requirement already satisfied: pygments<3.0.0,>=2.13.0 in /usr/local/lib/python3.10/dist-packages (from rich->cookiecutter->mesa) (2.16.1)\n",
            "Requirement already satisfied: anyio<5,>=3.4.0 in /usr/local/lib/python3.10/dist-packages (from starlette->solara->mesa) (3.7.1)\n",
            "Collecting h11>=0.8 (from uvicorn->solara->mesa)\n",
            "  Downloading h11-0.14.0-py3-none-any.whl (58 kB)\n",
            "\u001b[2K     \u001b[90m━━━━━━━━━━━━━━━━━━━━━━━━━━━━━━━━━━━━━━━━\u001b[0m \u001b[32m58.3/58.3 kB\u001b[0m \u001b[31m5.7 MB/s\u001b[0m eta \u001b[36m0:00:00\u001b[0m\n",
            "\u001b[?25hRequirement already satisfied: sniffio>=1.1 in /usr/local/lib/python3.10/dist-packages (from anyio<5,>=3.4.0->starlette->solara->mesa) (1.3.0)\n",
            "Requirement already satisfied: exceptiongroup in /usr/local/lib/python3.10/dist-packages (from anyio<5,>=3.4.0->starlette->solara->mesa) (1.1.3)\n",
            "Requirement already satisfied: setuptools>=18.5 in /usr/local/lib/python3.10/dist-packages (from ipython>=4.0.0->ipywidgets->solara->mesa) (67.7.2)\n",
            "Collecting jedi>=0.16 (from ipython>=4.0.0->ipywidgets->solara->mesa)\n",
            "  Downloading jedi-0.19.0-py2.py3-none-any.whl (1.6 MB)\n",
            "\u001b[2K     \u001b[90m━━━━━━━━━━━━━━━━━━━━━━━━━━━━━━━━━━━━━━━━\u001b[0m \u001b[32m1.6/1.6 MB\u001b[0m \u001b[31m45.8 MB/s\u001b[0m eta \u001b[36m0:00:00\u001b[0m\n",
            "\u001b[?25hRequirement already satisfied: decorator in /usr/local/lib/python3.10/dist-packages (from ipython>=4.0.0->ipywidgets->solara->mesa) (4.4.2)\n",
            "Requirement already satisfied: pickleshare in /usr/local/lib/python3.10/dist-packages (from ipython>=4.0.0->ipywidgets->solara->mesa) (0.7.5)\n",
            "Requirement already satisfied: prompt-toolkit!=3.0.0,!=3.0.1,<3.1.0,>=2.0.0 in /usr/local/lib/python3.10/dist-packages (from ipython>=4.0.0->ipywidgets->solara->mesa) (3.0.39)\n",
            "Requirement already satisfied: backcall in /usr/local/lib/python3.10/dist-packages (from ipython>=4.0.0->ipywidgets->solara->mesa) (0.2.0)\n",
            "Requirement already satisfied: matplotlib-inline in /usr/local/lib/python3.10/dist-packages (from ipython>=4.0.0->ipywidgets->solara->mesa) (0.1.6)\n",
            "Requirement already satisfied: pexpect>4.3 in /usr/local/lib/python3.10/dist-packages (from ipython>=4.0.0->ipywidgets->solara->mesa) (4.8.0)\n",
            "Requirement already satisfied: attrs>=22.2.0 in /usr/local/lib/python3.10/dist-packages (from jsonschema>=2.6->nbformat->solara->mesa) (23.1.0)\n",
            "Requirement already satisfied: jsonschema-specifications>=2023.03.6 in /usr/local/lib/python3.10/dist-packages (from jsonschema>=2.6->nbformat->solara->mesa) (2023.7.1)\n",
            "Requirement already satisfied: referencing>=0.28.4 in /usr/local/lib/python3.10/dist-packages (from jsonschema>=2.6->nbformat->solara->mesa) (0.30.2)\n",
            "Requirement already satisfied: rpds-py>=0.7.1 in /usr/local/lib/python3.10/dist-packages (from jsonschema>=2.6->nbformat->solara->mesa) (0.10.2)\n",
            "Requirement already satisfied: platformdirs>=2.5 in /usr/local/lib/python3.10/dist-packages (from jupyter-core!=5.0.*,>=4.12->jupyter-client>=7.0.0->solara->mesa) (3.10.0)\n",
            "Requirement already satisfied: mdurl~=0.1 in /usr/local/lib/python3.10/dist-packages (from markdown-it-py>=2.2.0->rich->cookiecutter->mesa) (0.1.2)\n",
            "Requirement already satisfied: notebook>=4.4.1 in /usr/local/lib/python3.10/dist-packages (from widgetsnbextension~=3.6.0->ipywidgets->solara->mesa) (6.5.5)\n",
            "Requirement already satisfied: parso<0.9.0,>=0.8.3 in /usr/local/lib/python3.10/dist-packages (from jedi>=0.16->ipython>=4.0.0->ipywidgets->solara->mesa) (0.8.3)\n",
            "Requirement already satisfied: argon2-cffi in /usr/local/lib/python3.10/dist-packages (from notebook>=4.4.1->widgetsnbextension~=3.6.0->ipywidgets->solara->mesa) (23.1.0)\n",
            "Collecting jupyter-client>=7.0.0 (from solara->mesa)\n",
            "  Downloading jupyter_client-7.4.9-py3-none-any.whl (133 kB)\n",
            "\u001b[2K     \u001b[90m━━━━━━━━━━━━━━━━━━━━━━━━━━━━━━━━━━━━━━━\u001b[0m \u001b[32m133.5/133.5 kB\u001b[0m \u001b[31m6.3 MB/s\u001b[0m eta \u001b[36m0:00:00\u001b[0m\n",
            "\u001b[?25hRequirement already satisfied: nbconvert>=5 in /usr/local/lib/python3.10/dist-packages (from notebook>=4.4.1->widgetsnbextension~=3.6.0->ipywidgets->solara->mesa) (6.5.4)\n",
            "Requirement already satisfied: nest-asyncio>=1.5 in /usr/local/lib/python3.10/dist-packages (from notebook>=4.4.1->widgetsnbextension~=3.6.0->ipywidgets->solara->mesa) (1.5.7)\n",
            "Requirement already satisfied: Send2Trash>=1.8.0 in /usr/local/lib/python3.10/dist-packages (from notebook>=4.4.1->widgetsnbextension~=3.6.0->ipywidgets->solara->mesa) (1.8.2)\n",
            "Requirement already satisfied: terminado>=0.8.3 in /usr/local/lib/python3.10/dist-packages (from notebook>=4.4.1->widgetsnbextension~=3.6.0->ipywidgets->solara->mesa) (0.17.1)\n",
            "Requirement already satisfied: prometheus-client in /usr/local/lib/python3.10/dist-packages (from notebook>=4.4.1->widgetsnbextension~=3.6.0->ipywidgets->solara->mesa) (0.17.1)\n",
            "Requirement already satisfied: nbclassic>=0.4.7 in /usr/local/lib/python3.10/dist-packages (from notebook>=4.4.1->widgetsnbextension~=3.6.0->ipywidgets->solara->mesa) (1.0.0)\n",
            "Requirement already satisfied: entrypoints in /usr/local/lib/python3.10/dist-packages (from jupyter-client>=7.0.0->solara->mesa) (0.4)\n",
            "Requirement already satisfied: ptyprocess>=0.5 in /usr/local/lib/python3.10/dist-packages (from pexpect>4.3->ipython>=4.0.0->ipywidgets->solara->mesa) (0.7.0)\n",
            "Requirement already satisfied: wcwidth in /usr/local/lib/python3.10/dist-packages (from prompt-toolkit!=3.0.0,!=3.0.1,<3.1.0,>=2.0.0->ipython>=4.0.0->ipywidgets->solara->mesa) (0.2.6)\n",
            "Requirement already satisfied: jupyter-server>=1.8 in /usr/local/lib/python3.10/dist-packages (from nbclassic>=0.4.7->notebook>=4.4.1->widgetsnbextension~=3.6.0->ipywidgets->solara->mesa) (1.24.0)\n",
            "Requirement already satisfied: notebook-shim>=0.2.3 in /usr/local/lib/python3.10/dist-packages (from nbclassic>=0.4.7->notebook>=4.4.1->widgetsnbextension~=3.6.0->ipywidgets->solara->mesa) (0.2.3)\n",
            "Requirement already satisfied: lxml in /usr/local/lib/python3.10/dist-packages (from nbconvert>=5->notebook>=4.4.1->widgetsnbextension~=3.6.0->ipywidgets->solara->mesa) (4.9.3)\n",
            "Requirement already satisfied: beautifulsoup4 in /usr/local/lib/python3.10/dist-packages (from nbconvert>=5->notebook>=4.4.1->widgetsnbextension~=3.6.0->ipywidgets->solara->mesa) (4.11.2)\n",
            "Requirement already satisfied: bleach in /usr/local/lib/python3.10/dist-packages (from nbconvert>=5->notebook>=4.4.1->widgetsnbextension~=3.6.0->ipywidgets->solara->mesa) (6.0.0)\n",
            "Requirement already satisfied: defusedxml in /usr/local/lib/python3.10/dist-packages (from nbconvert>=5->notebook>=4.4.1->widgetsnbextension~=3.6.0->ipywidgets->solara->mesa) (0.7.1)\n",
            "Requirement already satisfied: jupyterlab-pygments in /usr/local/lib/python3.10/dist-packages (from nbconvert>=5->notebook>=4.4.1->widgetsnbextension~=3.6.0->ipywidgets->solara->mesa) (0.2.2)\n",
            "Requirement already satisfied: mistune<2,>=0.8.1 in /usr/local/lib/python3.10/dist-packages (from nbconvert>=5->notebook>=4.4.1->widgetsnbextension~=3.6.0->ipywidgets->solara->mesa) (0.8.4)\n",
            "Requirement already satisfied: nbclient>=0.5.0 in /usr/local/lib/python3.10/dist-packages (from nbconvert>=5->notebook>=4.4.1->widgetsnbextension~=3.6.0->ipywidgets->solara->mesa) (0.8.0)\n",
            "Requirement already satisfied: packaging in /usr/local/lib/python3.10/dist-packages (from nbconvert>=5->notebook>=4.4.1->widgetsnbextension~=3.6.0->ipywidgets->solara->mesa) (23.1)\n",
            "Requirement already satisfied: pandocfilters>=1.4.1 in /usr/local/lib/python3.10/dist-packages (from nbconvert>=5->notebook>=4.4.1->widgetsnbextension~=3.6.0->ipywidgets->solara->mesa) (1.5.0)\n",
            "Requirement already satisfied: tinycss2 in /usr/local/lib/python3.10/dist-packages (from nbconvert>=5->notebook>=4.4.1->widgetsnbextension~=3.6.0->ipywidgets->solara->mesa) (1.2.1)\n",
            "Requirement already satisfied: argon2-cffi-bindings in /usr/local/lib/python3.10/dist-packages (from argon2-cffi->notebook>=4.4.1->widgetsnbextension~=3.6.0->ipywidgets->solara->mesa) (21.2.0)\n",
            "Requirement already satisfied: websocket-client in /usr/local/lib/python3.10/dist-packages (from jupyter-server>=1.8->nbclassic>=0.4.7->notebook>=4.4.1->widgetsnbextension~=3.6.0->ipywidgets->solara->mesa) (1.6.2)\n",
            "Requirement already satisfied: cffi>=1.0.1 in /usr/local/lib/python3.10/dist-packages (from argon2-cffi-bindings->argon2-cffi->notebook>=4.4.1->widgetsnbextension~=3.6.0->ipywidgets->solara->mesa) (1.15.1)\n",
            "Requirement already satisfied: soupsieve>1.2 in /usr/local/lib/python3.10/dist-packages (from beautifulsoup4->nbconvert>=5->notebook>=4.4.1->widgetsnbextension~=3.6.0->ipywidgets->solara->mesa) (2.5)\n",
            "Requirement already satisfied: webencodings in /usr/local/lib/python3.10/dist-packages (from bleach->nbconvert>=5->notebook>=4.4.1->widgetsnbextension~=3.6.0->ipywidgets->solara->mesa) (0.5.1)\n",
            "Requirement already satisfied: pycparser in /usr/local/lib/python3.10/dist-packages (from cffi>=1.0.1->argon2-cffi-bindings->argon2-cffi->notebook>=4.4.1->widgetsnbextension~=3.6.0->ipywidgets->solara->mesa) (2.21)\n",
            "Installing collected packages: websockets, watchdog, pymdown-extensions, jedi, h11, binaryornot, uvicorn, starlette, jupyter-client, arrow, rich-click, cookiecutter, reacton, ipyvue, ipyvuetify, solara, mesa\n",
            "  Attempting uninstall: jupyter-client\n",
            "    Found existing installation: jupyter-client 6.1.12\n",
            "    Uninstalling jupyter-client-6.1.12:\n",
            "      Successfully uninstalled jupyter-client-6.1.12\n",
            "Successfully installed arrow-1.2.3 binaryornot-0.4.4 cookiecutter-2.3.0 h11-0.14.0 ipyvue-1.10.1 ipyvuetify-1.8.10 jedi-0.19.0 jupyter-client-7.4.9 mesa-2.1.1 pymdown-extensions-10.3 reacton-1.7.1 rich-click-1.6.1 solara-1.19.0 starlette-0.31.1 uvicorn-0.23.2 watchdog-3.0.0 websockets-11.0.3\n",
            "Collecting mesa_geo\n",
            "  Downloading Mesa_Geo-0.6.0-py3-none-any.whl (66 kB)\n",
            "\u001b[2K     \u001b[90m━━━━━━━━━━━━━━━━━━━━━━━━━━━━━━━━━━━━━━━━\u001b[0m \u001b[32m66.9/66.9 kB\u001b[0m \u001b[31m1.1 MB/s\u001b[0m eta \u001b[36m0:00:00\u001b[0m\n",
            "\u001b[?25hRequirement already satisfied: mesa~=2.1.0 in /usr/local/lib/python3.10/dist-packages (from mesa_geo) (2.1.1)\n",
            "Requirement already satisfied: geopandas in /usr/local/lib/python3.10/dist-packages (from mesa_geo) (0.13.2)\n",
            "Collecting libpysal (from mesa_geo)\n",
            "  Downloading libpysal-4.7.0-py3-none-any.whl (2.4 MB)\n",
            "\u001b[2K     \u001b[90m━━━━━━━━━━━━━━━━━━━━━━━━━━━━━━━━━━━━━━━━\u001b[0m \u001b[32m2.4/2.4 MB\u001b[0m \u001b[31m26.8 MB/s\u001b[0m eta \u001b[36m0:00:00\u001b[0m\n",
            "\u001b[?25hCollecting rtree (from mesa_geo)\n",
            "  Downloading Rtree-1.0.1-cp310-cp310-manylinux_2_17_x86_64.manylinux2014_x86_64.whl (1.0 MB)\n",
            "\u001b[2K     \u001b[90m━━━━━━━━━━━━━━━━━━━━━━━━━━━━━━━━━━━━━━━━\u001b[0m \u001b[32m1.0/1.0 MB\u001b[0m \u001b[31m47.0 MB/s\u001b[0m eta \u001b[36m0:00:00\u001b[0m\n",
            "\u001b[?25hCollecting rasterio (from mesa_geo)\n",
            "  Downloading rasterio-1.3.8-cp310-cp310-manylinux_2_17_x86_64.manylinux2014_x86_64.whl (21.3 MB)\n",
            "\u001b[2K     \u001b[90m━━━━━━━━━━━━━━━━━━━━━━━━━━━━━━━━━━━━━━━━\u001b[0m \u001b[32m21.3/21.3 MB\u001b[0m \u001b[31m48.2 MB/s\u001b[0m eta \u001b[36m0:00:00\u001b[0m\n",
            "\u001b[?25hRequirement already satisfied: shapely in /usr/local/lib/python3.10/dist-packages (from mesa_geo) (2.0.1)\n",
            "Requirement already satisfied: numpy in /usr/local/lib/python3.10/dist-packages (from mesa_geo) (1.23.5)\n",
            "Requirement already satisfied: pyproj in /usr/local/lib/python3.10/dist-packages (from mesa_geo) (3.6.0)\n",
            "Requirement already satisfied: folium in /usr/local/lib/python3.10/dist-packages (from mesa_geo) (0.14.0)\n",
            "Requirement already satisfied: xyzservices>=2022.9.0 in /usr/local/lib/python3.10/dist-packages (from mesa_geo) (2023.7.0)\n",
            "Requirement already satisfied: click in /usr/local/lib/python3.10/dist-packages (from mesa~=2.1.0->mesa_geo) (8.1.7)\n",
            "Requirement already satisfied: cookiecutter in /usr/local/lib/python3.10/dist-packages (from mesa~=2.1.0->mesa_geo) (2.3.0)\n",
            "Requirement already satisfied: networkx in /usr/local/lib/python3.10/dist-packages (from mesa~=2.1.0->mesa_geo) (3.1)\n",
            "Requirement already satisfied: pandas in /usr/local/lib/python3.10/dist-packages (from mesa~=2.1.0->mesa_geo) (1.5.3)\n",
            "Requirement already satisfied: solara in /usr/local/lib/python3.10/dist-packages (from mesa~=2.1.0->mesa_geo) (1.19.0)\n",
            "Requirement already satisfied: tornado in /usr/local/lib/python3.10/dist-packages (from mesa~=2.1.0->mesa_geo) (6.3.2)\n",
            "Requirement already satisfied: tqdm in /usr/local/lib/python3.10/dist-packages (from mesa~=2.1.0->mesa_geo) (4.66.1)\n",
            "Requirement already satisfied: branca>=0.6.0 in /usr/local/lib/python3.10/dist-packages (from folium->mesa_geo) (0.6.0)\n",
            "Requirement already satisfied: jinja2>=2.9 in /usr/local/lib/python3.10/dist-packages (from folium->mesa_geo) (3.1.2)\n",
            "Requirement already satisfied: requests in /usr/local/lib/python3.10/dist-packages (from folium->mesa_geo) (2.31.0)\n",
            "Requirement already satisfied: fiona>=1.8.19 in /usr/local/lib/python3.10/dist-packages (from geopandas->mesa_geo) (1.9.4.post1)\n",
            "Requirement already satisfied: packaging in /usr/local/lib/python3.10/dist-packages (from geopandas->mesa_geo) (23.1)\n",
            "Requirement already satisfied: certifi in /usr/local/lib/python3.10/dist-packages (from pyproj->mesa_geo) (2023.7.22)\n",
            "Requirement already satisfied: platformdirs in /usr/local/lib/python3.10/dist-packages (from libpysal->mesa_geo) (3.10.0)\n",
            "Requirement already satisfied: beautifulsoup4 in /usr/local/lib/python3.10/dist-packages (from libpysal->mesa_geo) (4.11.2)\n",
            "Requirement already satisfied: scipy>=0.11 in /usr/local/lib/python3.10/dist-packages (from libpysal->mesa_geo) (1.11.2)\n",
            "Collecting affine (from rasterio->mesa_geo)\n",
            "  Downloading affine-2.4.0-py3-none-any.whl (15 kB)\n",
            "Requirement already satisfied: attrs in /usr/local/lib/python3.10/dist-packages (from rasterio->mesa_geo) (23.1.0)\n",
            "Requirement already satisfied: cligj>=0.5 in /usr/local/lib/python3.10/dist-packages (from rasterio->mesa_geo) (0.7.2)\n",
            "Collecting snuggs>=1.4.1 (from rasterio->mesa_geo)\n",
            "  Downloading snuggs-1.4.7-py3-none-any.whl (5.4 kB)\n",
            "Requirement already satisfied: click-plugins in /usr/local/lib/python3.10/dist-packages (from rasterio->mesa_geo) (1.1.1)\n",
            "Requirement already satisfied: setuptools in /usr/local/lib/python3.10/dist-packages (from rasterio->mesa_geo) (67.7.2)\n",
            "Requirement already satisfied: six in /usr/local/lib/python3.10/dist-packages (from fiona>=1.8.19->geopandas->mesa_geo) (1.16.0)\n",
            "Requirement already satisfied: MarkupSafe>=2.0 in /usr/local/lib/python3.10/dist-packages (from jinja2>=2.9->folium->mesa_geo) (2.1.3)\n",
            "Requirement already satisfied: python-dateutil>=2.8.1 in /usr/local/lib/python3.10/dist-packages (from pandas->mesa~=2.1.0->mesa_geo) (2.8.2)\n",
            "Requirement already satisfied: pytz>=2020.1 in /usr/local/lib/python3.10/dist-packages (from pandas->mesa~=2.1.0->mesa_geo) (2023.3.post1)\n",
            "Requirement already satisfied: pyparsing>=2.1.6 in /usr/local/lib/python3.10/dist-packages (from snuggs>=1.4.1->rasterio->mesa_geo) (3.1.1)\n",
            "Requirement already satisfied: soupsieve>1.2 in /usr/local/lib/python3.10/dist-packages (from beautifulsoup4->libpysal->mesa_geo) (2.5)\n",
            "Requirement already satisfied: binaryornot>=0.4.4 in /usr/local/lib/python3.10/dist-packages (from cookiecutter->mesa~=2.1.0->mesa_geo) (0.4.4)\n",
            "Requirement already satisfied: pyyaml>=5.3.1 in /usr/local/lib/python3.10/dist-packages (from cookiecutter->mesa~=2.1.0->mesa_geo) (6.0.1)\n",
            "Requirement already satisfied: python-slugify>=4.0.0 in /usr/local/lib/python3.10/dist-packages (from cookiecutter->mesa~=2.1.0->mesa_geo) (8.0.1)\n",
            "Requirement already satisfied: arrow in /usr/local/lib/python3.10/dist-packages (from cookiecutter->mesa~=2.1.0->mesa_geo) (1.2.3)\n",
            "Requirement already satisfied: rich in /usr/local/lib/python3.10/dist-packages (from cookiecutter->mesa~=2.1.0->mesa_geo) (13.5.2)\n",
            "Requirement already satisfied: charset-normalizer<4,>=2 in /usr/local/lib/python3.10/dist-packages (from requests->folium->mesa_geo) (3.2.0)\n",
            "Requirement already satisfied: idna<4,>=2.5 in /usr/local/lib/python3.10/dist-packages (from requests->folium->mesa_geo) (3.4)\n",
            "Requirement already satisfied: urllib3<3,>=1.21.1 in /usr/local/lib/python3.10/dist-packages (from requests->folium->mesa_geo) (2.0.4)\n",
            "Requirement already satisfied: cachetools in /usr/local/lib/python3.10/dist-packages (from solara->mesa~=2.1.0->mesa_geo) (5.3.1)\n",
            "Requirement already satisfied: filelock in /usr/local/lib/python3.10/dist-packages (from solara->mesa~=2.1.0->mesa_geo) (3.12.2)\n",
            "Requirement already satisfied: humanize in /usr/local/lib/python3.10/dist-packages (from solara->mesa~=2.1.0->mesa_geo) (4.7.0)\n",
            "Requirement already satisfied: ipykernel in /usr/local/lib/python3.10/dist-packages (from solara->mesa~=2.1.0->mesa_geo) (5.5.6)\n",
            "Requirement already satisfied: ipyvue>=1.9.0 in /usr/local/lib/python3.10/dist-packages (from solara->mesa~=2.1.0->mesa_geo) (1.10.1)\n",
            "Requirement already satisfied: ipyvuetify>=1.8.10 in /usr/local/lib/python3.10/dist-packages (from solara->mesa~=2.1.0->mesa_geo) (1.8.10)\n",
            "Requirement already satisfied: ipywidgets in /usr/local/lib/python3.10/dist-packages (from solara->mesa~=2.1.0->mesa_geo) (7.7.1)\n",
            "Requirement already satisfied: jupyter-client>=7.0.0 in /usr/local/lib/python3.10/dist-packages (from solara->mesa~=2.1.0->mesa_geo) (7.4.9)\n",
            "Requirement already satisfied: markdown in /usr/local/lib/python3.10/dist-packages (from solara->mesa~=2.1.0->mesa_geo) (3.4.4)\n",
            "Requirement already satisfied: nbformat in /usr/local/lib/python3.10/dist-packages (from solara->mesa~=2.1.0->mesa_geo) (5.9.2)\n",
            "Requirement already satisfied: pymdown-extensions in /usr/local/lib/python3.10/dist-packages (from solara->mesa~=2.1.0->mesa_geo) (10.3)\n",
            "Requirement already satisfied: reacton>=1.7.1 in /usr/local/lib/python3.10/dist-packages (from solara->mesa~=2.1.0->mesa_geo) (1.7.1)\n",
            "Requirement already satisfied: rich-click in /usr/local/lib/python3.10/dist-packages (from solara->mesa~=2.1.0->mesa_geo) (1.6.1)\n",
            "Requirement already satisfied: starlette in /usr/local/lib/python3.10/dist-packages (from solara->mesa~=2.1.0->mesa_geo) (0.31.1)\n",
            "Requirement already satisfied: uvicorn in /usr/local/lib/python3.10/dist-packages (from solara->mesa~=2.1.0->mesa_geo) (0.23.2)\n",
            "Requirement already satisfied: watchdog in /usr/local/lib/python3.10/dist-packages (from solara->mesa~=2.1.0->mesa_geo) (3.0.0)\n",
            "Requirement already satisfied: websockets in /usr/local/lib/python3.10/dist-packages (from solara->mesa~=2.1.0->mesa_geo) (11.0.3)\n",
            "Requirement already satisfied: chardet>=3.0.2 in /usr/local/lib/python3.10/dist-packages (from binaryornot>=0.4.4->cookiecutter->mesa~=2.1.0->mesa_geo) (5.2.0)\n",
            "Requirement already satisfied: ipython-genutils~=0.2.0 in /usr/local/lib/python3.10/dist-packages (from ipywidgets->solara->mesa~=2.1.0->mesa_geo) (0.2.0)\n",
            "Requirement already satisfied: traitlets>=4.3.1 in /usr/local/lib/python3.10/dist-packages (from ipywidgets->solara->mesa~=2.1.0->mesa_geo) (5.7.1)\n",
            "Requirement already satisfied: widgetsnbextension~=3.6.0 in /usr/local/lib/python3.10/dist-packages (from ipywidgets->solara->mesa~=2.1.0->mesa_geo) (3.6.5)\n",
            "Requirement already satisfied: ipython>=4.0.0 in /usr/local/lib/python3.10/dist-packages (from ipywidgets->solara->mesa~=2.1.0->mesa_geo) (7.34.0)\n",
            "Requirement already satisfied: jupyterlab-widgets>=1.0.0 in /usr/local/lib/python3.10/dist-packages (from ipywidgets->solara->mesa~=2.1.0->mesa_geo) (3.0.8)\n",
            "Requirement already satisfied: entrypoints in /usr/local/lib/python3.10/dist-packages (from jupyter-client>=7.0.0->solara->mesa~=2.1.0->mesa_geo) (0.4)\n",
            "Requirement already satisfied: jupyter-core>=4.9.2 in /usr/local/lib/python3.10/dist-packages (from jupyter-client>=7.0.0->solara->mesa~=2.1.0->mesa_geo) (5.3.1)\n",
            "Requirement already satisfied: nest-asyncio>=1.5.4 in /usr/local/lib/python3.10/dist-packages (from jupyter-client>=7.0.0->solara->mesa~=2.1.0->mesa_geo) (1.5.7)\n",
            "Requirement already satisfied: pyzmq>=23.0 in /usr/local/lib/python3.10/dist-packages (from jupyter-client>=7.0.0->solara->mesa~=2.1.0->mesa_geo) (23.2.1)\n",
            "Requirement already satisfied: text-unidecode>=1.3 in /usr/local/lib/python3.10/dist-packages (from python-slugify>=4.0.0->cookiecutter->mesa~=2.1.0->mesa_geo) (1.3)\n",
            "Requirement already satisfied: typing-extensions>=4.1.1 in /usr/local/lib/python3.10/dist-packages (from reacton>=1.7.1->solara->mesa~=2.1.0->mesa_geo) (4.5.0)\n",
            "Requirement already satisfied: fastjsonschema in /usr/local/lib/python3.10/dist-packages (from nbformat->solara->mesa~=2.1.0->mesa_geo) (2.18.0)\n",
            "Requirement already satisfied: jsonschema>=2.6 in /usr/local/lib/python3.10/dist-packages (from nbformat->solara->mesa~=2.1.0->mesa_geo) (4.19.0)\n",
            "Requirement already satisfied: markdown-it-py>=2.2.0 in /usr/local/lib/python3.10/dist-packages (from rich->cookiecutter->mesa~=2.1.0->mesa_geo) (3.0.0)\n",
            "Requirement already satisfied: pygments<3.0.0,>=2.13.0 in /usr/local/lib/python3.10/dist-packages (from rich->cookiecutter->mesa~=2.1.0->mesa_geo) (2.16.1)\n",
            "Requirement already satisfied: anyio<5,>=3.4.0 in /usr/local/lib/python3.10/dist-packages (from starlette->solara->mesa~=2.1.0->mesa_geo) (3.7.1)\n",
            "Requirement already satisfied: h11>=0.8 in /usr/local/lib/python3.10/dist-packages (from uvicorn->solara->mesa~=2.1.0->mesa_geo) (0.14.0)\n",
            "Requirement already satisfied: sniffio>=1.1 in /usr/local/lib/python3.10/dist-packages (from anyio<5,>=3.4.0->starlette->solara->mesa~=2.1.0->mesa_geo) (1.3.0)\n",
            "Requirement already satisfied: exceptiongroup in /usr/local/lib/python3.10/dist-packages (from anyio<5,>=3.4.0->starlette->solara->mesa~=2.1.0->mesa_geo) (1.1.3)\n",
            "Requirement already satisfied: jedi>=0.16 in /usr/local/lib/python3.10/dist-packages (from ipython>=4.0.0->ipywidgets->solara->mesa~=2.1.0->mesa_geo) (0.19.0)\n",
            "Requirement already satisfied: decorator in /usr/local/lib/python3.10/dist-packages (from ipython>=4.0.0->ipywidgets->solara->mesa~=2.1.0->mesa_geo) (4.4.2)\n",
            "Requirement already satisfied: pickleshare in /usr/local/lib/python3.10/dist-packages (from ipython>=4.0.0->ipywidgets->solara->mesa~=2.1.0->mesa_geo) (0.7.5)\n",
            "Requirement already satisfied: prompt-toolkit!=3.0.0,!=3.0.1,<3.1.0,>=2.0.0 in /usr/local/lib/python3.10/dist-packages (from ipython>=4.0.0->ipywidgets->solara->mesa~=2.1.0->mesa_geo) (3.0.39)\n",
            "Requirement already satisfied: backcall in /usr/local/lib/python3.10/dist-packages (from ipython>=4.0.0->ipywidgets->solara->mesa~=2.1.0->mesa_geo) (0.2.0)\n",
            "Requirement already satisfied: matplotlib-inline in /usr/local/lib/python3.10/dist-packages (from ipython>=4.0.0->ipywidgets->solara->mesa~=2.1.0->mesa_geo) (0.1.6)\n",
            "Requirement already satisfied: pexpect>4.3 in /usr/local/lib/python3.10/dist-packages (from ipython>=4.0.0->ipywidgets->solara->mesa~=2.1.0->mesa_geo) (4.8.0)\n",
            "Requirement already satisfied: jsonschema-specifications>=2023.03.6 in /usr/local/lib/python3.10/dist-packages (from jsonschema>=2.6->nbformat->solara->mesa~=2.1.0->mesa_geo) (2023.7.1)\n",
            "Requirement already satisfied: referencing>=0.28.4 in /usr/local/lib/python3.10/dist-packages (from jsonschema>=2.6->nbformat->solara->mesa~=2.1.0->mesa_geo) (0.30.2)\n",
            "Requirement already satisfied: rpds-py>=0.7.1 in /usr/local/lib/python3.10/dist-packages (from jsonschema>=2.6->nbformat->solara->mesa~=2.1.0->mesa_geo) (0.10.2)\n",
            "Requirement already satisfied: mdurl~=0.1 in /usr/local/lib/python3.10/dist-packages (from markdown-it-py>=2.2.0->rich->cookiecutter->mesa~=2.1.0->mesa_geo) (0.1.2)\n",
            "Requirement already satisfied: notebook>=4.4.1 in /usr/local/lib/python3.10/dist-packages (from widgetsnbextension~=3.6.0->ipywidgets->solara->mesa~=2.1.0->mesa_geo) (6.5.5)\n",
            "Requirement already satisfied: parso<0.9.0,>=0.8.3 in /usr/local/lib/python3.10/dist-packages (from jedi>=0.16->ipython>=4.0.0->ipywidgets->solara->mesa~=2.1.0->mesa_geo) (0.8.3)\n",
            "Requirement already satisfied: argon2-cffi in /usr/local/lib/python3.10/dist-packages (from notebook>=4.4.1->widgetsnbextension~=3.6.0->ipywidgets->solara->mesa~=2.1.0->mesa_geo) (23.1.0)\n",
            "Requirement already satisfied: nbconvert>=5 in /usr/local/lib/python3.10/dist-packages (from notebook>=4.4.1->widgetsnbextension~=3.6.0->ipywidgets->solara->mesa~=2.1.0->mesa_geo) (6.5.4)\n",
            "Requirement already satisfied: Send2Trash>=1.8.0 in /usr/local/lib/python3.10/dist-packages (from notebook>=4.4.1->widgetsnbextension~=3.6.0->ipywidgets->solara->mesa~=2.1.0->mesa_geo) (1.8.2)\n",
            "Requirement already satisfied: terminado>=0.8.3 in /usr/local/lib/python3.10/dist-packages (from notebook>=4.4.1->widgetsnbextension~=3.6.0->ipywidgets->solara->mesa~=2.1.0->mesa_geo) (0.17.1)\n",
            "Requirement already satisfied: prometheus-client in /usr/local/lib/python3.10/dist-packages (from notebook>=4.4.1->widgetsnbextension~=3.6.0->ipywidgets->solara->mesa~=2.1.0->mesa_geo) (0.17.1)\n",
            "Requirement already satisfied: nbclassic>=0.4.7 in /usr/local/lib/python3.10/dist-packages (from notebook>=4.4.1->widgetsnbextension~=3.6.0->ipywidgets->solara->mesa~=2.1.0->mesa_geo) (1.0.0)\n",
            "Requirement already satisfied: ptyprocess>=0.5 in /usr/local/lib/python3.10/dist-packages (from pexpect>4.3->ipython>=4.0.0->ipywidgets->solara->mesa~=2.1.0->mesa_geo) (0.7.0)\n",
            "Requirement already satisfied: wcwidth in /usr/local/lib/python3.10/dist-packages (from prompt-toolkit!=3.0.0,!=3.0.1,<3.1.0,>=2.0.0->ipython>=4.0.0->ipywidgets->solara->mesa~=2.1.0->mesa_geo) (0.2.6)\n",
            "Requirement already satisfied: jupyter-server>=1.8 in /usr/local/lib/python3.10/dist-packages (from nbclassic>=0.4.7->notebook>=4.4.1->widgetsnbextension~=3.6.0->ipywidgets->solara->mesa~=2.1.0->mesa_geo) (1.24.0)\n",
            "Requirement already satisfied: notebook-shim>=0.2.3 in /usr/local/lib/python3.10/dist-packages (from nbclassic>=0.4.7->notebook>=4.4.1->widgetsnbextension~=3.6.0->ipywidgets->solara->mesa~=2.1.0->mesa_geo) (0.2.3)\n",
            "Requirement already satisfied: lxml in /usr/local/lib/python3.10/dist-packages (from nbconvert>=5->notebook>=4.4.1->widgetsnbextension~=3.6.0->ipywidgets->solara->mesa~=2.1.0->mesa_geo) (4.9.3)\n",
            "Requirement already satisfied: bleach in /usr/local/lib/python3.10/dist-packages (from nbconvert>=5->notebook>=4.4.1->widgetsnbextension~=3.6.0->ipywidgets->solara->mesa~=2.1.0->mesa_geo) (6.0.0)\n",
            "Requirement already satisfied: defusedxml in /usr/local/lib/python3.10/dist-packages (from nbconvert>=5->notebook>=4.4.1->widgetsnbextension~=3.6.0->ipywidgets->solara->mesa~=2.1.0->mesa_geo) (0.7.1)\n",
            "Requirement already satisfied: jupyterlab-pygments in /usr/local/lib/python3.10/dist-packages (from nbconvert>=5->notebook>=4.4.1->widgetsnbextension~=3.6.0->ipywidgets->solara->mesa~=2.1.0->mesa_geo) (0.2.2)\n",
            "Requirement already satisfied: mistune<2,>=0.8.1 in /usr/local/lib/python3.10/dist-packages (from nbconvert>=5->notebook>=4.4.1->widgetsnbextension~=3.6.0->ipywidgets->solara->mesa~=2.1.0->mesa_geo) (0.8.4)\n",
            "Requirement already satisfied: nbclient>=0.5.0 in /usr/local/lib/python3.10/dist-packages (from nbconvert>=5->notebook>=4.4.1->widgetsnbextension~=3.6.0->ipywidgets->solara->mesa~=2.1.0->mesa_geo) (0.8.0)\n",
            "Requirement already satisfied: pandocfilters>=1.4.1 in /usr/local/lib/python3.10/dist-packages (from nbconvert>=5->notebook>=4.4.1->widgetsnbextension~=3.6.0->ipywidgets->solara->mesa~=2.1.0->mesa_geo) (1.5.0)\n",
            "Requirement already satisfied: tinycss2 in /usr/local/lib/python3.10/dist-packages (from nbconvert>=5->notebook>=4.4.1->widgetsnbextension~=3.6.0->ipywidgets->solara->mesa~=2.1.0->mesa_geo) (1.2.1)\n",
            "Requirement already satisfied: argon2-cffi-bindings in /usr/local/lib/python3.10/dist-packages (from argon2-cffi->notebook>=4.4.1->widgetsnbextension~=3.6.0->ipywidgets->solara->mesa~=2.1.0->mesa_geo) (21.2.0)\n",
            "Requirement already satisfied: websocket-client in /usr/local/lib/python3.10/dist-packages (from jupyter-server>=1.8->nbclassic>=0.4.7->notebook>=4.4.1->widgetsnbextension~=3.6.0->ipywidgets->solara->mesa~=2.1.0->mesa_geo) (1.6.2)\n",
            "Requirement already satisfied: cffi>=1.0.1 in /usr/local/lib/python3.10/dist-packages (from argon2-cffi-bindings->argon2-cffi->notebook>=4.4.1->widgetsnbextension~=3.6.0->ipywidgets->solara->mesa~=2.1.0->mesa_geo) (1.15.1)\n",
            "Requirement already satisfied: webencodings in /usr/local/lib/python3.10/dist-packages (from bleach->nbconvert>=5->notebook>=4.4.1->widgetsnbextension~=3.6.0->ipywidgets->solara->mesa~=2.1.0->mesa_geo) (0.5.1)\n",
            "Requirement already satisfied: pycparser in /usr/local/lib/python3.10/dist-packages (from cffi>=1.0.1->argon2-cffi-bindings->argon2-cffi->notebook>=4.4.1->widgetsnbextension~=3.6.0->ipywidgets->solara->mesa~=2.1.0->mesa_geo) (2.21)\n",
            "Installing collected packages: snuggs, rtree, affine, rasterio, libpysal, mesa_geo\n",
            "Successfully installed affine-2.4.0 libpysal-4.7.0 mesa_geo-0.6.0 rasterio-1.3.8 rtree-1.0.1 snuggs-1.4.7\n"
          ]
        }
      ]
    },
    {
      "cell_type": "code",
      "source": [
        "import mesa\n",
        "import mesa_geo as mg\n",
        "import json\n",
        "# Opening geoJSON files\n",
        "with open('unisabana_hospital_floor.geojson') as file:\n",
        "  hospital_rooms = json.load(file)\n",
        "with open('unisabana_hospital_rooms.geojson') as file:\n",
        "  hospital_rooms = json.load(file)"
      ],
      "metadata": {
        "id": "-0ZhpXogJM0t"
      },
      "execution_count": 5,
      "outputs": []
    },
    {
      "cell_type": "markdown",
      "source": [
        "# agents"
      ],
      "metadata": {
        "id": "XI70xiHxJrK_"
      }
    },
    {
      "cell_type": "code",
      "source": [
        "class Hospital(mg.GeoAgent):\n",
        "    def __init__(self, unique_id, model, geometry, crs):\n",
        "        super().__init__(unique_id, model, geometry, crs)\n",
        "        self.color_hotspot()\n",
        "\n",
        "    def color_hotspot(self):\n",
        "      # Decide if there are agents here\n",
        "      residents = self.model.space.get_intersecting_agents(self)\n",
        "      patients_here = [resident for resident in residents if resident.atype == \"patient\"]\n",
        "\n",
        "      if len(patients_here) >= 1:\n",
        "          self.atype = \"ocupied\"\n",
        "      else:\n",
        "          self.atype = \"empty\"\n",
        "\n",
        "    def __repr__(self):\n",
        "        return \"Hospital space \" + str(self.unique_id)\n",
        "\n",
        "from shapely.geometry import Point\n",
        "class PersonAgent(mg.GeoAgent):\n",
        "    \"\"\"Person Agent.\"\"\"\n",
        "    def __init__( self, unique_id, model, geometry, crs,\n",
        "        agent_type=\"patient\",\n",
        "        mobility_range=100, # movement per step\n",
        "        recovery_rate=0.2,\n",
        "        death_risk=0.1,\n",
        "        p_worker=0.9,\n",
        "    ):\n",
        "        super().__init__(unique_id, model, geometry, crs)\n",
        "        # Agent parameters\n",
        "        self.atype = agent_type\n",
        "        self.mobility_range = mobility_range\n",
        "\n",
        "        # Random choose if healthcare worker\n",
        "        if self.random.random() < p_worker:\n",
        "            self.atype = \"medical provider\"\n",
        "            self.model.counts[\"patient\"] -= 1  # Adjust initial counts\n",
        "            self.model.counts[\"medical provider\"] += 1\n",
        "\n",
        "    def move_point(self, dx, dy):\n",
        "        \"\"\"\n",
        "        Move a point by creating a new one\n",
        "        :param dx:  Distance to move in x-axis\n",
        "        :param dy:  Distance to move in y-axis\n",
        "        \"\"\"\n",
        "        return Point(self.geometry.x + dx, self.geometry.y + dy)\n",
        "\n",
        "    def step(self):\n",
        "        \"\"\"Advance one step.\"\"\"\n",
        "        if self.random.random() < self.death_risk: self.atype = \"dead\"\n",
        "\n",
        "        # If not dead, move\n",
        "        if self.atype != \"dead\":\n",
        "            move_x = self.random.randint(-self.mobility_range, self.mobility_range)\n",
        "            move_y = self.random.randint(-self.mobility_range, self.mobility_range)\n",
        "            self.geometry = self.move_point(move_x, move_y)  # Reassign geometry\n",
        "\n",
        "        self.model.counts[self.atype] += 1  # Count agent type\n",
        "\n",
        "    def __repr__(self):\n",
        "        return \"Person \" + str(self.unique_id)"
      ],
      "metadata": {
        "id": "caVw-jNHJn9G"
      },
      "execution_count": 6,
      "outputs": []
    },
    {
      "cell_type": "markdown",
      "source": [
        "# Model"
      ],
      "metadata": {
        "id": "EkVcRTq9JtAV"
      }
    },
    {
      "cell_type": "code",
      "source": [
        "class GeoModel(mesa.Model):\n",
        "    with open('unisabana_hospital_rooms.geojson') as file:\n",
        "      hospital_rooms = json.load(file)\n",
        "\n",
        "    def __init__(self, pop_size=3, p_worker=0.2):\n",
        "\n",
        "        self.schedule = mesa.time.BaseScheduler(self)\n",
        "        self.space = mg.GeoSpace(warn_crs_conversion=False)\n",
        "        self.steps = 0\n",
        "        self.counts = None\n",
        "        self.reset_counts()\n",
        "\n",
        "        # model parameters\n",
        "        self.pop_size = pop_size\n",
        "        self.counts[\"patient\"] = pop_size\n",
        "\n",
        "        self.running = True\n",
        "        self.datacollector = mesa.DataCollector(\n",
        "            {\n",
        "                \"patient\": get_patient_count,\n",
        "                \"medical provider\": get_med_count,\n",
        "                \"dead\": get_dead_count,\n",
        "            }\n",
        "        )\n",
        "\n",
        "        # Set up the Neighbourhood patches for every region in file\n",
        "        # (add to schedule later)\n",
        "        ac = mg.AgentCreator(agent_class=Hospital, model=self)\n",
        "        neighbourhood_agents = ac.from_GeoJSON(self.hospital_rooms)\n",
        "        self.space.add_agents(neighbourhood_agents)\n",
        "\n",
        "        # Generate PersonAgent population\n",
        "        ac_population = mg.AgentCreator( PersonAgent, model=self, crs=self.space.crs )\n",
        "\n",
        "        # Generate random location, add agent to grid and scheduler\n",
        "        for i in range(pop_size):\n",
        "             # Region where agent starts\n",
        "            this_neighbourhood = self.random.randint(0, len(neighbourhood_agents) - 1)\n",
        "\n",
        "            center_x, center_y = neighbourhood_agents[this_neighbourhood].geometry.centroid.coords.xy\n",
        "            this_bounds = neighbourhood_agents[this_neighbourhood].geometry.bounds\n",
        "\n",
        "            # Heuristic for agent spread in region\n",
        "            spread_x = int(this_bounds[2] - this_bounds[0])\n",
        "            spread_y = int(this_bounds[3] - this_bounds[1])\n",
        "            this_x = center_x[0] + self.random.randint(0, spread_x) - spread_x / 2\n",
        "            this_y = center_y[0] + self.random.randint(0, spread_y) - spread_y / 2\n",
        "\n",
        "            # create and place Person\n",
        "            this_person = ac_population.create_agent(Point(this_x, this_y), \"P\" + str(i))\n",
        "            self.space.add_agents(this_person)\n",
        "            self.schedule.add(this_person)\n",
        "\n",
        "        # Add the neighbourhood agents to schedule AFTER person agents,\n",
        "        # to allow them to update their color by using BaseScheduler\n",
        "        for agent in neighbourhood_agents:\n",
        "            self.schedule.add(agent)\n",
        "\n",
        "        self.datacollector.collect(self)\n",
        "\n",
        "    def reset_counts(self):\n",
        "      self.counts = {\n",
        "          \"patient\": 0,\n",
        "          \"medical provider\": 0,\n",
        "          \"dead\": 0,\n",
        "          \"ocupied\": 0,\n",
        "          \"empty\": 0}\n",
        "\n",
        "    def step(self):\n",
        "        \"\"\"Run one step of the model.\"\"\"\n",
        "        self.steps += 1\n",
        "        self.reset_counts()\n",
        "        self.schedule.step()\n",
        "        # Recalculate spatial tree, because agents are moving\n",
        "        self.space._recreate_rtree()\n",
        "\n",
        "        self.datacollector.collect(self)\n",
        "\n",
        "        # Run until no one is in hospital\n",
        "        if self.counts[\"patient\"] == 0 and self.counts[\"medical provider\"]==0:\n",
        "            self.running = False\n",
        "\n",
        "\n",
        "# Functions needed for datacollector\n",
        "def get_patient_count(model): return model.counts[\"patient\"]\n",
        "def get_med_count(model): return model.counts[\"medical provider\"]\n",
        "def get_dead_count(model): return model.counts[\"dead\"]"
      ],
      "metadata": {
        "id": "JvlUhHy-Jpuq"
      },
      "execution_count": 7,
      "outputs": []
    },
    {
      "cell_type": "markdown",
      "source": [
        "# server"
      ],
      "metadata": {
        "id": "vizdJ6nNMkYm"
      }
    },
    {
      "cell_type": "code",
      "source": [
        "class Text(mesa.visualization.TextElement):\n",
        "    \"\"\"\n",
        "    Display a text\n",
        "    \"\"\"\n",
        "    def __init__(self):\n",
        "        pass\n",
        "\n",
        "    def render(self, model):\n",
        "        return \"Steps: \" + str(model.steps)\n",
        "\n",
        "\n",
        "model_params = {\n",
        "    \"pop_size\": mesa.visualization.Slider(\"Population size\", 30, 10, 100, 10),\n",
        "}\n",
        "\n",
        "def agent_draw(agent):\n",
        "    \"\"\"\n",
        "    Portrayal Method for canvas\n",
        "    \"\"\"\n",
        "    portrayal = {}\n",
        "    if isinstance(agent, PersonAgent): portrayal[\"radius\"] = \"2\"\n",
        "\n",
        "    if agent.atype in [\"ocupied\"]: portrayal[\"color\"] = \"Red\"\n",
        "    elif agent.atype in [\"empty\"]: portrayal[\"color\"] = \"Green\"\n",
        "\n",
        "    elif agent.atype in [\"patient\"]: portrayal[\"color\"] = \"Grey\"\n",
        "    elif agent.atype in [\"medical provider\"]: portrayal[\"color\"] = \"Black\"\n",
        "    elif agent.atype in [\"dead\"]: portrayal[\"color\"] = \"Yellow\"\n",
        "    return portrayal\n",
        "\n",
        "\n",
        "map_element = mg.visualization.MapModule(agent_draw)\n",
        "agents_chart = mesa.visualization.ChartModule(\n",
        "    [\n",
        "        {\"Label\": \"medical provider\", \"Color\": \"Black\"},\n",
        "        {\"Label\": \"patient\", \"Color\": \"Grey\"},\n",
        "        {\"Label\": \"dead\", \"Color\": \"Yellow\"},\n",
        "    ]\n",
        ")\n",
        "\n",
        "server = mesa.visualization.ModularServer(\n",
        "    GeoModel,\n",
        "    [map_element, Text(), agents_chart],\n",
        "    \"agent-based model\",\n",
        "    model_params,\n",
        ")"
      ],
      "metadata": {
        "id": "vxyAiOD2Mllk"
      },
      "execution_count": 9,
      "outputs": []
    },
    {
      "cell_type": "code",
      "source": [
        "server.launch()"
      ],
      "metadata": {
        "colab": {
          "base_uri": "https://localhost:8080/",
          "height": 338
        },
        "id": "GgXsSgacSKJN",
        "outputId": "5f0eedec-ef28-4136-8f34-f03c63f88d1c"
      },
      "execution_count": 10,
      "outputs": [
        {
          "output_type": "stream",
          "name": "stdout",
          "text": [
            "Interface starting at http://127.0.0.1:8521\n"
          ]
        },
        {
          "output_type": "error",
          "ename": "OSError",
          "evalue": "ignored",
          "traceback": [
            "\u001b[0;31m---------------------------------------------------------------------------\u001b[0m",
            "\u001b[0;31mOSError\u001b[0m                                   Traceback (most recent call last)",
            "\u001b[0;32m<ipython-input-10-08d0c78f222e>\u001b[0m in \u001b[0;36m<cell line: 1>\u001b[0;34m()\u001b[0m\n\u001b[0;32m----> 1\u001b[0;31m \u001b[0mserver\u001b[0m\u001b[0;34m.\u001b[0m\u001b[0mlaunch\u001b[0m\u001b[0;34m(\u001b[0m\u001b[0;34m)\u001b[0m\u001b[0;34m\u001b[0m\u001b[0;34m\u001b[0m\u001b[0m\n\u001b[0m",
            "\u001b[0;32m/usr/local/lib/python3.10/dist-packages/mesa/visualization/ModularVisualization.py\u001b[0m in \u001b[0;36mlaunch\u001b[0;34m(self, port, open_browser)\u001b[0m\n\u001b[1;32m    400\u001b[0m         \u001b[0murl\u001b[0m \u001b[0;34m=\u001b[0m \u001b[0;34mf\"http://127.0.0.1:{self.port}\"\u001b[0m\u001b[0;34m\u001b[0m\u001b[0;34m\u001b[0m\u001b[0m\n\u001b[1;32m    401\u001b[0m         \u001b[0mprint\u001b[0m\u001b[0;34m(\u001b[0m\u001b[0;34mf\"Interface starting at {url}\"\u001b[0m\u001b[0;34m)\u001b[0m\u001b[0;34m\u001b[0m\u001b[0;34m\u001b[0m\u001b[0m\n\u001b[0;32m--> 402\u001b[0;31m         \u001b[0mself\u001b[0m\u001b[0;34m.\u001b[0m\u001b[0mlisten\u001b[0m\u001b[0;34m(\u001b[0m\u001b[0mself\u001b[0m\u001b[0;34m.\u001b[0m\u001b[0mport\u001b[0m\u001b[0;34m)\u001b[0m\u001b[0;34m\u001b[0m\u001b[0;34m\u001b[0m\u001b[0m\n\u001b[0m\u001b[1;32m    403\u001b[0m         \u001b[0;32mif\u001b[0m \u001b[0mopen_browser\u001b[0m\u001b[0;34m:\u001b[0m\u001b[0;34m\u001b[0m\u001b[0;34m\u001b[0m\u001b[0m\n\u001b[1;32m    404\u001b[0m             \u001b[0mwebbrowser\u001b[0m\u001b[0;34m.\u001b[0m\u001b[0mopen\u001b[0m\u001b[0;34m(\u001b[0m\u001b[0murl\u001b[0m\u001b[0;34m)\u001b[0m\u001b[0;34m\u001b[0m\u001b[0;34m\u001b[0m\u001b[0m\n",
            "\u001b[0;32m/usr/local/lib/python3.10/dist-packages/tornado/web.py\u001b[0m in \u001b[0;36mlisten\u001b[0;34m(self, port, address, family, backlog, flags, reuse_port, **kwargs)\u001b[0m\n\u001b[1;32m   2205\u001b[0m         \"\"\"\n\u001b[1;32m   2206\u001b[0m         \u001b[0mserver\u001b[0m \u001b[0;34m=\u001b[0m \u001b[0mHTTPServer\u001b[0m\u001b[0;34m(\u001b[0m\u001b[0mself\u001b[0m\u001b[0;34m,\u001b[0m \u001b[0;34m**\u001b[0m\u001b[0mkwargs\u001b[0m\u001b[0;34m)\u001b[0m\u001b[0;34m\u001b[0m\u001b[0;34m\u001b[0m\u001b[0m\n\u001b[0;32m-> 2207\u001b[0;31m         server.listen(\n\u001b[0m\u001b[1;32m   2208\u001b[0m             \u001b[0mport\u001b[0m\u001b[0;34m,\u001b[0m\u001b[0;34m\u001b[0m\u001b[0;34m\u001b[0m\u001b[0m\n\u001b[1;32m   2209\u001b[0m             \u001b[0maddress\u001b[0m\u001b[0;34m=\u001b[0m\u001b[0maddress\u001b[0m\u001b[0;34m,\u001b[0m\u001b[0;34m\u001b[0m\u001b[0;34m\u001b[0m\u001b[0m\n",
            "\u001b[0;32m/usr/local/lib/python3.10/dist-packages/tornado/tcpserver.py\u001b[0m in \u001b[0;36mlisten\u001b[0;34m(self, port, address, family, backlog, flags, reuse_port)\u001b[0m\n\u001b[1;32m    181\u001b[0m            \u001b[0marguments\u001b[0m \u001b[0mto\u001b[0m \u001b[0mmatch\u001b[0m\u001b[0;31m \u001b[0m\u001b[0;31m`\u001b[0m\u001b[0mtornado\u001b[0m\u001b[0;34m.\u001b[0m\u001b[0mnetutil\u001b[0m\u001b[0;34m.\u001b[0m\u001b[0mbind_sockets\u001b[0m\u001b[0;31m`\u001b[0m\u001b[0;34m.\u001b[0m\u001b[0;34m\u001b[0m\u001b[0;34m\u001b[0m\u001b[0m\n\u001b[1;32m    182\u001b[0m         \"\"\"\n\u001b[0;32m--> 183\u001b[0;31m         sockets = bind_sockets(\n\u001b[0m\u001b[1;32m    184\u001b[0m             \u001b[0mport\u001b[0m\u001b[0;34m,\u001b[0m\u001b[0;34m\u001b[0m\u001b[0;34m\u001b[0m\u001b[0m\n\u001b[1;32m    185\u001b[0m             \u001b[0maddress\u001b[0m\u001b[0;34m=\u001b[0m\u001b[0maddress\u001b[0m\u001b[0;34m,\u001b[0m\u001b[0;34m\u001b[0m\u001b[0;34m\u001b[0m\u001b[0m\n",
            "\u001b[0;32m/usr/local/lib/python3.10/dist-packages/tornado/netutil.py\u001b[0m in \u001b[0;36mbind_sockets\u001b[0;34m(port, address, family, backlog, flags, reuse_port)\u001b[0m\n\u001b[1;32m    160\u001b[0m         \u001b[0msock\u001b[0m\u001b[0;34m.\u001b[0m\u001b[0msetblocking\u001b[0m\u001b[0;34m(\u001b[0m\u001b[0;32mFalse\u001b[0m\u001b[0;34m)\u001b[0m\u001b[0;34m\u001b[0m\u001b[0;34m\u001b[0m\u001b[0m\n\u001b[1;32m    161\u001b[0m         \u001b[0;32mtry\u001b[0m\u001b[0;34m:\u001b[0m\u001b[0;34m\u001b[0m\u001b[0;34m\u001b[0m\u001b[0m\n\u001b[0;32m--> 162\u001b[0;31m             \u001b[0msock\u001b[0m\u001b[0;34m.\u001b[0m\u001b[0mbind\u001b[0m\u001b[0;34m(\u001b[0m\u001b[0msockaddr\u001b[0m\u001b[0;34m)\u001b[0m\u001b[0;34m\u001b[0m\u001b[0;34m\u001b[0m\u001b[0m\n\u001b[0m\u001b[1;32m    163\u001b[0m         \u001b[0;32mexcept\u001b[0m \u001b[0mOSError\u001b[0m \u001b[0;32mas\u001b[0m \u001b[0me\u001b[0m\u001b[0;34m:\u001b[0m\u001b[0;34m\u001b[0m\u001b[0;34m\u001b[0m\u001b[0m\n\u001b[1;32m    164\u001b[0m             if (\n",
            "\u001b[0;31mOSError\u001b[0m: [Errno 98] Address already in use"
          ]
        }
      ]
    },
    {
      "cell_type": "code",
      "source": [
        "m = GeoModel()\n",
        "agent = m.space.agents[0]\n",
        "print(agent.unique_id)\n",
        "agent.geometry"
      ],
      "metadata": {
        "colab": {
          "base_uri": "https://localhost:8080/",
          "height": 139
        },
        "id": "v6caCrGdZyvJ",
        "outputId": "53ad490d-eec8-467b-d5c0-97bf51f8078b"
      },
      "execution_count": 6,
      "outputs": [
        {
          "output_type": "stream",
          "name": "stdout",
          "text": [
            "0\n"
          ]
        },
        {
          "output_type": "execute_result",
          "data": {
            "text/plain": [
              "<POLYGON ((-8241036.509 541205.887, -8241040.676 541202.916, -8241046.101 54...>"
            ],
            "image/svg+xml": "<svg xmlns=\"http://www.w3.org/2000/svg\" xmlns:xlink=\"http://www.w3.org/1999/xlink\" width=\"100.0\" height=\"100.0\" viewBox=\"-8241046.52627785 541202.4911373883 10.442116770893335 11.481987124192528\" preserveAspectRatio=\"xMinYMin meet\"><g transform=\"matrix(1,0,0,-1,0,1082416.4642619006)\"><path fill-rule=\"evenodd\" fill=\"#66cc99\" stroke=\"#555555\" stroke-width=\"0.22963974248385058\" opacity=\"0.6\" d=\"M -8241036.509419862,541205.887401787 L -8241040.676318792,541202.9163961706 L -8241046.101019068,541210.5768598118 L -8241041.934120136,541213.5478657301 L -8241036.509419862,541205.887401787 z\" /></g></svg>"
          },
          "metadata": {},
          "execution_count": 6
        }
      ]
    },
    {
      "cell_type": "code",
      "source": [
        "info=lambda agent: [agent.name, agent.Id]\n",
        "info(agent)"
      ],
      "metadata": {
        "id": "L2pZODlEZ3Wu",
        "colab": {
          "base_uri": "https://localhost:8080/"
        },
        "outputId": "1dcb0c10-f130-4856-a04c-dac10ef6deed"
      },
      "execution_count": 7,
      "outputs": [
        {
          "output_type": "execute_result",
          "data": {
            "text/plain": [
              "['room', '204']"
            ]
          },
          "metadata": {},
          "execution_count": 7
        }
      ]
    },
    {
      "cell_type": "code",
      "source": [
        "neighbors = m.space.get_neighbors(agent)\n",
        "neighbors = m.space.get_neighbors_within_distance(agent, 4)\n",
        "[info(a) for a in neighbors]"
      ],
      "metadata": {
        "colab": {
          "base_uri": "https://localhost:8080/"
        },
        "id": "qdukhRbp-Qcr",
        "outputId": "3547d694-3249-42d0-c4e3-6c44d315aa5d"
      },
      "execution_count": 8,
      "outputs": [
        {
          "output_type": "stream",
          "name": "stderr",
          "text": [
            "/usr/local/lib/python3.10/dist-packages/libpysal/weights/weights.py:172: UserWarning: The weights matrix is not fully connected: \n",
            " There are 20 disconnected components.\n",
            " There are 8 islands with ids: 1, 2, 3, 4, 5, 6, 30, 42.\n",
            "  warnings.warn(message)\n"
          ]
        },
        {
          "output_type": "execute_result",
          "data": {
            "text/plain": [
              "[['bed', '0'],\n",
              " ['room', '204'],\n",
              " ['bed', '1'],\n",
              " ['bed', '3'],\n",
              " ['room', '203'],\n",
              " ['bed', '2']]"
            ]
          },
          "metadata": {},
          "execution_count": 8
        }
      ]
    },
    {
      "cell_type": "code",
      "source": [
        "m.space.agents[1].name"
      ],
      "metadata": {
        "colab": {
          "base_uri": "https://localhost:8080/",
          "height": 36
        },
        "id": "UX0ajG3N_St4",
        "outputId": "3dedf54c-442c-4755-d5b2-812d09753215"
      },
      "execution_count": 10,
      "outputs": [
        {
          "output_type": "execute_result",
          "data": {
            "text/plain": [
              "'nurse'"
            ],
            "application/vnd.google.colaboratory.intrinsic+json": {
              "type": "string"
            }
          },
          "metadata": {},
          "execution_count": 10
        }
      ]
    },
    {
      "cell_type": "code",
      "source": [
        "import mesa\n",
        "import mesa_geo as mg\n",
        "\n",
        "\n",
        "class State(mg.GeoAgent):\n",
        "    def __init__(self, unique_id, model, geometry, crs):\n",
        "        super().__init__(unique_id, model, geometry, crs)\n",
        "\n",
        "\n",
        "class GeoModel(mesa.Model):\n",
        "    geojson_states = \"TorontoNeighbourhoods.geojson\"\n",
        "    def __init__(self):\n",
        "        self.space = mg.GeoSpace()\n",
        "        ac = mg.AgentCreator(agent_class=State, model=self)\n",
        "        agents = ac.from_file(geojson_states)\n",
        "        self.space.add_agents(agents)"
      ],
      "metadata": {
        "id": "NREUHE0ghsvj"
      },
      "execution_count": 36,
      "outputs": []
    },
    {
      "cell_type": "code",
      "source": [
        "m = GeoModel()\n",
        "\n",
        "agent = m.space.agents[0]\n",
        "print(agent.unique_id)\n",
        "agent.geometry"
      ],
      "metadata": {
        "colab": {
          "base_uri": "https://localhost:8080/",
          "height": 394
        },
        "id": "dF9YxJUxP0nr",
        "outputId": "325d4c40-128d-4ac9-8497-7ce3d035061c"
      },
      "execution_count": 37,
      "outputs": [
        {
          "output_type": "stream",
          "name": "stdout",
          "text": [
            "0\n"
          ]
        },
        {
          "output_type": "stream",
          "name": "stderr",
          "text": [
            "/usr/local/lib/python3.10/dist-packages/mesa_geo/geospace.py:138: UserWarning: Converting State from crs EPSG:4326 to the crs of GeoSpace - EPSG:3857. Please check your crs settings if this is unintended, or set `GeoSpace.warn_crs_conversion` to `False` to suppress this warning message.\n",
            "  warnings.warn(\n"
          ]
        },
        {
          "output_type": "execute_result",
          "data": {
            "text/plain": [
              "<POLYGON ((-8837540.743 5422414.797, -8837474.13 5422072.34, -8838813.672 54...>"
            ],
            "image/svg+xml": "<svg xmlns=\"http://www.w3.org/2000/svg\" xmlns:xlink=\"http://www.w3.org/1999/xlink\" width=\"300\" height=\"300\" viewBox=\"-8841366.200338371 5419445.211571106 4043.809359740466 4096.951883709058\" preserveAspectRatio=\"xMinYMin meet\"><g transform=\"matrix(1,0,0,-1,0,10842987.37502592)\"><path fill-rule=\"evenodd\" fill=\"#66cc99\" stroke=\"#555555\" stroke-width=\"27.31301255806039\" opacity=\"0.6\" d=\"M -8837540.742717726,5422414.797288925 L -8837474.129937287,5422072.340493038 L -8838813.672096543,5421690.672848984 L -8838743.650485223,5421235.859897457 L -8840041.46812577,5420858.784569565 L -8839922.101877686,5420452.978197532 L -8839839.442575924,5420022.776210817 L -8839750.665720444,5419933.39026263 L -8839708.579940256,5419841.576673825 L -8840542.211243395,5419596.950529762 L -8840668.242143923,5420234.366264541 L -8840561.255612854,5420265.60028933 L -8840727.584584747,5420734.687378185 L -8840935.762308845,5420674.872970011 L -8841075.167531855,5421147.660166441 L -8841214.461379714,5421744.901553235 L -8840832.923393814,5421891.8115042355 L -8840652.041989272,5421901.408711974 L -8840493.196238749,5421957.262397964 L -8840383.889555857,5421952.4759678105 L -8840389.096950296,5421986.004358192 L -8840296.19268129,5422044.978027631 L -8840359.200697424,5422602.485589278 L -8837678.230182398,5423390.424496159 L -8837619.010965604,5423083.436782375 L -8837610.216882335,5422920.042651104 L -8837570.957194665,5422781.52964768 L -8837540.742717726,5422414.797288925 z\" /></g></svg>"
          },
          "metadata": {},
          "execution_count": 37
        }
      ]
    },
    {
      "cell_type": "code",
      "source": [
        "agent.HOODNUM"
      ],
      "metadata": {
        "colab": {
          "base_uri": "https://localhost:8080/"
        },
        "id": "BWJhSjxzQ8SA",
        "outputId": "a358f630-2588-4d1e-81e5-5c323f3c675e"
      },
      "execution_count": 39,
      "outputs": [
        {
          "output_type": "execute_result",
          "data": {
            "text/plain": [
              "103"
            ]
          },
          "metadata": {},
          "execution_count": 39
        }
      ]
    },
    {
      "cell_type": "code",
      "source": [],
      "metadata": {
        "id": "yFMlYbjKRLFm"
      },
      "execution_count": null,
      "outputs": []
    }
  ]
}