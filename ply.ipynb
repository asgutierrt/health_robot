{
 "cells": [
  {
   "cell_type": "code",
   "execution_count": 1,
   "metadata": {},
   "outputs": [],
   "source": [
    "import mesa\n",
    "import mesa_geo as mg\n",
    "\n",
    "file_name='floorplans/unisabana_hospital_rooms.geojson'\n",
    "\n",
    "class State(mg.GeoAgent):\n",
    "    def __init__(self, unique_id, model, geometry, crs):\n",
    "        super().__init__(unique_id, model, geometry, crs)\n",
    "        self.atype = \"\"\n",
    "\n",
    "\n",
    "class GeoModel(mesa.Model):\n",
    "    def __init__(self):\n",
    "        self.space = mg.GeoSpace(warn_crs_conversion=False)\n",
    "\n",
    "        ac = mg.AgentCreator(agent_class=State, model=self)\n",
    "        agents = ac.from_file(file_name)\n",
    "        print(agents)\n",
    "        self.space.add_agents(agents)"
   ]
  },
  {
   "cell_type": "code",
   "execution_count": 2,
   "metadata": {},
   "outputs": [
    {
     "name": "stdout",
     "output_type": "stream",
     "text": [
      "[<__main__.State object at 0x0000019BCA203340>, <__main__.State object at 0x0000019BC9D6C940>, <__main__.State object at 0x0000019BCA203490>, <__main__.State object at 0x0000019BC9D6CD60>, <__main__.State object at 0x0000019BCA2036A0>, <__main__.State object at 0x0000019BC9D62FA0>, <__main__.State object at 0x0000019BCA203580>, <__main__.State object at 0x0000019BC9D620A0>, <__main__.State object at 0x0000019BCA2032E0>, <__main__.State object at 0x0000019BCA203550>, <__main__.State object at 0x0000019BCA203430>, <__main__.State object at 0x0000019BCA2036D0>, <__main__.State object at 0x0000019BCA203400>, <__main__.State object at 0x0000019BCA203460>, <__main__.State object at 0x0000019BCA2034F0>]\n",
      "0\n",
      "POLYGON ((-8241001.793518201 541214.2165446188, -8240981.133183567 541227.2400605762, -8240997.33288152 541254.0376983103, -8241017.993216155 541241.0141777206, -8241001.793518201 541214.2165446188))\n"
     ]
    }
   ],
   "source": [
    "m = GeoModel()\n",
    "\n",
    "agent = m.space.agents[0]\n",
    "print(agent.unique_id)\n",
    "print(agent.geometry)\n"
   ]
  },
  {
   "cell_type": "code",
   "execution_count": 4,
   "metadata": {},
   "outputs": [
    {
     "data": {
      "text/plain": [
       "('nurse', '0')"
      ]
     },
     "execution_count": 4,
     "metadata": {},
     "output_type": "execute_result"
    }
   ],
   "source": [
    "i=1\n",
    "agent = m.space.agents[i]\n",
    "agent.name, agent.Id"
   ]
  },
  {
   "cell_type": "code",
   "execution_count": null,
   "metadata": {},
   "outputs": [],
   "source": []
  }
 ],
 "metadata": {
  "kernelspec": {
   "display_name": "Python 3",
   "language": "python",
   "name": "python3"
  },
  "language_info": {
   "codemirror_mode": {
    "name": "ipython",
    "version": 3
   },
   "file_extension": ".py",
   "mimetype": "text/x-python",
   "name": "python",
   "nbconvert_exporter": "python",
   "pygments_lexer": "ipython3",
   "version": "3.9.13"
  },
  "orig_nbformat": 4
 },
 "nbformat": 4,
 "nbformat_minor": 2
}
