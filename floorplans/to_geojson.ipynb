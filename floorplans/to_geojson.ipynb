{
  "nbformat": 4,
  "nbformat_minor": 0,
  "metadata": {
    "colab": {
      "provenance": [],
      "authorship_tag": "ABX9TyOdf/cbD47/Aub9YSE0gqdg",
      "include_colab_link": true
    },
    "kernelspec": {
      "name": "python3",
      "display_name": "Python 3"
    },
    "language_info": {
      "name": "python"
    }
  },
  "cells": [
    {
      "cell_type": "markdown",
      "metadata": {
        "id": "view-in-github",
        "colab_type": "text"
      },
      "source": [
        "<a href=\"https://colab.research.google.com/github/asgutierrt/health_robot/blob/main/floorplans/to_geojson.ipynb\" target=\"_parent\"><img src=\"https://colab.research.google.com/assets/colab-badge.svg\" alt=\"Open In Colab\"/></a>"
      ]
    },
    {
      "cell_type": "code",
      "source": [
        "! pip install rasterio\n",
        "! git clone https://github.com/asgutierrt/health_robot.git"
      ],
      "metadata": {
        "colab": {
          "base_uri": "https://localhost:8080/"
        },
        "id": "TgvHIFzMVClY",
        "outputId": "76786a15-d65b-400e-ede0-fc8353453fd4"
      },
      "execution_count": 1,
      "outputs": [
        {
          "output_type": "stream",
          "name": "stdout",
          "text": [
            "Collecting rasterio\n",
            "  Downloading rasterio-1.3.8-cp310-cp310-manylinux_2_17_x86_64.manylinux2014_x86_64.whl (21.3 MB)\n",
            "\u001b[2K     \u001b[90m━━━━━━━━━━━━━━━━━━━━━━━━━━━━━━━━━━━━━━━━\u001b[0m \u001b[32m21.3/21.3 MB\u001b[0m \u001b[31m34.3 MB/s\u001b[0m eta \u001b[36m0:00:00\u001b[0m\n",
            "\u001b[?25hCollecting affine (from rasterio)\n",
            "  Downloading affine-2.4.0-py3-none-any.whl (15 kB)\n",
            "Requirement already satisfied: attrs in /usr/local/lib/python3.10/dist-packages (from rasterio) (23.1.0)\n",
            "Requirement already satisfied: certifi in /usr/local/lib/python3.10/dist-packages (from rasterio) (2023.7.22)\n",
            "Requirement already satisfied: click>=4.0 in /usr/local/lib/python3.10/dist-packages (from rasterio) (8.1.7)\n",
            "Requirement already satisfied: cligj>=0.5 in /usr/local/lib/python3.10/dist-packages (from rasterio) (0.7.2)\n",
            "Requirement already satisfied: numpy>=1.18 in /usr/local/lib/python3.10/dist-packages (from rasterio) (1.23.5)\n",
            "Collecting snuggs>=1.4.1 (from rasterio)\n",
            "  Downloading snuggs-1.4.7-py3-none-any.whl (5.4 kB)\n",
            "Requirement already satisfied: click-plugins in /usr/local/lib/python3.10/dist-packages (from rasterio) (1.1.1)\n",
            "Requirement already satisfied: setuptools in /usr/local/lib/python3.10/dist-packages (from rasterio) (67.7.2)\n",
            "Requirement already satisfied: pyparsing>=2.1.6 in /usr/local/lib/python3.10/dist-packages (from snuggs>=1.4.1->rasterio) (3.1.1)\n",
            "Installing collected packages: snuggs, affine, rasterio\n",
            "Successfully installed affine-2.4.0 rasterio-1.3.8 snuggs-1.4.7\n",
            "Cloning into 'health_robot'...\n",
            "remote: Enumerating objects: 38, done.\u001b[K\n",
            "remote: Counting objects: 100% (38/38), done.\u001b[K\n",
            "remote: Compressing objects: 100% (30/30), done.\u001b[K\n",
            "remote: Total 38 (delta 11), reused 23 (delta 5), pack-reused 0\u001b[K\n",
            "Receiving objects: 100% (38/38), 582.01 KiB | 2.29 MiB/s, done.\n",
            "Resolving deltas: 100% (11/11), done.\n"
          ]
        }
      ]
    },
    {
      "cell_type": "code",
      "execution_count": 2,
      "metadata": {
        "id": "uxRnJSVp76bd"
      },
      "outputs": [],
      "source": [
        "import numpy as np\n",
        "from skimage import io, measure, morphology\n",
        "from skimage.io import imsave, imread\n",
        "from matplotlib import pyplot as plt\n",
        "\n",
        "# import/install necessary libraries\n",
        "import pandas as pd\n",
        "import json\n",
        "\n",
        "data_path='/content/health_robot/floorplans/'\n",
        "data=pd.read_csv(data_path+'polygons/'+'unisabana_hospital_rooms_csv.csv')\n",
        "\n",
        "# transform hospital layout into geo-referenced polygon\n",
        "def generate_non_axis_aligned_rectangular_mesh(polygon,X,shape):\n",
        "    # define grid shape and steps\n",
        "    x_A, y_A, x_B, y_B, x_D, y_D = polygon\n",
        "    min_x,min_y,max_x,max_y = shape\n",
        "    num_rows = (max_y-min_y); num_cols=(max_x-min_x)\n",
        "    x_step = (x_B - x_A) / num_cols; y_step = (y_D - y_A) / num_rows\n",
        "\n",
        "    # transform and store each shape point\n",
        "    mesh_points = []\n",
        "    for x, y in X:\n",
        "        x_ = x_A + (x-min_x) * x_step  + (y-min_y) * (x_D - x_A) / num_rows\n",
        "        y_ = y_A + (y-min_y) * y_step  + (x-min_x) * (y_B - y_A) / num_cols\n",
        "        mesh_points.append([x_, y_])\n",
        "    return mesh_points\n",
        "\n",
        "# load polygon information into geojson format\n",
        "def process_type(attributes,shape):\n",
        "    # save a list of each shape's edges [pixels]\n",
        "    if shape=='rect':\n",
        "        x=int(attributes['x']); y=int(attributes['y'])\n",
        "        dx=int(attributes['width']); dy=int(attributes['height'])\n",
        "        return [[x,y],[x+dx,y],[x+dx,y+dy],[x,y+dy]]\n",
        "    else:\n",
        "        x=attributes['all_points_x']; y=attributes['all_points_y']\n",
        "        return [[int(x),int(y)] for x,y in zip(x,y)]\n",
        "\n",
        "# load dictionary columns of information\n",
        "dict_cols=['region_shape_attributes','region_attributes']\n",
        "data[dict_cols]=data[dict_cols].applymap(lambda x: json.loads(x))\n",
        "\n",
        "# process 'rect' and 'polygon' shapes\n",
        "data['type']=data['region_shape_attributes'].apply(lambda x: x['name'])\n",
        "for shape,df_shape in data.groupby('type', group_keys=False)['region_shape_attributes']:\n",
        "    data.loc[df_shape.index,'pixls_coor']=df_shape.apply(process_type,args=[shape])\n",
        "\n",
        "# get shape size (pixels)\n",
        "maxpxl_x,maxpxl_y=pd.DataFrame(data['pixls_coor'].apply(max).values.tolist()).max()\n",
        "minpxl_x,minpxl_y=pd.DataFrame(data['pixls_coor'].apply(min).values.tolist()).min()\n",
        "\n",
        "# transform original map into hospital polygon coordinates (lat,lon)\n",
        "x_D,y_D=-74.03056135394623,4.8563414479645814\n",
        "x_B,y_B=-74.03052796587849,4.855884944267842\n",
        "x_A,y_A=-74.03033456778033,4.856022342488572\n",
        "polygon=[x_A, y_A, x_B, y_B, x_D, y_D]\n",
        "shape=[minpxl_x,minpxl_y,maxpxl_x,maxpxl_y]\n",
        "mesh=lambda X: generate_non_axis_aligned_rectangular_mesh(polygon,X,shape)\n",
        "data[['coordinates']]=data[['pixls_coor']].applymap(lambda x: mesh(x))\n",
        "data[['coordinates']]=data[['coordinates']].applymap(lambda x: x+[x[0]])\n",
        "\n",
        "# save with geojson format\n",
        "features=[]\n",
        "for i,feature in data.iterrows():\n",
        "    info={\"type\": \"Feature\",\n",
        "            \"properties\":feature['region_attributes'],\n",
        "            \"geometry\":{\"coordinates\":[feature['coordinates']], \"type\": \"Polygon\"},\n",
        "            \"id\":i}\n",
        "    features.append(info)\n",
        "\n",
        "# download file (visualize on https://geojson.io/#new&map=2/0/20)\n",
        "geojson={\"type\": \"FeatureCollection\", \"features\": features}\n",
        "with open('unisabana_hospital.geojson', 'w') as convert_file:\n",
        "    geojson_file=json.dumps(geojson)\n",
        "    convert_file.write(geojson_file)\n"
      ]
    },
    {
      "cell_type": "code",
      "source": [
        "from PIL import Image\n",
        "img = Image.open(data_path+'pngs/'+'floorII_walls.png').convert(\"L\")\n",
        "bw = img.point(lambda x: 0 if x<220 else 255, '1')\n",
        "data = np.asarray(bw)\n",
        "bw\n",
        "\n",
        "\n",
        "import rasterio.features\n",
        "# Mask is a numpy array binary mask loaded however needed\n",
        "maskShape = rasterio.features.shapes(data.astype('uint8'))\n",
        "mypoly=[]\n",
        "for vec in maskShape:\n",
        "    mypoly.append(vec[0])\n"
      ],
      "metadata": {
        "id": "IhHRRVjPyudB"
      },
      "execution_count": 5,
      "outputs": []
    },
    {
      "cell_type": "code",
      "source": [
        "# save with geojson format\n",
        "features=[]\n",
        "for i,geometry in enumerate(mypoly[1:-1]):\n",
        "    mypoly[i]['coordinates']=[mesh(geometry['coordinates'][0])]\n",
        "    info={\"type\": \"Feature\",\n",
        "            \"properties\":{\"name\":\"floor\",\"Id\":\"2\"},\n",
        "            \"geometry\":mypoly[i],\n",
        "            \"id\":i}\n",
        "    features.append(info)\n",
        "\n",
        "# download file (visualize on https://geojson.io/#new&map=2/0/20)\n",
        "geojson={\"type\": \"FeatureCollection\", \"features\": features}\n",
        "with open('unisabana_hospital_floor.geojson', 'w') as convert_file:\n",
        "    geojson_file=json.dumps(geojson)\n",
        "    convert_file.write(geojson_file)"
      ],
      "metadata": {
        "id": "1df1UdJ514O8"
      },
      "execution_count": 4,
      "outputs": []
    },
    {
      "cell_type": "code",
      "source": [],
      "metadata": {
        "id": "UGDKaU0yBBZt"
      },
      "execution_count": null,
      "outputs": []
    }
  ]
}