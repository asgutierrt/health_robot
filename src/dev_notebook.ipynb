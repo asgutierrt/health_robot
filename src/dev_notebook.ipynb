{
 "cells": [
  {
   "cell_type": "code",
   "execution_count": 141,
   "metadata": {},
   "outputs": [
    {
     "ename": "TypeError",
     "evalue": "'<' not supported between instances of 'function' and 'function'",
     "output_type": "error",
     "traceback": [
      "\u001b[1;31m---------------------------------------------------------------------------\u001b[0m",
      "\u001b[1;31mTypeError\u001b[0m                                 Traceback (most recent call last)",
      "\u001b[1;32mc:\\Users\\anita\\Documents\\GitHub\\health_robot\\src\\dev_notebook.ipynb Cell 1\u001b[0m line \u001b[0;36m1\n\u001b[0;32m     <a href='vscode-notebook-cell:/c%3A/Users/anita/Documents/GitHub/health_robot/src/dev_notebook.ipynb#Y106sZmlsZQ%3D%3D?line=10'>11</a>\u001b[0m     heapq\u001b[39m.\u001b[39mheappush(task_queue, (\u001b[39m1\u001b[39m, \u001b[39m4\u001b[39m, task))\n\u001b[0;32m     <a href='vscode-notebook-cell:/c%3A/Users/anita/Documents/GitHub/health_robot/src/dev_notebook.ipynb#Y106sZmlsZQ%3D%3D?line=12'>13</a>\u001b[0m push(task_queue,repetitive_task)\n\u001b[1;32m---> <a href='vscode-notebook-cell:/c%3A/Users/anita/Documents/GitHub/health_robot/src/dev_notebook.ipynb#Y106sZmlsZQ%3D%3D?line=13'>14</a>\u001b[0m push(task_queue,repetitive_task2)\n\u001b[0;32m     <a href='vscode-notebook-cell:/c%3A/Users/anita/Documents/GitHub/health_robot/src/dev_notebook.ipynb#Y106sZmlsZQ%3D%3D?line=16'>17</a>\u001b[0m task_queue\n",
      "\u001b[1;32mc:\\Users\\anita\\Documents\\GitHub\\health_robot\\src\\dev_notebook.ipynb Cell 1\u001b[0m line \u001b[0;36m1\n\u001b[0;32m     <a href='vscode-notebook-cell:/c%3A/Users/anita/Documents/GitHub/health_robot/src/dev_notebook.ipynb#Y106sZmlsZQ%3D%3D?line=9'>10</a>\u001b[0m \u001b[39mdef\u001b[39;00m \u001b[39mpush\u001b[39m(task_queue,task):\n\u001b[1;32m---> <a href='vscode-notebook-cell:/c%3A/Users/anita/Documents/GitHub/health_robot/src/dev_notebook.ipynb#Y106sZmlsZQ%3D%3D?line=10'>11</a>\u001b[0m     heapq\u001b[39m.\u001b[39;49mheappush(task_queue, (\u001b[39m1\u001b[39;49m, \u001b[39m4\u001b[39;49m, task))\n",
      "\u001b[1;31mTypeError\u001b[0m: '<' not supported between instances of 'function' and 'function'"
     ]
    }
   ],
   "source": [
    "import heapq\n",
    "\n",
    "def repetitive_task():\n",
    "    print(\"Repetitive Task executed\")\n",
    "\n",
    "def repetitive_task2():\n",
    "    print(\"Repetitive Task 2 executed\")\n",
    "\n",
    "task_queue = []\n",
    "def push(task_queue,task):\n",
    "    heapq.heappush(task_queue, (1, 4, task))\n",
    "\n",
    "push(task_queue,repetitive_task)\n",
    "push(task_queue,repetitive_task2)\n",
    "\n",
    "task_queue"
   ]
  },
  {
   "cell_type": "code",
   "execution_count": 371,
   "metadata": {},
   "outputs": [
    {
     "name": "stdout",
     "output_type": "stream",
     "text": [
      "time 0\n",
      "prepare to walk\n",
      "walking\n",
      "loc: 1 path: []\n",
      "scheduler [(0, 1, 0, {'action': 'do-document', 'route': [1], 'duration': 2}), (9, 3, 0, {'action': 'do-document', 'route': [1], 'duration': 2}), (7, 2, 3, {'action': 'do-document', 'route': [1, 2], 'duration': 1}), (20, 0, 0, {'action': 'remove'})]\n",
      "   owner state walking \n",
      "\n",
      "time 1\n",
      "arrived at destination\n",
      "loc: 1 path: []\n",
      "prepare to execute\n",
      "initiating interaction\n",
      "executing task\n",
      "scheduler [(7, 2, 3, {'action': 'do-document', 'route': [1, 2], 'duration': 1}), (9, 3, 0, {'action': 'do-document', 'route': [1], 'duration': 2}), (20, 0, 0, {'action': 'remove'})]\n",
      "   owner state do-document \n",
      "\n",
      "time 2\n",
      "executing task\n",
      "scheduler [(7, 2, 3, {'action': 'do-document', 'route': [1, 2], 'duration': 1}), (9, 3, 0, {'action': 'do-document', 'route': [1], 'duration': 2}), (20, 0, 0, {'action': 'remove'})]\n",
      "   owner state do-document \n",
      "\n",
      "time 3\n",
      "finished task\n",
      "terminating interaction\n",
      "scheduler [(7, 2, 3, {'action': 'do-document', 'route': [1, 2], 'duration': 1}), (9, 3, 0, {'action': 'do-document', 'route': [1], 'duration': 2}), (20, 0, 0, {'action': 'remove'})]\n",
      "   owner state idle \n",
      "\n",
      "time 4\n",
      "scheduler [(7, 2, 3, {'action': 'do-document', 'route': [1, 2], 'duration': 1}), (9, 3, 0, {'action': 'do-document', 'route': [1], 'duration': 2}), (20, 0, 0, {'action': 'remove'})]\n",
      "   owner state idle \n",
      "\n",
      "time 5\n",
      "scheduler [(7, 2, 3, {'action': 'do-document', 'route': [1, 2], 'duration': 1}), (9, 3, 0, {'action': 'do-document', 'route': [1], 'duration': 2}), (20, 0, 0, {'action': 'remove'})]\n",
      "   owner state idle \n",
      "\n",
      "time 6\n",
      "scheduler [(7, 2, 3, {'action': 'do-document', 'route': [1, 2], 'duration': 1}), (9, 3, 0, {'action': 'do-document', 'route': [1], 'duration': 2}), (20, 0, 0, {'action': 'remove'})]\n",
      "   owner state idle \n",
      "\n",
      "time 7\n",
      "prepare to walk\n",
      "walking\n",
      "loc: 1 path: [2]\n",
      "scheduler [(7, 2, 3, {'action': 'do-document', 'route': [1, 2], 'duration': 1}), (9, 3, 0, {'action': 'do-document', 'route': [1], 'duration': 2}), (20, 0, 0, {'action': 'remove'})]\n",
      "   owner state walking \n",
      "\n",
      "time 8\n",
      "walking\n",
      "loc: 2 path: []\n",
      "scheduler [(7, 2, 3, {'action': 'do-document', 'route': [1, 2], 'duration': 1}), (9, 3, 0, {'action': 'do-document', 'route': [1], 'duration': 2}), (20, 0, 0, {'action': 'remove'})]\n",
      "   owner state walking \n",
      "\n",
      "time 9\n",
      "arrived at destination\n",
      "loc: 2 path: []\n",
      "prepare to execute\n",
      "initiating interaction\n",
      "executing task\n",
      "scheduler [(9, 3, 0, {'action': 'do-document', 'route': [1], 'duration': 2}), (20, 0, 0, {'action': 'remove'}), (10, 4, 3, {'action': 'do-document', 'route': [1, 2], 'duration': 1})]\n",
      "   owner state do-document \n",
      "\n",
      "time 10\n",
      "finished task\n",
      "terminating interaction\n",
      "prepare to walk\n",
      "walking\n",
      "loc: 1 path: []\n",
      "scheduler [(9, 3, 0, {'action': 'do-document', 'route': [1], 'duration': 2}), (20, 0, 0, {'action': 'remove'}), (10, 4, 3, {'action': 'do-document', 'route': [1, 2], 'duration': 1})]\n",
      "   owner state walking \n",
      "\n",
      "time 11\n",
      "arrived at destination\n",
      "loc: 1 path: []\n",
      "prepare to execute\n",
      "initiating interaction\n",
      "executing task\n",
      "scheduler [(10, 4, 3, {'action': 'do-document', 'route': [1, 2], 'duration': 1}), (20, 0, 0, {'action': 'remove'})]\n",
      "   owner state do-document \n",
      "\n",
      "time 12\n",
      "executing task\n",
      "scheduler [(10, 4, 3, {'action': 'do-document', 'route': [1, 2], 'duration': 1}), (20, 0, 0, {'action': 'remove'})]\n",
      "   owner state do-document \n",
      "\n",
      "time 13\n",
      "finished task\n",
      "terminating interaction\n",
      "prepare to walk\n",
      "walking\n",
      "loc: 1 path: [2]\n",
      "scheduler [(10, 4, 3, {'action': 'do-document', 'route': [1, 2], 'duration': 1}), (20, 0, 0, {'action': 'remove'})]\n",
      "   owner state walking \n",
      "\n",
      "time 14\n",
      "walking\n",
      "loc: 2 path: []\n",
      "scheduler [(10, 4, 3, {'action': 'do-document', 'route': [1, 2], 'duration': 1}), (20, 0, 0, {'action': 'remove'})]\n",
      "   owner state walking \n",
      "\n",
      "time 15\n",
      "arrived at destination\n",
      "loc: 2 path: []\n",
      "prepare to execute\n",
      "initiating interaction\n",
      "executing task\n",
      "scheduler [(13, 5, 3, {'action': 'do-document', 'route': [1, 2], 'duration': 1}), (20, 0, 0, {'action': 'remove'})]\n",
      "   owner state do-document \n",
      "\n",
      "time 16\n",
      "finished task\n",
      "terminating interaction\n",
      "prepare to execute\n",
      "initiating interaction\n",
      "executing task\n",
      "scheduler [(16, 6, 3, {'action': 'do-document', 'route': [1, 2], 'duration': 1}), (20, 0, 0, {'action': 'remove'})]\n",
      "   owner state do-document \n",
      "\n",
      "time 17\n",
      "finished task\n",
      "terminating interaction\n",
      "prepare to execute\n",
      "initiating interaction\n",
      "executing task\n",
      "scheduler [(19, 7, 3, {'action': 'do-document', 'route': [1, 2], 'duration': 1}), (20, 0, 0, {'action': 'remove'})]\n",
      "   owner state do-document \n",
      "\n",
      "time 18\n",
      "finished task\n",
      "terminating interaction\n",
      "scheduler [(19, 7, 3, {'action': 'do-document', 'route': [1, 2], 'duration': 1}), (20, 0, 0, {'action': 'remove'})]\n",
      "   owner state idle \n",
      "\n",
      "time 19\n",
      "prepare to execute\n",
      "initiating interaction\n",
      "executing task\n",
      "scheduler [(20, 0, 0, {'action': 'remove'}), (22, 8, 3, {'action': 'do-document', 'route': [1, 2], 'duration': 1})]\n",
      "   owner state do-document \n",
      "\n",
      "time 20\n",
      "finished task\n",
      "terminating interaction\n",
      "prepare to execute\n",
      "scheduler [(22, 8, 3, {'action': 'do-document', 'route': [1, 2], 'duration': 1})]\n",
      "   owner state remove \n",
      "\n",
      "time 21\n",
      "removing\n",
      "scheduler []\n",
      "   owner state idle \n",
      "\n",
      "time 22\n",
      "scheduler []\n",
      "   owner state idle \n",
      "\n",
      "time 23\n",
      "scheduler []\n",
      "   owner state idle \n",
      "\n",
      "time 24\n",
      "scheduler []\n",
      "   owner state idle \n",
      "\n"
     ]
    }
   ],
   "source": [
    "import heapq\n",
    "import time\n",
    "\n",
    "class PersonScheduler:\n",
    "    def __init__(self, owner):\n",
    "        self.task_queue = []  # Priority queue to manage tasks\n",
    "        self.hold_next_action = 0  # Time to wait before executing next task\n",
    "        self.hold_current_action = 0 # Time to wait before executing current task\n",
    "        self.do_finish_task = False  # Flag to finish current task\n",
    "        self.owner = owner\n",
    "        self.dummy_counter = 0\n",
    "        \n",
    "    def add_scheduled_task(self, freq=0, execute_in=0, **task_kwargs):\n",
    "        start_time = self.owner.steps + execute_in # Calculate the first scheduled time\n",
    "        heapq.heappush(self.task_queue, (start_time, self.dummy_counter, freq, task_kwargs))  # Add the task with its frequency\n",
    "        self.dummy_counter += 1\n",
    "\n",
    "    def execute_schedule(self, current_time):\n",
    "        \"\"\"Execute next task if it's time to do so and there is no previous task in progress.\"\"\"\n",
    "        if self.do_finish_task: \n",
    "            self.owner.terminate_task()\n",
    "            self.do_finish_task = False\n",
    "\n",
    "        if self.hold_next_action or self.hold_current_action: # if there is a task in progress\n",
    "            self.owner.execute_task()\n",
    "            return None\n",
    "        \n",
    "        try: # if there is a task in the queue\n",
    "            next_time, _, freq, task_kwargs = self.task_queue[0]\n",
    "        except IndexError:\n",
    "            return None\n",
    "\n",
    "        if current_time >= next_time:\n",
    "            self.owner.prepare_task(**task_kwargs)\n",
    "            if not self.hold_current_action: # if task can start immediately\n",
    "                heapq.heappop(self.task_queue)\n",
    "                if freq > 0:\n",
    "                    self.add_scheduled_task(freq=freq, execute_in=freq + next_time - current_time, **task_kwargs)\n",
    "            self.owner.execute_task() # execute task\n",
    "    \n",
    "            \n",
    "\n",
    "class Owner:\n",
    "    def __init__(self):\n",
    "        self.steps = 0\n",
    "        self.loc = 0\n",
    "        self.scheduler=PersonScheduler(self)\n",
    "        self.set_idle()\n",
    "\n",
    "    def set_idle(self):\n",
    "        self.state='idle'\n",
    "        self.path=[]\n",
    "\n",
    "    def step(self):\n",
    "        print('time', self.steps)\n",
    "        self.scheduler.execute_schedule(self.steps)\n",
    "        print('scheduler', self.scheduler.task_queue)\n",
    "        print('   owner state', self.state, '\\n')\n",
    "        self.steps += 1\n",
    "\n",
    "    def prepare_task(self, **kwargs):\n",
    "        '''either hold the current task while walking or hold the next task while executing current'''\n",
    "        route = kwargs['route'] if 'route' in kwargs else []\n",
    "        if not route or self.compare_placement(route[-1]):\n",
    "            print('prepare to execute')\n",
    "            self.state=kwargs['action'] #self.model.action_state[kwargs['action']]\n",
    "            self.scheduler.hold_next_action = kwargs['duration'] if 'duration' in kwargs else 0\n",
    "            if route: self.do_interactions(with_=route[-1], mode=\"initiate\")\n",
    "        else:\n",
    "            print('prepare to walk')\n",
    "            self.find_path(route)\n",
    "            self.state='walking'\n",
    "            self.scheduler.hold_current_action = 1 # hold current task while walking\n",
    "\n",
    "    def execute_task(self):\n",
    "        if self.state=='walking':\n",
    "            print('walking')\n",
    "            self.loc=self.path.pop(0)\n",
    "            print('loc:', self.loc, 'path:', self.path)\n",
    "            if len(self.path)==0: \n",
    "                self.scheduler.do_finish_task=True\n",
    "        elif self.state=='remove': \n",
    "            self.scheduler.do_finish_task=True\n",
    "        else:\n",
    "            print('executing task')\n",
    "            self.scheduler.hold_next_action -= 1\n",
    "            if self.scheduler.hold_next_action == 0: \n",
    "                self.scheduler.do_finish_task=True                  \n",
    "\n",
    "    def terminate_task(self):\n",
    "        if self.state=='walking':\n",
    "            print(\"arrived at destination\")\n",
    "            print('loc:', self.loc, 'path:', self.path)\n",
    "            self.scheduler.hold_current_action=0\n",
    "            self.set_idle()\n",
    "        elif self.state=='remove': #leaving\n",
    "            print('removing')\n",
    "            self.set_idle()\n",
    "            self.scheduler.task_queue=[]\n",
    "        else:\n",
    "            print('finished task')\n",
    "            self.do_interactions(mode=\"terminate\")\n",
    "            self.set_idle()\n",
    "\n",
    "    def find_path(self, places):\n",
    "        self.path=places.copy()\n",
    "    \n",
    "    def compare_placement(self, place):\n",
    "        return self.loc==place\n",
    "    \n",
    "    def do_interactions(self, with_=None, mode=None):\n",
    "        if mode==\"initiate\":\n",
    "            print('initiating interaction')\n",
    "        elif mode==\"terminate\":\n",
    "            print('terminating interaction')\n",
    "\n",
    "    \n",
    "    \n",
    "\n",
    "\n",
    "owner = Owner()\n",
    "owner.scheduler.add_scheduled_task(action='remove', execute_in=20)\n",
    "owner.scheduler.add_scheduled_task(action='do-document', route=[1], duration=2)\n",
    "owner.scheduler.add_scheduled_task(execute_in=7, freq=3, action='do-document', route=[1,2], duration=1)\n",
    "owner.scheduler.add_scheduled_task(execute_in=9, action='do-document', route=[1], duration=2)\n",
    "\n",
    "for i in range(25):\n",
    "    owner.step()"
   ]
  },
  {
   "cell_type": "code",
   "execution_count": 363,
   "metadata": {},
   "outputs": [],
   "source": [
    "owner = Owner()\n",
    "owner.scheduler.add_scheduled_task(action='remove', execute_in=20)\n",
    "owner.scheduler.add_scheduled_task(action='do-document', route=[1], duration=2)\n",
    "owner.scheduler.add_scheduled_task(execute_in=7, freq=3, action='do-document', route=[1,2], duration=1)\n",
    "owner.scheduler.add_scheduled_task(execute_in=9, action='do-document', route=[1], duration=2)\n"
   ]
  },
  {
   "cell_type": "code",
   "execution_count": 372,
   "metadata": {},
   "outputs": [
    {
     "data": {
      "text/plain": [
       "True"
      ]
     },
     "execution_count": 372,
     "metadata": {},
     "output_type": "execute_result"
    }
   ],
   "source": [
    "'waiting' in 'waiting-action'"
   ]
  },
  {
   "cell_type": "code",
   "execution_count": 374,
   "metadata": {},
   "outputs": [
    {
     "data": {
      "text/plain": [
       "['do-document', [1], 2, 'do-document']"
      ]
     },
     "execution_count": 374,
     "metadata": {},
     "output_type": "execute_result"
    }
   ],
   "source": [
    "a={'abstract': 'do-document', 'route': [1], 'duration': 2, 'action': 'do-document'}\n",
    "list(a.values())"
   ]
  },
  {
   "cell_type": "code",
   "execution_count": 364,
   "metadata": {},
   "outputs": [],
   "source": [
    "owner2 = Owner()\n",
    "owner2.scheduler.add_scheduled_task(action='remove', execute_in=30)"
   ]
  },
  {
   "cell_type": "code",
   "execution_count": 365,
   "metadata": {},
   "outputs": [],
   "source": [
    "owner2.scheduler.task_queue.extend(owner.scheduler.task_queue)"
   ]
  },
  {
   "cell_type": "code",
   "execution_count": 367,
   "metadata": {},
   "outputs": [
    {
     "data": {
      "text/plain": [
       "[(30, 0, 0, {'action': 'remove'}),\n",
       " (0, 1, 0, {'action': 'do-document', 'route': [1], 'duration': 2}),\n",
       " (9, 3, 0, {'action': 'do-document', 'route': [1], 'duration': 2}),\n",
       " (7, 2, 3, {'action': 'do-document', 'route': [1, 2], 'duration': 1}),\n",
       " (20, 0, 0, {'action': 'remove'})]"
      ]
     },
     "execution_count": 367,
     "metadata": {},
     "output_type": "execute_result"
    }
   ],
   "source": [
    "owner2.scheduler.task_queue"
   ]
  },
  {
   "cell_type": "code",
   "execution_count": 350,
   "metadata": {},
   "outputs": [],
   "source": [
    "route=[1,2]\n",
    "owner.find_path(route)"
   ]
  },
  {
   "cell_type": "code",
   "execution_count": 351,
   "metadata": {},
   "outputs": [
    {
     "data": {
      "text/plain": [
       "1"
      ]
     },
     "execution_count": 351,
     "metadata": {},
     "output_type": "execute_result"
    }
   ],
   "source": [
    "owner.path.pop(0)"
   ]
  },
  {
   "cell_type": "code",
   "execution_count": 352,
   "metadata": {},
   "outputs": [
    {
     "data": {
      "text/plain": [
       "[2]"
      ]
     },
     "execution_count": 352,
     "metadata": {},
     "output_type": "execute_result"
    }
   ],
   "source": [
    "owner.path"
   ]
  },
  {
   "cell_type": "code",
   "execution_count": 165,
   "metadata": {},
   "outputs": [],
   "source": [
    "owner = Owner()\n",
    "next_time, _, interval, task, task_kwargs = owner.scheduler.task_queue[0]"
   ]
  },
  {
   "cell_type": "code",
   "execution_count": 170,
   "metadata": {},
   "outputs": [],
   "source": [
    "def remove(**kwargs):\n",
    "    print(\"Remove executed\")"
   ]
  },
  {
   "cell_type": "code",
   "execution_count": 175,
   "metadata": {},
   "outputs": [
    {
     "name": "stdout",
     "output_type": "stream",
     "text": [
      "Remove executed\n"
     ]
    }
   ],
   "source": [
    "remove(**{'a':3})"
   ]
  },
  {
   "cell_type": "code",
   "execution_count": 169,
   "metadata": {},
   "outputs": [
    {
     "ename": "TypeError",
     "evalue": "remove() takes 1 positional argument but 2 were given",
     "output_type": "error",
     "traceback": [
      "\u001b[1;31m---------------------------------------------------------------------------\u001b[0m",
      "\u001b[1;31mTypeError\u001b[0m                                 Traceback (most recent call last)",
      "\u001b[1;32mc:\\Users\\anita\\Documents\\GitHub\\health_robot\\src\\dev_notebook.ipynb Cell 4\u001b[0m line \u001b[0;36m1\n\u001b[1;32m----> <a href='vscode-notebook-cell:/c%3A/Users/anita/Documents/GitHub/health_robot/src/dev_notebook.ipynb#Y112sZmlsZQ%3D%3D?line=0'>1</a>\u001b[0m task(\u001b[39m9\u001b[39;49m)\n",
      "\u001b[1;31mTypeError\u001b[0m: remove() takes 1 positional argument but 2 were given"
     ]
    }
   ],
   "source": [
    "task(9)"
   ]
  },
  {
   "cell_type": "code",
   "execution_count": 163,
   "metadata": {},
   "outputs": [
    {
     "ename": "TypeError",
     "evalue": "remove() takes 1 positional argument but 2 were given",
     "output_type": "error",
     "traceback": [
      "\u001b[1;31m---------------------------------------------------------------------------\u001b[0m",
      "\u001b[1;31mTypeError\u001b[0m                                 Traceback (most recent call last)",
      "\u001b[1;32mc:\\Users\\anita\\Documents\\GitHub\\health_robot\\src\\dev_notebook.ipynb Cell 5\u001b[0m line \u001b[0;36m1\n\u001b[1;32m----> <a href='vscode-notebook-cell:/c%3A/Users/anita/Documents/GitHub/health_robot/src/dev_notebook.ipynb#Y111sZmlsZQ%3D%3D?line=0'>1</a>\u001b[0m task(task_kwargs)\n",
      "\u001b[1;31mTypeError\u001b[0m: remove() takes 1 positional argument but 2 were given"
     ]
    }
   ],
   "source": [
    "task(task_kwargs)"
   ]
  },
  {
   "cell_type": "code",
   "execution_count": 115,
   "metadata": {},
   "outputs": [
    {
     "name": "stdout",
     "output_type": "stream",
     "text": [
      "Repetitive Task executed\n",
      "Repetitive Task executed\n",
      "Repetitive Task executed\n"
     ]
    }
   ],
   "source": [
    "current_time = 15 #time.time()\n",
    "scheduler.execute_tasks(current_time)"
   ]
  },
  {
   "cell_type": "code",
   "execution_count": 9,
   "metadata": {},
   "outputs": [],
   "source": [
    "def f(a=3):\n",
    "    for i in range(a):\n",
    "        yield i\n",
    "        if i==8: return"
   ]
  },
  {
   "cell_type": "code",
   "execution_count": 12,
   "metadata": {},
   "outputs": [
    {
     "name": "stdout",
     "output_type": "stream",
     "text": [
      "0\n",
      "2\n",
      "4\n",
      "6\n",
      "8\n"
     ]
    }
   ],
   "source": [
    "for x in filter(lambda x: x%2==0, f(10)):\n",
    "    print(x)"
   ]
  },
  {
   "cell_type": "code",
   "execution_count": 6,
   "metadata": {},
   "outputs": [
    {
     "data": {
      "text/plain": [
       "{1: 3, 2: 0, 3: 0}"
      ]
     },
     "execution_count": 6,
     "metadata": {},
     "output_type": "execute_result"
    }
   ],
   "source": [
    "x[1]=3\n",
    "x"
   ]
  },
  {
   "cell_type": "code",
   "execution_count": 8,
   "metadata": {},
   "outputs": [
    {
     "data": {
      "text/plain": [
       "[3, 2, 1, 0]"
      ]
     },
     "execution_count": 8,
     "metadata": {},
     "output_type": "execute_result"
    }
   ],
   "source": [
    "sorted([1,2,3,0],reverse=True)"
   ]
  },
  {
   "cell_type": "code",
   "execution_count": 6,
   "metadata": {},
   "outputs": [
    {
     "ename": "TypeError",
     "evalue": "object of type 'generator' has no len()",
     "output_type": "error",
     "traceback": [
      "\u001b[1;31m---------------------------------------------------------------------------\u001b[0m",
      "\u001b[1;31mTypeError\u001b[0m                                 Traceback (most recent call last)",
      "\u001b[1;32mc:\\Users\\anita\\Documents\\GitHub\\health_robot\\src\\dev_notebook.ipynb Cell 4\u001b[0m line \u001b[0;36m1\n\u001b[1;32m----> <a href='vscode-notebook-cell:/c%3A/Users/anita/Documents/GitHub/health_robot/src/dev_notebook.ipynb#X65sZmlsZQ%3D%3D?line=0'>1</a>\u001b[0m \u001b[39mlen\u001b[39;49m((x \u001b[39mfor\u001b[39;49;00m x \u001b[39min\u001b[39;49;00m \u001b[39mrange\u001b[39;49m(\u001b[39m3\u001b[39;49m)))\n",
      "\u001b[1;31mTypeError\u001b[0m: object of type 'generator' has no len()"
     ]
    }
   ],
   "source": [
    "len((x for x in range(3)))"
   ]
  },
  {
   "cell_type": "code",
   "execution_count": 16,
   "metadata": {},
   "outputs": [],
   "source": [
    "a=0\n",
    "if []:\n",
    "    print(a)"
   ]
  },
  {
   "cell_type": "code",
   "execution_count": 375,
   "metadata": {},
   "outputs": [],
   "source": [
    "import mesa\n",
    "import mesa_geo as mg\n",
    "from shapely.geometry import Point, LineString\n",
    "import geopandas as gpd\n",
    "import matplotlib.pyplot as plt\n",
    "from os.path import join\n",
    "import pandas as pd\n",
    "\n",
    "class State(mg.GeoAgent):\n",
    "    def __init__(self, unique_id, model, geometry, crs):\n",
    "        super().__init__(unique_id, model, geometry, crs)\n",
    "        if self.unique_id == 'path': self.atype = 'path'\n",
    "\n",
    "class GeoModel(mesa.Model):\n",
    "    def __init__(self):\n",
    "        self.space = mg.GeoSpace(warn_crs_conversion=False)\n",
    "\n",
    "        file_path=join ('..','data','floorplans','unisabana_hospital_%s.geojson')\n",
    "        file_names=['floor','polygons']\n",
    "        df_space = pd.concat((gpd.read_file(file_path%file) for file in file_names),ignore_index=True)\n",
    "        space_agents = mg.AgentCreator(agent_class=State, model=self).from_GeoDataFrame(df_space)  \n",
    "        self.space.add_agents(space_agents)\n",
    "        self.walk=[]\n",
    "        for agent in self.space.agents:\n",
    "            if agent.atype != 'floor' and agent.atype!='room':\n",
    "                self.walk.append(agent)\n",
    "\n",
    "    def compare_path_bounds(self, path_bounds, start, end) -> bool:\n",
    "        path_a, path_b = path_bounds\n",
    "        return path_a.within(start.buffer(0.2)) and path_b.within(end.buffer(0.2))"
   ]
  },
  {
   "cell_type": "code",
   "execution_count": 376,
   "metadata": {},
   "outputs": [],
   "source": [
    "m = GeoModel()\n",
    "floor = [i for i in m.space.agents if i.atype == \"floor\"][0]\n",
    "source = m.space.agents[20]#.geometry.centroid\n",
    "target = m.space.agents[20]#.geometry.centroid"
   ]
  },
  {
   "cell_type": "code",
   "execution_count": 22,
   "metadata": {},
   "outputs": [
    {
     "data": {
      "text/plain": [
       "'bed'"
      ]
     },
     "execution_count": 22,
     "metadata": {},
     "output_type": "execute_result"
    }
   ],
   "source": [
    "source.atype"
   ]
  },
  {
   "cell_type": "code",
   "execution_count": 377,
   "metadata": {},
   "outputs": [],
   "source": [
    "medic_room = [i for i in m.space.agents if i.atype == \"medication_station\"][0]\n",
    "nurse_station = [i for i in m.space.agents if i.atype == \"nurse_station\"][0]"
   ]
  },
  {
   "cell_type": "code",
   "execution_count": 378,
   "metadata": {},
   "outputs": [
    {
     "data": {
      "text/plain": [
       "<__main__.State at 0x260119b4e20>"
      ]
     },
     "execution_count": 378,
     "metadata": {},
     "output_type": "execute_result"
    }
   ],
   "source": [
    "medic_room"
   ]
  },
  {
   "cell_type": "code",
   "execution_count": 393,
   "metadata": {},
   "outputs": [
    {
     "name": "stdout",
     "output_type": "stream",
     "text": [
      "27\n"
     ]
    },
    {
     "data": {
      "image/png": "[encoded data removed]",
      "text/plain": [
       "<Figure size 640x480 with 1 Axes>"
      ]
     },
     "metadata": {},
     "output_type": "display_data"
    }
   ],
   "source": [
    "import numpy as np\n",
    "ox,oy=np.array(floor.geometry.boundary.segmentize(max_segment_length=0.001).coords.xy)\n",
    "plt.scatter(ox,oy,marker='.',linewidths=0.005)\n",
    "\n",
    "\n",
    "for space in m.walk:\n",
    "    s=space.geometry.centroid\n",
    "    s_near=s.buffer(0.2)\n",
    "    plt.scatter(*s_near.exterior.xy,marker='o',linewidths=0.05)\n",
    "    plt.scatter([s.x],[s.y],marker='.',color='black',s=1)\n",
    "\n",
    "\n",
    "llegadas=[]\n",
    "some_space=medic_room.geometry.centroid\n",
    "for path_bounds, path in cache_paths.items():\n",
    "    if path_bounds[0].within(some_space.buffer(0.2)):\n",
    "        plt.scatter([x for x,_ in path],[y for _,y in path],marker='.',linewidths=0.05)\n",
    "        llegadas.append(path_bounds[1])\n",
    "plt.scatter([some_space.x],[some_space.y],marker='*',color='yellow',s=15)\n",
    "\n",
    "print(i)\n",
    "i+=1"
   ]
  },
  {
   "cell_type": "code",
   "execution_count": null,
   "metadata": {},
   "outputs": [],
   "source": [
    "ox,oy=np.array(floor.geometry.boundary.segmentize(max_segment_length=0.001).coords.xy)\n",
    "plt.scatter(ox,oy,marker='.',linewidths=0.005)\n",
    "\n",
    "\n",
    "for x in llegadas:\n",
    "    for y in llegadas:\n",
    "        if x!=y:\n",
    "            if x.within(y.buffer(0.2)):\n",
    "                plt.scatter([x.x],[x.y],marker='*',color='red',s=5)\n",
    "                plt.scatter([y.x],[y.y],marker='*',color='green',s=5)\n",
    "                print(x,y)"
   ]
  },
  {
   "cell_type": "code",
   "execution_count": 389,
   "metadata": {},
   "outputs": [],
   "source": [
    "import pickle\n",
    "\n",
    "def get_path (from_agent, to_agent, cache_paths,dstarlite):\n",
    "    # start and finish geo-points\n",
    "    start=from_agent.geometry.centroid; end=to_agent.geometry.centroid\n",
    "\n",
    "    # try to load path from cache\n",
    "    for path_bounds, path in cache_paths.items():\n",
    "        if m.compare_path_bounds(path_bounds, start, end): return path.tolist()\n",
    "\n",
    "    # if not on cache: calculate shortest path\n",
    "    print('calculating path to %s'%str(to_agent.unique_id))\n",
    "    found_path, stepByStep_Path = dstarlite.main(start, end)\n",
    "    if not found_path: raise NameError ('path not found from %s to %s'%(str(start),str(end)))\n",
    "    \n",
    "    # update cache of paths\n",
    "    cache_paths[(start,end)] = stepByStep_Path\n",
    "    cache_paths[(end,start)] = stepByStep_Path[::-1]\n",
    "    with open(\"../data/paths/cache_paths.pkl\", \"wb\") as cache_file:\n",
    "        pickle.dump(cache_paths,cache_file)\n",
    "\n",
    "    return stepByStep_Path.tolist()"
   ]
  },
  {
   "cell_type": "code",
   "execution_count": 390,
   "metadata": {},
   "outputs": [],
   "source": [
    "from data_processing.FloorNavigation import DStarLite, Node\n",
    "from data_processing.FloorPixelation import pixelate_floorplan\n",
    "\n",
    "dstarlite = DStarLite(floor, zoom_factor=0.09)"
   ]
  },
  {
   "cell_type": "code",
   "execution_count": 198,
   "metadata": {},
   "outputs": [
    {
     "data": {
      "text/plain": [
       "'bed'"
      ]
     },
     "execution_count": 198,
     "metadata": {},
     "output_type": "execute_result"
    }
   ],
   "source": [
    "m.walk[7].atype"
   ]
  },
  {
   "cell_type": "code",
   "execution_count": 391,
   "metadata": {},
   "outputs": [
    {
     "name": "stdout",
     "output_type": "stream",
     "text": [
      "calculating path to 3\n",
      "Initializing\n",
      "calculating path\n",
      "Path found\n",
      "calculating path to 4\n",
      "Initializing\n",
      "calculating path\n",
      "Path found\n",
      "calculating path to 5\n",
      "Initializing\n",
      "calculating path\n",
      "Path found\n",
      "calculating path to 6\n",
      "Initializing\n",
      "calculating path\n",
      "Path found\n",
      "calculating path to 13\n",
      "Initializing\n",
      "calculating path\n",
      "Path found\n",
      "calculating path to 14\n",
      "Initializing\n",
      "calculating path\n",
      "Path found\n",
      "calculating path to 15\n",
      "Initializing\n",
      "calculating path\n",
      "Path found\n",
      "calculating path to 16\n",
      "Initializing\n",
      "calculating path\n",
      "Path found\n",
      "calculating path to 17\n",
      "Initializing\n",
      "calculating path\n",
      "Path found\n",
      "calculating path to 18\n",
      "Initializing\n",
      "calculating path\n",
      "Path found\n",
      "calculating path to 19\n",
      "Initializing\n",
      "calculating path\n",
      "Path found\n",
      "calculating path to 20\n",
      "Initializing\n",
      "calculating path\n",
      "Path found\n",
      "calculating path to 21\n",
      "Initializing\n",
      "calculating path\n",
      "Path found\n",
      "calculating path to 22\n",
      "Initializing\n",
      "calculating path\n",
      "Path found\n",
      "calculating path to 23\n",
      "Initializing\n",
      "calculating path\n",
      "Path found\n",
      "calculating path to 25\n",
      "Initializing\n",
      "calculating path\n",
      "Path found\n",
      "calculating path to 29\n",
      "Initializing\n",
      "calculating path\n",
      "Path found\n",
      "calculating path to 30\n",
      "Initializing\n",
      "calculating path\n",
      "Path found\n",
      "calculating path to 32\n",
      "Initializing\n",
      "calculating path\n",
      "Path found\n",
      "calculating path to 34\n",
      "Initializing\n",
      "calculating path\n",
      "Path found\n",
      "calculating path to 35\n",
      "Initializing\n",
      "calculating path\n",
      "Path found\n",
      "calculating path to 36\n",
      "Initializing\n",
      "calculating path\n",
      "Path found\n",
      "calculating path to 38\n",
      "Initializing\n",
      "calculating path\n",
      "Path found\n",
      "calculating path to 39\n",
      "Initializing\n",
      "calculating path\n",
      "Path found\n",
      "calculating path to 40\n",
      "Initializing\n",
      "calculating path\n",
      "Path found\n",
      "calculating path to 41\n",
      "Initializing\n",
      "calculating path\n",
      "Path found\n",
      "calculating path to 43\n",
      "Initializing\n",
      "calculating path\n",
      "Path found\n",
      "calculating path to 44\n",
      "Initializing\n",
      "calculating path\n",
      "Path found\n",
      "calculating path to 45\n",
      "Initializing\n",
      "calculating path\n",
      "Path found\n",
      "calculating path to 46\n",
      "Initializing\n",
      "calculating path\n",
      "Path found\n"
     ]
    }
   ],
   "source": [
    "for space in m.walk:\n",
    "    get_path (medic_room, space, cache_paths, dstarlite)"
   ]
  },
  {
   "cell_type": "code",
   "execution_count": 201,
   "metadata": {},
   "outputs": [
    {
     "data": {
      "image/png": "[encoded data removed]",
      "text/plain": [
       "<Figure size 640x480 with 1 Axes>"
      ]
     },
     "metadata": {},
     "output_type": "display_data"
    }
   ],
   "source": [
    "plt.scatter(ox,oy,marker='.',linewidths=0.005)\n",
    "\n",
    "for space in m.walk:\n",
    "    s=space.geometry.centroid\n",
    "    s_near=s.buffer(0.2)\n",
    "    plt.scatter(*s_near.exterior.xy,marker='o',linewidths=0.05)\n",
    "    plt.scatter([s.x],[s.y],marker='.',color='black',s=1)\n",
    "\n",
    "\n",
    "for space in m.walk:\n",
    "    found=False\n",
    "    for path_bounds, path in cache_paths.items():\n",
    "        if m.compare_path_bounds(path_bounds, space.geometry.centroid, m.walk[7].geometry.centroid):\n",
    "            plt.scatter([x for x,_ in path],[y for _,y in path],marker='.',linewidths=0.05)\n",
    "            found=True\n",
    "    \n",
    "    if not found: print('missing path from %s to %s'%('nurse_station',str(space.unique_id)))"
   ]
  },
  {
   "cell_type": "code",
   "execution_count": null,
   "metadata": {},
   "outputs": [],
   "source": [
    "from model.d_star_lite import DStarLite, Node\n",
    "from model.utils import pixelate_floorplan\n",
    "\n",
    "dstarlite = DStarLite(floor, zoom_factor=0.1)"
   ]
  },
  {
   "cell_type": "markdown",
   "metadata": {},
   "source": [
    "# 1. visuals"
   ]
  },
  {
   "cell_type": "code",
   "execution_count": 32,
   "metadata": {},
   "outputs": [],
   "source": [
    "import geopandas as gpd\n",
    "import pandas as pd\n",
    "file_name=lambda file: '../data/floorplans/unisabana_hospital_%s.geojson'%file\n",
    "df=pd.concat([gpd.read_file(file_name('floor')),gpd.read_file(file_name('polygons'))])#.set_crs('epsg:3857', allow_override=True)#.to_crs('epsg:3857')"
   ]
  },
  {
   "cell_type": "code",
   "execution_count": 33,
   "metadata": {},
   "outputs": [
    {
     "data": {
      "text/plain": [
       "<Geographic 2D CRS: EPSG:4326>\n",
       "Name: WGS 84\n",
       "Axis Info [ellipsoidal]:\n",
       "- Lat[north]: Geodetic latitude (degree)\n",
       "- Lon[east]: Geodetic longitude (degree)\n",
       "Area of Use:\n",
       "- name: World.\n",
       "- bounds: (-180.0, -90.0, 180.0, 90.0)\n",
       "Datum: World Geodetic System 1984 ensemble\n",
       "- Ellipsoid: WGS 84\n",
       "- Prime Meridian: Greenwich"
      ]
     },
     "execution_count": 33,
     "metadata": {},
     "output_type": "execute_result"
    }
   ],
   "source": [
    "df.crs"
   ]
  },
  {
   "cell_type": "code",
   "execution_count": 25,
   "metadata": {},
   "outputs": [
    {
     "data": {
      "text/plain": [
       "<Projected CRS: EPSG:3857>\n",
       "Name: WGS 84 / Pseudo-Mercator\n",
       "Axis Info [cartesian]:\n",
       "- X[east]: Easting (metre)\n",
       "- Y[north]: Northing (metre)\n",
       "Area of Use:\n",
       "- name: World between 85.06°S and 85.06°N.\n",
       "- bounds: (-180.0, -85.06, 180.0, 85.06)\n",
       "Coordinate Operation:\n",
       "- name: Popular Visualisation Pseudo-Mercator\n",
       "- method: Popular Visualisation Pseudo Mercator\n",
       "Datum: World Geodetic System 1984 ensemble\n",
       "- Ellipsoid: WGS 84\n",
       "- Prime Meridian: Greenwich"
      ]
     },
     "execution_count": 25,
     "metadata": {},
     "output_type": "execute_result"
    }
   ],
   "source": [
    "df.crs"
   ]
  },
  {
   "cell_type": "code",
   "execution_count": 27,
   "metadata": {},
   "outputs": [
    {
     "data": {
      "text/plain": [
       "<Axes: >"
      ]
     },
     "execution_count": 27,
     "metadata": {},
     "output_type": "execute_result"
    },
    {
     "data": {
      "text/plain": [
       "<Figure size 640x480 with 0 Axes>"
      ]
     },
     "metadata": {},
     "output_type": "display_data"
    },
    {
     "data": {
      "image/png": "[encoded data removed]",
      "text/plain": [
       "<Figure size 640x480 with 1 Axes>"
      ]
     },
     "metadata": {},
     "output_type": "display_data"
    }
   ],
   "source": [
    "import matplotlib.pyplot as plt\n",
    "fig=plt.figure()\n",
    "df.plot(column=\"atype\",legend=True)\n"
   ]
  },
  {
   "cell_type": "markdown",
   "metadata": {},
   "source": [
    "# 2. cache paths"
   ]
  },
  {
   "cell_type": "code",
   "execution_count": 392,
   "metadata": {},
   "outputs": [],
   "source": [
    "import pickle\n",
    "with open(\"../data/paths/cache_paths.pkl\", \"rb\") as cache_file:\n",
    "    cache_paths = pickle.load(cache_file)"
   ]
  },
  {
   "cell_type": "code",
   "execution_count": 67,
   "metadata": {},
   "outputs": [
    {
     "name": "stdout",
     "output_type": "stream",
     "text": [
      "(<POINT (-8241026.851 541243.876)>, <POINT (-8241031.455 541236.979)>)\n",
      "[-8241031.44441833   541237.03531115] [-8241026.80678852   541243.72127322] 8.136934252813173\n",
      "[-8241026.80678852   541243.72127322] [-8241026.80678852   541243.53555205] 0.18572116864379495\n",
      "[-8241026.80678852   541243.53555205] [-8241026.80678852   541243.34983088] 0.18572116864379495\n",
      "[-8241026.80678852   541243.34983088] [-8241026.80678852   541243.16410971] 0.18572116852737963\n",
      "[-8241026.80678852   541243.16410971] [-8241026.80678852   541242.97838854] 0.18572116864379495\n",
      "[-8241026.80678852   541242.97838854] [-8241026.80678852   541242.79266737] 0.18572116864379495\n",
      "[-8241026.80678852   541242.79266737] [-8241026.80678852   541242.60694621] 0.18572116864379495\n",
      "[-8241026.80678852   541242.60694621] [-8241026.80678852   541242.42122504] 0.18572116864379495\n",
      "[-8241026.80678852   541242.42122504] [-8241026.80678852   541242.23550387] 0.18572116852737963\n",
      "[-8241026.80678852   541242.23550387] [-8241026.80678852   541242.0497827 ] 0.18572116864379495\n",
      "[-8241026.80678852   541242.0497827 ] [-8241026.80678852   541241.86406153] 0.18572116864379495\n",
      "[-8241026.80678852   541241.86406153] [-8241026.80678852   541241.67834036] 0.18572116864379495\n",
      "[-8241026.80678852   541241.67834036] [-8241026.80678852   541241.49261919] 0.18572116864379495\n",
      "[-8241026.80678852   541241.49261919] [-8241026.80678852   541241.30689803] 0.18572116864379495\n",
      "[-8241026.80678852   541241.30689803] [-8241026.80678852   541241.12117686] 0.18572116852737963\n",
      "[-8241026.80678852   541241.12117686] [-8241026.80678852   541240.93545569] 0.18572116864379495\n",
      "[-8241026.80678852   541240.93545569] [-8241026.80678852   541240.74973452] 0.18572116864379495\n",
      "[-8241026.80678852   541240.74973452] [-8241026.80678852   541240.56401335] 0.18572116864379495\n",
      "[-8241026.80678852   541240.56401335] [-8241026.80678852   541240.37829218] 0.18572116864379495\n",
      "[-8241026.80678852   541240.37829218] [-8241026.80678852   541240.19257101] 0.18572116864379495\n",
      "[-8241026.80678852   541240.19257101] [-8241026.80678852   541240.00684985] 0.18572116852737963\n",
      "[-8241026.80678852   541240.00684985] [-8241026.80678852   541239.82112868] 0.18572116864379495\n",
      "[-8241026.80678852   541239.82112868] [-8241026.80678852   541239.63540751] 0.18572116864379495\n",
      "[-8241026.80678852   541239.63540751] [-8241026.80678852   541239.44968634] 0.18572116864379495\n",
      "[-8241026.80678852   541239.44968634] [-8241026.80678852   541239.26396517] 0.18572116864379495\n",
      "[-8241026.80678852   541239.26396517] [-8241026.80678852   541239.078244  ] 0.18572116864379495\n",
      "[-8241026.80678852   541239.078244  ] [-8241026.80678852   541238.89252283] 0.18572116852737963\n",
      "[-8241026.80678852   541238.89252283] [-8241026.80678852   541238.70680166] 0.18572116864379495\n",
      "[-8241026.80678852   541238.70680166] [-8241026.80678852   541238.5210805 ] 0.18572116864379495\n",
      "[-8241026.80678852   541238.5210805 ] [-8241026.99229372   541238.33535933] 0.2624967212471663\n",
      "[-8241026.99229372   541238.33535933] [-8241027.17779891   541238.14963816] 0.2624967219053276\n",
      "[-8241027.17779891   541238.14963816] [-8241027.3633041    541237.96391699] 0.2624967211648004\n",
      "[-8241027.3633041    541237.96391699] [-8241027.54880929   541237.96391699] 0.1855051927268505\n",
      "[-8241027.54880929   541237.96391699] [-8241027.73431449   541237.96391699] 0.18550519179552794\n",
      "[-8241027.73431449   541237.96391699] [-8241027.91981968   541237.96391699] 0.1855051927268505\n",
      "[-8241027.91981968   541237.96391699] [-8241028.10532487   541237.77819582] 0.2624967212471663\n",
      "[-8241028.10532487   541237.77819582] [-8241028.29083006   541237.59247465] 0.2624967219053276\n",
      "[-8241028.29083006   541237.59247465] [-8241028.47633525   541237.40675348] 0.2624967212471663\n",
      "[-8241028.47633525   541237.40675348] [-8241028.66184045   541237.40675348] 0.1855051927268505\n",
      "[-8241028.66184045   541237.40675348] [-8241028.84734564   541237.40675348] 0.18550519179552794\n",
      "[-8241028.84734564   541237.40675348] [-8241029.03285083   541237.22103232] 0.2624967219053276\n",
      "[-8241029.03285083   541237.22103232] [-8241029.21835602   541237.03531115] 0.2624967219053276\n",
      "[-8241029.21835602   541237.03531115] [-8241029.40386122   541236.84958998] 0.2624967211648004\n",
      "[-8241029.40386122   541236.84958998] [-8241029.58936641   541236.66386881] 0.2624967219053276\n",
      "[-8241029.58936641   541236.66386881] [-8241029.7748716    541236.47814764] 0.2624967212471663\n",
      "[-8241029.7748716    541236.47814764] [-8241029.96037679   541236.29242647] 0.2624967219053276\n",
      "[-8241029.96037679   541236.29242647] [-8241030.14588199   541236.29242647] 0.18550519179552794\n",
      "[-8241030.14588199   541236.29242647] [-8241030.33138718   541236.29242647] 0.1855051927268505\n",
      "[-8241030.33138718   541236.29242647] [-8241030.51689237   541236.29242647] 0.18550519179552794\n",
      "[-8241030.51689237   541236.29242647] [-8241030.70239756   541236.47814764] 0.2624967219053276\n",
      "[-8241030.70239756   541236.47814764] [-8241030.88790275   541236.66386881] 0.2624967212471663\n",
      "[-8241030.88790275   541236.66386881] [-8241031.07340795   541236.84958998] 0.2624967219053276\n",
      "[-8241031.07340795   541236.84958998] [-8241031.25891314   541236.84958998] 0.18550519179552794\n",
      "[-8241031.25891314   541236.84958998] [-8241031.44441833   541237.03531115] 0.26249672182296163\n"
     ]
    }
   ],
   "source": [
    "from shapely.geometry import Point\n",
    "from math import sqrt\n",
    "\n",
    "i=0\n",
    "for direction, path in cache_paths.items():\n",
    "    print(direction)\n",
    "    setp0=path[0]\n",
    "    for step in path[1:]:\n",
    "        step1=step\n",
    "        print(step0,step1,sqrt(sum((step0-step1)**2)))\n",
    "        step0=step\n",
    "    break"
   ]
  },
  {
   "cell_type": "code",
   "execution_count": 77,
   "metadata": {},
   "outputs": [
    {
     "data": {
      "text/plain": [
       "[1, 2, 3]"
      ]
     },
     "execution_count": 77,
     "metadata": {},
     "output_type": "execute_result"
    }
   ],
   "source": []
  },
  {
   "cell_type": "code",
   "execution_count": 83,
   "metadata": {},
   "outputs": [
    {
     "name": "stdout",
     "output_type": "stream",
     "text": [
      "0 [-8241026.80678852   541243.90699439] [-8241026.80678852   541243.72127322] 0.18572116864379495\n",
      "1 [-8241026.80678852   541243.72127322] [-8241026.80678852   541243.53555205] 0.18572116864379495\n",
      "2 [-8241026.80678852   541243.53555205] [-8241026.80678852   541243.34983088] 0.18572116864379495\n",
      "3 [-8241026.80678852   541243.34983088] [-8241026.80678852   541243.16410971] 0.18572116852737963\n",
      "4 [-8241026.80678852   541243.16410971] [-8241026.80678852   541242.97838854] 0.18572116864379495\n",
      "5 [-8241026.80678852   541242.97838854] [-8241026.80678852   541242.79266737] 0.18572116864379495\n",
      "6 [-8241026.80678852   541242.79266737] [-8241026.80678852   541242.60694621] 0.18572116864379495\n",
      "7 [-8241026.80678852   541242.60694621] [-8241026.80678852   541242.42122504] 0.18572116864379495\n",
      "8 [-8241026.80678852   541242.42122504] [-8241026.80678852   541242.23550387] 0.18572116852737963\n",
      "9 [-8241026.80678852   541242.23550387] [-8241026.80678852   541242.0497827 ] 0.18572116864379495\n",
      "10 [-8241026.80678852   541242.0497827 ] [-8241026.80678852   541241.86406153] 0.18572116864379495\n",
      "11 [-8241026.80678852   541241.86406153] [-8241026.80678852   541241.67834036] 0.18572116864379495\n",
      "12 [-8241026.80678852   541241.67834036] [-8241026.80678852   541241.49261919] 0.18572116864379495\n",
      "13 [-8241026.80678852   541241.49261919] [-8241026.80678852   541241.30689803] 0.18572116864379495\n",
      "14 [-8241026.80678852   541241.30689803] [-8241026.80678852   541241.12117686] 0.18572116852737963\n",
      "15 [-8241026.80678852   541241.12117686] [-8241026.80678852   541240.93545569] 0.18572116864379495\n",
      "16 [-8241026.80678852   541240.93545569] [-8241026.80678852   541240.74973452] 0.18572116864379495\n",
      "17 [-8241026.80678852   541240.74973452] [-8241026.80678852   541240.56401335] 0.18572116864379495\n",
      "18 [-8241026.80678852   541240.56401335] [-8241026.80678852   541240.37829218] 0.18572116864379495\n",
      "19 [-8241026.80678852   541240.37829218] [-8241026.80678852   541240.19257101] 0.18572116864379495\n",
      "20 [-8241026.80678852   541240.19257101] [-8241026.80678852   541240.00684985] 0.18572116852737963\n",
      "21 [-8241026.80678852   541240.00684985] [-8241026.80678852   541239.82112868] 0.18572116864379495\n",
      "22 [-8241026.80678852   541239.82112868] [-8241026.80678852   541239.63540751] 0.18572116864379495\n",
      "23 [-8241026.80678852   541239.63540751] [-8241026.80678852   541239.44968634] 0.18572116864379495\n",
      "24 [-8241026.80678852   541239.44968634] [-8241026.80678852   541239.26396517] 0.18572116864379495\n",
      "25 [-8241026.80678852   541239.26396517] [-8241026.80678852   541239.078244  ] 0.18572116864379495\n",
      "26 [-8241026.80678852   541239.078244  ] [-8241026.80678852   541238.89252283] 0.18572116852737963\n",
      "27 [-8241026.80678852   541238.89252283] [-8241026.80678852   541238.70680166] 0.18572116864379495\n",
      "28 [-8241026.80678852   541238.70680166] [-8241026.80678852   541238.5210805 ] 0.18572116864379495\n",
      "29 [-8241026.80678852   541238.5210805 ] [-8241026.99229372   541238.33535933] 0.2624967212471663\n",
      "30 [-8241026.99229372   541238.33535933] [-8241027.17779891   541238.14963816] 0.2624967219053276\n",
      "31 [-8241027.17779891   541238.14963816] [-8241027.3633041    541237.96391699] 0.2624967211648004\n",
      "32 [-8241027.3633041    541237.96391699] [-8241027.54880929   541237.96391699] 0.1855051927268505\n",
      "33 [-8241027.54880929   541237.96391699] [-8241027.73431449   541237.96391699] 0.18550519179552794\n",
      "34 [-8241027.73431449   541237.96391699] [-8241027.91981968   541237.96391699] 0.1855051927268505\n",
      "35 [-8241027.91981968   541237.96391699] [-8241028.10532487   541237.77819582] 0.2624967212471663\n",
      "36 [-8241028.10532487   541237.77819582] [-8241028.29083006   541237.59247465] 0.2624967219053276\n",
      "37 [-8241028.29083006   541237.59247465] [-8241028.47633525   541237.40675348] 0.2624967212471663\n",
      "38 [-8241028.47633525   541237.40675348] [-8241028.66184045   541237.40675348] 0.1855051927268505\n",
      "39 [-8241028.66184045   541237.40675348] [-8241028.84734564   541237.40675348] 0.18550519179552794\n",
      "40 [-8241028.84734564   541237.40675348] [-8241029.03285083   541237.22103232] 0.2624967219053276\n",
      "41 [-8241029.03285083   541237.22103232] [-8241029.21835602   541237.03531115] 0.2624967219053276\n",
      "42 [-8241029.21835602   541237.03531115] [-8241029.40386122   541236.84958998] 0.2624967211648004\n",
      "43 [-8241029.40386122   541236.84958998] [-8241029.58936641   541236.66386881] 0.2624967219053276\n",
      "44 [-8241029.58936641   541236.66386881] [-8241029.7748716    541236.47814764] 0.2624967212471663\n",
      "45 [-8241029.7748716    541236.47814764] [-8241029.96037679   541236.29242647] 0.2624967219053276\n",
      "46 [-8241029.96037679   541236.29242647] [-8241030.14588199   541236.29242647] 0.18550519179552794\n",
      "47 [-8241030.14588199   541236.29242647] [-8241030.33138718   541236.29242647] 0.1855051927268505\n",
      "48 [-8241030.33138718   541236.29242647] [-8241030.51689237   541236.29242647] 0.18550519179552794\n",
      "49 [-8241030.51689237   541236.29242647] [-8241030.70239756   541236.47814764] 0.2624967219053276\n",
      "50 [-8241030.70239756   541236.47814764] [-8241030.88790275   541236.66386881] 0.2624967212471663\n",
      "51 [-8241030.88790275   541236.66386881] [-8241031.07340795   541236.84958998] 0.2624967219053276\n",
      "52 [-8241031.07340795   541236.84958998] [-8241031.25891314   541236.84958998] 0.18550519179552794\n",
      "53 [-8241031.25891314   541236.84958998] [-8241031.44441833   541237.03531115] 0.26249672182296163\n"
     ]
    },
    {
     "data": {
      "image/png": "[encoded data removed]",
      "text/plain": [
       "<Figure size 640x480 with 1 Axes>"
      ]
     },
     "metadata": {},
     "output_type": "display_data"
    }
   ],
   "source": [
    "import numpy as np\n",
    "ox,oy=np.array(floor.geometry.boundary.segmentize(max_segment_length=0.001).coords.xy)\n",
    "plt.scatter(ox,oy,marker='.',linewidths=0.005)\n",
    "\n",
    "for (s,g), path in cache_paths.items():\n",
    "    step0=path[0]\n",
    "    i=0\n",
    "    for step in path[1:]:\n",
    "        step1=step\n",
    "        print(i,step0,step1,sqrt(sum((step0-step1)**2)))\n",
    "        i+=1\n",
    "        step0=step\n",
    "    \n",
    "    plt.scatter([x for x,_ in path],[y for _,y in path],marker='.',linewidths=0.05)\n",
    "    break"
   ]
  },
  {
   "cell_type": "code",
   "execution_count": 91,
   "metadata": {},
   "outputs": [
    {
     "data": {
      "image/png": "[encoded data removed]",
      "text/plain": [
       "<Figure size 640x480 with 1 Axes>"
      ]
     },
     "metadata": {},
     "output_type": "display_data"
    }
   ],
   "source": [
    "import numpy as np\n",
    "ox,oy=np.array(floor.geometry.boundary.segmentize(max_segment_length=0.001).coords.xy)\n",
    "plt.scatter(ox,oy,marker='.',linewidths=0.005)\n",
    "\n",
    "for (s,g), path in cache_paths.items():\n",
    "    plt.scatter([s.x],[s.y],marker='.',linewidths=0.05)"
   ]
  },
  {
   "cell_type": "markdown",
   "metadata": {},
   "source": [
    "# 3. path finder"
   ]
  },
  {
   "cell_type": "code",
   "execution_count": 59,
   "metadata": {},
   "outputs": [],
   "source": [
    "%load_ext autoreload\n",
    "%autoreload 2\n",
    "from model.d_star_lite import DStarLite, Node\n",
    "from model.utils import pixelate_floorplan\n",
    "\n",
    "dstarlite = DStarLite(floor, zoom_factor=0.1)"
   ]
  },
  {
   "cell_type": "code",
   "execution_count": 62,
   "metadata": {},
   "outputs": [
    {
     "name": "stderr",
     "output_type": "stream",
     "text": [
      "c:\\Users\\anita\\.conda\\envs\\ia_env\\lib\\site-packages\\mesa_geo\\geospace.py:138: UserWarning: Converting State from crs EPSG:4326 to the crs of GeoSpace - EPSG:3857. Please check your crs settings if this is unintended, or set `GeoSpace.warn_crs_conversion` to `False` to suppress this warning message.\n",
      "  warnings.warn(\n",
      "c:\\Users\\anita\\.conda\\envs\\ia_env\\lib\\site-packages\\mesa_geo\\geospace.py:138: UserWarning: Converting State from crs EPSG:4326 to the crs of GeoSpace - EPSG:3857. Please check your crs settings if this is unintended, or set `GeoSpace.warn_crs_conversion` to `False` to suppress this warning message.\n",
      "  warnings.warn(\n"
     ]
    },
    {
     "data": {
      "image/png": "[encoded data removed]",
      "text/plain": [
       "<Figure size 640x480 with 1 Axes>"
      ]
     },
     "metadata": {},
     "output_type": "display_data"
    }
   ],
   "source": [
    "dstarlite = DStarLite(floor, zoom_factor=0.1)\n",
    "\n",
    "plt.scatter(dstarlite.floor_PxlObject.ox, dstarlite.floor_PxlObject.oy, marker='.',s=10,color='lightgray')\n",
    "plt.show()"
   ]
  },
  {
   "cell_type": "code",
   "execution_count": 72,
   "metadata": {},
   "outputs": [
    {
     "data": {
      "text/plain": [
       "<matplotlib.collections.PathCollection at 0x222773e4dc0>"
      ]
     },
     "execution_count": 72,
     "metadata": {},
     "output_type": "execute_result"
    },
    {
     "data": {
      "image/png": "[encoded data removed]",
      "text/plain": [
       "<Figure size 640x480 with 1 Axes>"
      ]
     },
     "metadata": {},
     "output_type": "display_data"
    }
   ],
   "source": [
    "p = gpd.GeoSeries([floor.geometry.boundary])\n",
    "p.plot(marker='x',color=['lightgray'])\n",
    "plt.scatter(floor.geometry.convex_hull.bounds[2],floor.geometry.convex_hull.bounds[3],color='red')\n"
   ]
  },
  {
   "cell_type": "code",
   "execution_count": 78,
   "metadata": {},
   "outputs": [
    {
     "data": {
      "image/svg+xml": [
       "<svg xmlns=\"http://www.w3.org/2000/svg\" xmlns:xlink=\"http://www.w3.org/1999/xlink\" width=\"100.0\" height=\"100.0\" viewBox=\"-8241026.918227536 541231.3848918506 2.0 2.0\" preserveAspectRatio=\"xMinYMin meet\"><g transform=\"matrix(1,0,0,-1,0,1082464.7697837013)\"><circle cx=\"-8241025.918227536\" cy=\"541232.3848918506\" r=\"0.06\" stroke=\"#555555\" stroke-width=\"0.02\" fill=\"#66cc99\" opacity=\"0.6\" /></g></svg>"
      ],
      "text/plain": [
       "<POINT (-8241025.918 541232.385)>"
      ]
     },
     "execution_count": 78,
     "metadata": {},
     "output_type": "execute_result"
    }
   ],
   "source": [
    "source.intersection(source.buffer(0.1))"
   ]
  },
  {
   "cell_type": "code",
   "execution_count": 31,
   "metadata": {},
   "outputs": [
    {
     "data": {
      "text/plain": [
       "4242"
      ]
     },
     "execution_count": 31,
     "metadata": {},
     "output_type": "execute_result"
    }
   ],
   "source": [
    "len(dstarlite.obstacles_xy)"
   ]
  },
  {
   "cell_type": "code",
   "execution_count": 8,
   "metadata": {},
   "outputs": [
    {
     "data": {
      "text/html": [
       "<div>\n",
       "<style scoped>\n",
       "    .dataframe tbody tr th:only-of-type {\n",
       "        vertical-align: middle;\n",
       "    }\n",
       "\n",
       "    .dataframe tbody tr th {\n",
       "        vertical-align: top;\n",
       "    }\n",
       "\n",
       "    .dataframe thead th {\n",
       "        text-align: right;\n",
       "    }\n",
       "</style>\n",
       "<table border=\"1\" class=\"dataframe\">\n",
       "  <thead>\n",
       "    <tr style=\"text-align: right;\">\n",
       "      <th></th>\n",
       "      <th>atype</th>\n",
       "      <th>location_agent</th>\n",
       "      <th>state</th>\n",
       "      <th>stop_active_at</th>\n",
       "    </tr>\n",
       "  </thead>\n",
       "  <tbody>\n",
       "    <tr>\n",
       "      <th>0</th>\n",
       "      <td>patient</td>\n",
       "      <td>&lt;__main__.State object at 0x0000026AEEE23C10&gt;</td>\n",
       "      <td>active</td>\n",
       "      <td>4.082314</td>\n",
       "    </tr>\n",
       "    <tr>\n",
       "      <th>1</th>\n",
       "      <td>patient</td>\n",
       "      <td>&lt;__main__.State object at 0x0000026AEED3BB50&gt;</td>\n",
       "      <td>active</td>\n",
       "      <td>5.065231</td>\n",
       "    </tr>\n",
       "    <tr>\n",
       "      <th>2</th>\n",
       "      <td>patient</td>\n",
       "      <td>&lt;__main__.State object at 0x0000026AEEE23CD0&gt;</td>\n",
       "      <td>active</td>\n",
       "      <td>4.524165</td>\n",
       "    </tr>\n",
       "    <tr>\n",
       "      <th>3</th>\n",
       "      <td>patient</td>\n",
       "      <td>&lt;__main__.State object at 0x0000026AEEA476D0&gt;</td>\n",
       "      <td>active</td>\n",
       "      <td>3.777895</td>\n",
       "    </tr>\n",
       "    <tr>\n",
       "      <th>4</th>\n",
       "      <td>patient</td>\n",
       "      <td>&lt;__main__.State object at 0x0000026AEEE23EE0&gt;</td>\n",
       "      <td>active</td>\n",
       "      <td>4.401612</td>\n",
       "    </tr>\n",
       "    <tr>\n",
       "      <th>5</th>\n",
       "      <td>patient</td>\n",
       "      <td>&lt;__main__.State object at 0x0000026AEED3B5E0&gt;</td>\n",
       "      <td>active</td>\n",
       "      <td>4.400121</td>\n",
       "    </tr>\n",
       "    <tr>\n",
       "      <th>6</th>\n",
       "      <td>patient</td>\n",
       "      <td>&lt;__main__.State object at 0x0000026AEEE236A0&gt;</td>\n",
       "      <td>active</td>\n",
       "      <td>4.478237</td>\n",
       "    </tr>\n",
       "    <tr>\n",
       "      <th>7</th>\n",
       "      <td>patient</td>\n",
       "      <td>&lt;__main__.State object at 0x0000026AEED3B040&gt;</td>\n",
       "      <td>active</td>\n",
       "      <td>4.391256</td>\n",
       "    </tr>\n",
       "    <tr>\n",
       "      <th>8</th>\n",
       "      <td>patient</td>\n",
       "      <td>&lt;__main__.State object at 0x0000026AC8F2AAF0&gt;</td>\n",
       "      <td>active</td>\n",
       "      <td>4.557427</td>\n",
       "    </tr>\n",
       "    <tr>\n",
       "      <th>9</th>\n",
       "      <td>patient</td>\n",
       "      <td>&lt;__main__.State object at 0x0000026AC8F2A160&gt;</td>\n",
       "      <td>active</td>\n",
       "      <td>3.968548</td>\n",
       "    </tr>\n",
       "  </tbody>\n",
       "</table>\n",
       "</div>"
      ],
      "text/plain": [
       "     atype                                 location_agent   state  \\\n",
       "0  patient  <__main__.State object at 0x0000026AEEE23C10>  active   \n",
       "1  patient  <__main__.State object at 0x0000026AEED3BB50>  active   \n",
       "2  patient  <__main__.State object at 0x0000026AEEE23CD0>  active   \n",
       "3  patient  <__main__.State object at 0x0000026AEEA476D0>  active   \n",
       "4  patient  <__main__.State object at 0x0000026AEEE23EE0>  active   \n",
       "5  patient  <__main__.State object at 0x0000026AEED3B5E0>  active   \n",
       "6  patient  <__main__.State object at 0x0000026AEEE236A0>  active   \n",
       "7  patient  <__main__.State object at 0x0000026AEED3B040>  active   \n",
       "8  patient  <__main__.State object at 0x0000026AC8F2AAF0>  active   \n",
       "9  patient  <__main__.State object at 0x0000026AC8F2A160>  active   \n",
       "\n",
       "   stop_active_at  \n",
       "0        4.082314  \n",
       "1        5.065231  \n",
       "2        4.524165  \n",
       "3        3.777895  \n",
       "4        4.401612  \n",
       "5        4.400121  \n",
       "6        4.478237  \n",
       "7        4.391256  \n",
       "8        4.557427  \n",
       "9        3.968548  "
      ]
     },
     "execution_count": 8,
     "metadata": {},
     "output_type": "execute_result"
    }
   ],
   "source": [
    "import pandas as pd\n",
    "import random\n",
    "\n",
    "n_agents=10\n",
    "atype=['patient']*n_agents\n",
    "location=random.sample(m.space.agents, n_agents)\n",
    "state=['active']*n_agents\n",
    "stop_active_at= [random.triangular(3,6) for _ in range(n_agents)]\n",
    "df=pd.DataFrame(zip(atype,location,state,stop_active_at), columns=['atype','location_agent','state','stop_active_at'])\n",
    "df"
   ]
  },
  {
   "cell_type": "code",
   "execution_count": 360,
   "metadata": {},
   "outputs": [
    {
     "data": {
      "text/plain": [
       "'este l'"
      ]
     },
     "execution_count": 360,
     "metadata": {},
     "output_type": "execute_result"
    }
   ],
   "source": [
    "a='este %s'\n",
    "a%'l'"
   ]
  },
  {
   "cell_type": "code",
   "execution_count": 353,
   "metadata": {},
   "outputs": [
    {
     "data": {
      "text/html": [
       "<div>\n",
       "<style scoped>\n",
       "    .dataframe tbody tr th:only-of-type {\n",
       "        vertical-align: middle;\n",
       "    }\n",
       "\n",
       "    .dataframe tbody tr th {\n",
       "        vertical-align: top;\n",
       "    }\n",
       "\n",
       "    .dataframe thead th {\n",
       "        text-align: right;\n",
       "    }\n",
       "</style>\n",
       "<table border=\"1\" class=\"dataframe\">\n",
       "  <thead>\n",
       "    <tr style=\"text-align: right;\">\n",
       "      <th></th>\n",
       "      <th>atype</th>\n",
       "      <th>location_agent</th>\n",
       "      <th>state</th>\n",
       "      <th>stop_active_at</th>\n",
       "      <th>geometry</th>\n",
       "    </tr>\n",
       "  </thead>\n",
       "  <tbody>\n",
       "    <tr>\n",
       "      <th>0</th>\n",
       "      <td>patient</td>\n",
       "      <td>&lt;__main__.State object at 0x000001A9B07BE910&gt;</td>\n",
       "      <td>active</td>\n",
       "      <td>5.725471</td>\n",
       "      <td>POINT (-8241109.62865 541223.76118)</td>\n",
       "    </tr>\n",
       "    <tr>\n",
       "      <th>1</th>\n",
       "      <td>patient</td>\n",
       "      <td>&lt;__main__.State object at 0x000001A9B07BEA30&gt;</td>\n",
       "      <td>active</td>\n",
       "      <td>4.287100</td>\n",
       "      <td>POINT (-8241032.88492 541245.92794)</td>\n",
       "    </tr>\n",
       "    <tr>\n",
       "      <th>2</th>\n",
       "      <td>patient</td>\n",
       "      <td>&lt;__main__.State object at 0x000001A9B07BE5B0&gt;</td>\n",
       "      <td>active</td>\n",
       "      <td>4.877415</td>\n",
       "      <td>POINT (-8241112.25864 541229.32269)</td>\n",
       "    </tr>\n",
       "    <tr>\n",
       "      <th>3</th>\n",
       "      <td>patient</td>\n",
       "      <td>&lt;__main__.State object at 0x000001A9B07BE3D0&gt;</td>\n",
       "      <td>active</td>\n",
       "      <td>5.108705</td>\n",
       "      <td>POINT (-8240993.59657 541243.39904)</td>\n",
       "    </tr>\n",
       "    <tr>\n",
       "      <th>4</th>\n",
       "      <td>patient</td>\n",
       "      <td>&lt;__main__.State object at 0x000001A9B07BE3A0&gt;</td>\n",
       "      <td>active</td>\n",
       "      <td>3.680226</td>\n",
       "      <td>POINT (-8241016.14547 541229.17731)</td>\n",
       "    </tr>\n",
       "    <tr>\n",
       "      <th>5</th>\n",
       "      <td>patient</td>\n",
       "      <td>&lt;__main__.State object at 0x000001A9B07BE7F0&gt;</td>\n",
       "      <td>active</td>\n",
       "      <td>4.844420</td>\n",
       "      <td>POINT (-8241114.71522 541213.47577)</td>\n",
       "    </tr>\n",
       "    <tr>\n",
       "      <th>6</th>\n",
       "      <td>patient</td>\n",
       "      <td>&lt;__main__.State object at 0x000001A9B07BE580&gt;</td>\n",
       "      <td>active</td>\n",
       "      <td>3.494405</td>\n",
       "      <td>POINT (-8241030.13027 541265.89469)</td>\n",
       "    </tr>\n",
       "    <tr>\n",
       "      <th>7</th>\n",
       "      <td>patient</td>\n",
       "      <td>&lt;__main__.State object at 0x000001A9B07BE310&gt;</td>\n",
       "      <td>active</td>\n",
       "      <td>4.264685</td>\n",
       "      <td>POINT (-8241062.50946 541254.55186)</td>\n",
       "    </tr>\n",
       "    <tr>\n",
       "      <th>8</th>\n",
       "      <td>patient</td>\n",
       "      <td>&lt;__main__.State object at 0x000001A9B07BE370&gt;</td>\n",
       "      <td>active</td>\n",
       "      <td>4.840389</td>\n",
       "      <td>POINT (-8241027.88079 541276.39239)</td>\n",
       "    </tr>\n",
       "    <tr>\n",
       "      <th>9</th>\n",
       "      <td>patient</td>\n",
       "      <td>&lt;__main__.State object at 0x000001A9B07BEAC0&gt;</td>\n",
       "      <td>active</td>\n",
       "      <td>4.412573</td>\n",
       "      <td>POINT (-8241058.02917 541206.26390)</td>\n",
       "    </tr>\n",
       "  </tbody>\n",
       "</table>\n",
       "</div>"
      ],
      "text/plain": [
       "     atype                                 location_agent   state  \\\n",
       "0  patient  <__main__.State object at 0x000001A9B07BE910>  active   \n",
       "1  patient  <__main__.State object at 0x000001A9B07BEA30>  active   \n",
       "2  patient  <__main__.State object at 0x000001A9B07BE5B0>  active   \n",
       "3  patient  <__main__.State object at 0x000001A9B07BE3D0>  active   \n",
       "4  patient  <__main__.State object at 0x000001A9B07BE3A0>  active   \n",
       "5  patient  <__main__.State object at 0x000001A9B07BE7F0>  active   \n",
       "6  patient  <__main__.State object at 0x000001A9B07BE580>  active   \n",
       "7  patient  <__main__.State object at 0x000001A9B07BE310>  active   \n",
       "8  patient  <__main__.State object at 0x000001A9B07BE370>  active   \n",
       "9  patient  <__main__.State object at 0x000001A9B07BEAC0>  active   \n",
       "\n",
       "   stop_active_at                             geometry  \n",
       "0        5.725471  POINT (-8241109.62865 541223.76118)  \n",
       "1        4.287100  POINT (-8241032.88492 541245.92794)  \n",
       "2        4.877415  POINT (-8241112.25864 541229.32269)  \n",
       "3        5.108705  POINT (-8240993.59657 541243.39904)  \n",
       "4        3.680226  POINT (-8241016.14547 541229.17731)  \n",
       "5        4.844420  POINT (-8241114.71522 541213.47577)  \n",
       "6        3.494405  POINT (-8241030.13027 541265.89469)  \n",
       "7        4.264685  POINT (-8241062.50946 541254.55186)  \n",
       "8        4.840389  POINT (-8241027.88079 541276.39239)  \n",
       "9        4.412573  POINT (-8241058.02917 541206.26390)  "
      ]
     },
     "execution_count": 353,
     "metadata": {},
     "output_type": "execute_result"
    }
   ],
   "source": [
    "gdf = gpd.GeoDataFrame(df, geometry=[x.geometry.centroid for x in df.location_agent], crs=\"EPSG:4326\")\n",
    "gdf"
   ]
  },
  {
   "cell_type": "code",
   "execution_count": 328,
   "metadata": {},
   "outputs": [
    {
     "data": {
      "text/plain": [
       "[<__main__.State at 0x1a9b07bea90>,\n",
       " <__main__.State at 0x1a9b0300f40>,\n",
       " <__main__.State at 0x1a9b07bea30>,\n",
       " <__main__.State at 0x1a9b07beaf0>,\n",
       " <__main__.State at 0x1a9b07be970>,\n",
       " <__main__.State at 0x1a9b07beac0>,\n",
       " <__main__.State at 0x1a9b07be940>,\n",
       " <__main__.State at 0x1a9b07be910>,\n",
       " <__main__.State at 0x1a9b07be8e0>,\n",
       " <__main__.State at 0x1a9b07be8b0>,\n",
       " <__main__.State at 0x1a9b07be880>,\n",
       " <__main__.State at 0x1a9b07be850>,\n",
       " <__main__.State at 0x1a9b07be820>,\n",
       " <__main__.State at 0x1a9b07be7f0>,\n",
       " <__main__.State at 0x1a9b07be7c0>,\n",
       " <__main__.State at 0x1a9b07be790>,\n",
       " <__main__.State at 0x1a9b07be760>,\n",
       " <__main__.State at 0x1a9b07be700>,\n",
       " <__main__.State at 0x1a9b07be6d0>,\n",
       " <__main__.State at 0x1a9b07be6a0>,\n",
       " <__main__.State at 0x1a9b07be670>,\n",
       " <__main__.State at 0x1a9b07be640>,\n",
       " <__main__.State at 0x1a9b07be610>,\n",
       " <__main__.State at 0x1a9b07be5e0>,\n",
       " <__main__.State at 0x1a9b07be5b0>,\n",
       " <__main__.State at 0x1a9b07be580>,\n",
       " <__main__.State at 0x1a9b07be550>,\n",
       " <__main__.State at 0x1a9b07be520>,\n",
       " <__main__.State at 0x1a9b07be4f0>,\n",
       " <__main__.State at 0x1a9b07be4c0>,\n",
       " <__main__.State at 0x1a9b07be490>,\n",
       " <__main__.State at 0x1a9b07be460>,\n",
       " <__main__.State at 0x1a9b07be430>,\n",
       " <__main__.State at 0x1a9b07be400>,\n",
       " <__main__.State at 0x1a9b07be3d0>,\n",
       " <__main__.State at 0x1a9b07be3a0>,\n",
       " <__main__.State at 0x1a9b07be340>,\n",
       " <__main__.State at 0x1a9b07be370>,\n",
       " <__main__.State at 0x1a9b07be310>,\n",
       " <__main__.State at 0x1a9b07be2e0>,\n",
       " <__main__.State at 0x1a9b07be0a0>,\n",
       " <__main__.State at 0x1a9b07bed60>,\n",
       " <__main__.State at 0x1a9b07bedc0>,\n",
       " <__main__.State at 0x1a9b07bed30>,\n",
       " <__main__.State at 0x1a9b07beca0>,\n",
       " <__main__.State at 0x1a9b07be100>,\n",
       " <__main__.State at 0x1a9b02e15b0>,\n",
       " <__main__.State at 0x1a9b07be160>,\n",
       " <__main__.State at 0x1a9b07be9a0>,\n",
       " <__main__.State at 0x1a9b07bed90>,\n",
       " <__main__.State at 0x1a9b07bea00>,\n",
       " <__main__.State at 0x1a9b07c5880>]"
      ]
     },
     "execution_count": 328,
     "metadata": {},
     "output_type": "execute_result"
    }
   ],
   "source": [
    "m.space.agents"
   ]
  },
  {
   "cell_type": "code",
   "execution_count": 311,
   "metadata": {},
   "outputs": [
    {
     "name": "stdout",
     "output_type": "stream",
     "text": [
      "Initializing\n",
      "calculating path\n",
      "Path found\n"
     ]
    }
   ],
   "source": [
    "found_path, stepByStep_Path = dstarlite.main(source, target)"
   ]
  },
  {
   "cell_type": "code",
   "execution_count": 320,
   "metadata": {},
   "outputs": [
    {
     "data": {
      "image/png": "[encoded data removed]",
      "text/plain": [
       "<Figure size 640x480 with 1 Axes>"
      ]
     },
     "metadata": {},
     "output_type": "display_data"
    }
   ],
   "source": [
    "import matplotlib.pyplot as plt\n",
    "from shapely.geometry import LineString\n",
    "\n",
    "path=LineString(stepByStep_Path)\n",
    "p = gpd.GeoSeries([floor.geometry.boundary, path, source, target])\n",
    "p.plot(marker='x',color=['lightgray','k','g','r'])\n",
    "plt.show()"
   ]
  },
  {
   "cell_type": "code",
   "execution_count": 322,
   "metadata": {},
   "outputs": [],
   "source": [
    "import pickle\n",
    "cache_paths[(source,target)] = stepByStep_Path; cache_paths[(target,source)]=stepByStep_Path[::-1]\n",
    "with open(\"../data/paths/cache_paths.pkl\", \"wb\") as cache_file:\n",
    "    pickle.dump(cache_paths,cache_file)"
   ]
  },
  {
   "cell_type": "code",
   "execution_count": null,
   "metadata": {},
   "outputs": [],
   "source": []
  },
  {
   "cell_type": "code",
   "execution_count": null,
   "metadata": {},
   "outputs": [],
   "source": []
  },
  {
   "cell_type": "code",
   "execution_count": null,
   "metadata": {},
   "outputs": [],
   "source": []
  },
  {
   "cell_type": "code",
   "execution_count": 248,
   "metadata": {},
   "outputs": [
    {
     "data": {
      "text/html": [
       "<div>\n",
       "<style scoped>\n",
       "    .dataframe tbody tr th:only-of-type {\n",
       "        vertical-align: middle;\n",
       "    }\n",
       "\n",
       "    .dataframe tbody tr th {\n",
       "        vertical-align: top;\n",
       "    }\n",
       "\n",
       "    .dataframe thead th {\n",
       "        text-align: right;\n",
       "    }\n",
       "</style>\n",
       "<table border=\"1\" class=\"dataframe\">\n",
       "  <thead>\n",
       "    <tr style=\"text-align: right;\">\n",
       "      <th></th>\n",
       "      <th>atype</th>\n",
       "      <th>number</th>\n",
       "      <th>geometry</th>\n",
       "    </tr>\n",
       "  </thead>\n",
       "  <tbody>\n",
       "    <tr>\n",
       "      <th>0</th>\n",
       "      <td>room</td>\n",
       "      <td>204</td>\n",
       "      <td>POLYGON ((-74.03102 4.85562, -74.03095 4.85551...</td>\n",
       "    </tr>\n",
       "    <tr>\n",
       "      <th>1</th>\n",
       "      <td>nurse_station</td>\n",
       "      <td>0</td>\n",
       "      <td>POLYGON ((-74.03089 4.85614, -74.03076 4.85594...</td>\n",
       "    </tr>\n",
       "    <tr>\n",
       "      <th>2</th>\n",
       "      <td>cart</td>\n",
       "      <td>1</td>\n",
       "      <td>POLYGON ((-74.03055 4.85624, -74.03053 4.85620...</td>\n",
       "    </tr>\n",
       "    <tr>\n",
       "      <th>3</th>\n",
       "      <td>cart</td>\n",
       "      <td>0</td>\n",
       "      <td>POLYGON ((-74.03088 4.85597, -74.03083 4.85589...</td>\n",
       "    </tr>\n",
       "    <tr>\n",
       "      <th>4</th>\n",
       "      <td>toilet</td>\n",
       "      <td>1</td>\n",
       "      <td>POLYGON ((-74.03069 4.85589, -74.03067 4.85585...</td>\n",
       "    </tr>\n",
       "    <tr>\n",
       "      <th>5</th>\n",
       "      <td>toilet</td>\n",
       "      <td>0</td>\n",
       "      <td>POLYGON ((-74.03072 4.85592, -74.03069 4.85589...</td>\n",
       "    </tr>\n",
       "    <tr>\n",
       "      <th>6</th>\n",
       "      <td>medication_station</td>\n",
       "      <td>0</td>\n",
       "      <td>POLYGON ((-74.03067 4.85595, -74.03064 4.85590...</td>\n",
       "    </tr>\n",
       "    <tr>\n",
       "      <th>7</th>\n",
       "      <td>room</td>\n",
       "      <td>201</td>\n",
       "      <td>POLYGON ((-74.03132 4.85608, -74.03121 4.85592...</td>\n",
       "    </tr>\n",
       "    <tr>\n",
       "      <th>8</th>\n",
       "      <td>room</td>\n",
       "      <td>202</td>\n",
       "      <td>POLYGON ((-74.03121 4.85592, -74.03112 4.85577...</td>\n",
       "    </tr>\n",
       "    <tr>\n",
       "      <th>9</th>\n",
       "      <td>room</td>\n",
       "      <td>203</td>\n",
       "      <td>POLYGON ((-74.03112 4.85577, -74.03102 4.85562...</td>\n",
       "    </tr>\n",
       "    <tr>\n",
       "      <th>10</th>\n",
       "      <td>bed</td>\n",
       "      <td>0</td>\n",
       "      <td>POLYGON ((-74.03091 4.85563, -74.03086 4.85557...</td>\n",
       "    </tr>\n",
       "    <tr>\n",
       "      <th>11</th>\n",
       "      <td>bed</td>\n",
       "      <td>1</td>\n",
       "      <td>POLYGON ((-74.03099 4.85558, -74.03095 4.85551...</td>\n",
       "    </tr>\n",
       "    <tr>\n",
       "      <th>12</th>\n",
       "      <td>bed</td>\n",
       "      <td>2</td>\n",
       "      <td>POLYGON ((-74.03059 4.85648, -74.03055 4.85641...</td>\n",
       "    </tr>\n",
       "    <tr>\n",
       "      <th>13</th>\n",
       "      <td>bed</td>\n",
       "      <td>2</td>\n",
       "      <td>POLYGON ((-74.03125 4.85599, -74.03121 4.85592...</td>\n",
       "    </tr>\n",
       "    <tr>\n",
       "      <th>14</th>\n",
       "      <td>bed</td>\n",
       "      <td>1</td>\n",
       "      <td>POLYGON ((-74.03121 4.85592, -74.03117 4.85586...</td>\n",
       "    </tr>\n",
       "    <tr>\n",
       "      <th>15</th>\n",
       "      <td>bed</td>\n",
       "      <td>2</td>\n",
       "      <td>POLYGON ((-74.03115 4.85583, -74.03111 4.85577...</td>\n",
       "    </tr>\n",
       "    <tr>\n",
       "      <th>16</th>\n",
       "      <td>bed</td>\n",
       "      <td>1</td>\n",
       "      <td>POLYGON ((-74.03111 4.85577, -74.03108 4.85571...</td>\n",
       "    </tr>\n",
       "    <tr>\n",
       "      <th>17</th>\n",
       "      <td>bed</td>\n",
       "      <td>2</td>\n",
       "      <td>POLYGON ((-74.03106 4.85568, -74.03102 4.85562...</td>\n",
       "    </tr>\n",
       "    <tr>\n",
       "      <th>18</th>\n",
       "      <td>bed</td>\n",
       "      <td>3</td>\n",
       "      <td>POLYGON ((-74.03117 4.85604, -74.03113 4.85597...</td>\n",
       "    </tr>\n",
       "    <tr>\n",
       "      <th>19</th>\n",
       "      <td>bed</td>\n",
       "      <td>0</td>\n",
       "      <td>POLYGON ((-74.03113 4.85597, -74.03109 4.85591...</td>\n",
       "    </tr>\n",
       "    <tr>\n",
       "      <th>20</th>\n",
       "      <td>bed</td>\n",
       "      <td>3</td>\n",
       "      <td>POLYGON ((-74.03107 4.85588, -74.03103 4.85582...</td>\n",
       "    </tr>\n",
       "    <tr>\n",
       "      <th>21</th>\n",
       "      <td>bed</td>\n",
       "      <td>0</td>\n",
       "      <td>POLYGON ((-74.03103 4.85582, -74.03099 4.85576...</td>\n",
       "    </tr>\n",
       "    <tr>\n",
       "      <th>22</th>\n",
       "      <td>bed</td>\n",
       "      <td>3</td>\n",
       "      <td>POLYGON ((-74.03098 4.85573, -74.03094 4.85567...</td>\n",
       "    </tr>\n",
       "    <tr>\n",
       "      <th>23</th>\n",
       "      <td>room</td>\n",
       "      <td>206</td>\n",
       "      <td>POLYGON ((-74.03079 4.85636, -74.03067 4.85617...</td>\n",
       "    </tr>\n",
       "    <tr>\n",
       "      <th>24</th>\n",
       "      <td>bed</td>\n",
       "      <td>0</td>\n",
       "      <td>POLYGON ((-74.03123 4.85613, -74.03119 4.85606...</td>\n",
       "    </tr>\n",
       "    <tr>\n",
       "      <th>25</th>\n",
       "      <td>room</td>\n",
       "      <td>208</td>\n",
       "      <td>POLYGON ((-74.03059 4.85648, -74.03047 4.85630...</td>\n",
       "    </tr>\n",
       "    <tr>\n",
       "      <th>26</th>\n",
       "      <td>room</td>\n",
       "      <td>210</td>\n",
       "      <td>POLYGON ((-74.03039 4.85660, -74.03027 4.85642...</td>\n",
       "    </tr>\n",
       "    <tr>\n",
       "      <th>27</th>\n",
       "      <td>room</td>\n",
       "      <td>211</td>\n",
       "      <td>POLYGON ((-74.03044 4.85624, -74.03033 4.85606...</td>\n",
       "    </tr>\n",
       "    <tr>\n",
       "      <th>28</th>\n",
       "      <td>bed</td>\n",
       "      <td>1</td>\n",
       "      <td>POLYGON ((-74.03131 4.85608, -74.03127 4.85601...</td>\n",
       "    </tr>\n",
       "    <tr>\n",
       "      <th>29</th>\n",
       "      <td>bed</td>\n",
       "      <td>1</td>\n",
       "      <td>POLYGON ((-74.03028 4.85667, -74.03023 4.85661...</td>\n",
       "    </tr>\n",
       "    <tr>\n",
       "      <th>30</th>\n",
       "      <td>bed</td>\n",
       "      <td>0</td>\n",
       "      <td>POLYGON ((-74.03023 4.85661, -74.03019 4.85655...</td>\n",
       "    </tr>\n",
       "    <tr>\n",
       "      <th>31</th>\n",
       "      <td>bed</td>\n",
       "      <td>2</td>\n",
       "      <td>POLYGON ((-74.03039 4.85660, -74.03035 4.85653...</td>\n",
       "    </tr>\n",
       "    <tr>\n",
       "      <th>32</th>\n",
       "      <td>bed</td>\n",
       "      <td>2</td>\n",
       "      <td>POLYGON ((-74.03025 4.85620, -74.03021 4.85614...</td>\n",
       "    </tr>\n",
       "    <tr>\n",
       "      <th>33</th>\n",
       "      <td>bed</td>\n",
       "      <td>2</td>\n",
       "      <td>POLYGON ((-74.03005 4.85633, -74.03001 4.85626...</td>\n",
       "    </tr>\n",
       "    <tr>\n",
       "      <th>34</th>\n",
       "      <td>bed</td>\n",
       "      <td>1</td>\n",
       "      <td>POLYGON ((-74.03017 4.85625, -74.03013 4.85619...</td>\n",
       "    </tr>\n",
       "    <tr>\n",
       "      <th>35</th>\n",
       "      <td>bed</td>\n",
       "      <td>1</td>\n",
       "      <td>POLYGON ((-74.03037 4.85613, -74.03033 4.85606...</td>\n",
       "    </tr>\n",
       "    <tr>\n",
       "      <th>36</th>\n",
       "      <td>bed</td>\n",
       "      <td>1</td>\n",
       "      <td>POLYGON ((-74.03067 4.85643, -74.03063 4.85636...</td>\n",
       "    </tr>\n",
       "    <tr>\n",
       "      <th>37</th>\n",
       "      <td>bed</td>\n",
       "      <td>1</td>\n",
       "      <td>POLYGON ((-74.03048 4.85655, -74.03043 4.85648...</td>\n",
       "    </tr>\n",
       "    <tr>\n",
       "      <th>38</th>\n",
       "      <td>bed</td>\n",
       "      <td>2</td>\n",
       "      <td>POLYGON ((-74.03079 4.85636, -74.03074 4.85629...</td>\n",
       "    </tr>\n",
       "    <tr>\n",
       "      <th>39</th>\n",
       "      <td>bed</td>\n",
       "      <td>0</td>\n",
       "      <td>POLYGON ((-74.03021 4.85631, -74.03017 4.85625...</td>\n",
       "    </tr>\n",
       "    <tr>\n",
       "      <th>40</th>\n",
       "      <td>bed</td>\n",
       "      <td>0</td>\n",
       "      <td>POLYGON ((-74.03063 4.85636, -74.03059 4.85630...</td>\n",
       "    </tr>\n",
       "    <tr>\n",
       "      <th>41</th>\n",
       "      <td>bed</td>\n",
       "      <td>0</td>\n",
       "      <td>POLYGON ((-74.03043 4.85648, -74.03039 4.85642...</td>\n",
       "    </tr>\n",
       "    <tr>\n",
       "      <th>42</th>\n",
       "      <td>bed</td>\n",
       "      <td>3</td>\n",
       "      <td>POLYGON ((-74.03074 4.85629, -74.03070 4.85623...</td>\n",
       "    </tr>\n",
       "    <tr>\n",
       "      <th>43</th>\n",
       "      <td>bed</td>\n",
       "      <td>3</td>\n",
       "      <td>POLYGON ((-74.03055 4.85641, -74.03051 4.85635...</td>\n",
       "    </tr>\n",
       "    <tr>\n",
       "      <th>44</th>\n",
       "      <td>bed</td>\n",
       "      <td>3</td>\n",
       "      <td>POLYGON ((-74.03035 4.85653, -74.03031 4.85647...</td>\n",
       "    </tr>\n",
       "    <tr>\n",
       "      <th>45</th>\n",
       "      <td>bed</td>\n",
       "      <td>3</td>\n",
       "      <td>POLYGON ((-74.03009 4.85639, -74.03005 4.85633...</td>\n",
       "    </tr>\n",
       "    <tr>\n",
       "      <th>46</th>\n",
       "      <td>bed</td>\n",
       "      <td>3</td>\n",
       "      <td>POLYGON ((-74.03029 4.85626, -74.03025 4.85620...</td>\n",
       "    </tr>\n",
       "    <tr>\n",
       "      <th>47</th>\n",
       "      <td>bed</td>\n",
       "      <td>0</td>\n",
       "      <td>POLYGON ((-74.03041 4.85619, -74.03037 4.85613...</td>\n",
       "    </tr>\n",
       "    <tr>\n",
       "      <th>48</th>\n",
       "      <td>room</td>\n",
       "      <td>211</td>\n",
       "      <td>POLYGON ((-74.03024 4.85637, -74.03013 4.85619...</td>\n",
       "    </tr>\n",
       "    <tr>\n",
       "      <th>49</th>\n",
       "      <td>room</td>\n",
       "      <td>205</td>\n",
       "      <td>POLYGON ((-74.03065 4.85611, -74.03053 4.85593...</td>\n",
       "    </tr>\n",
       "    <tr>\n",
       "      <th>50</th>\n",
       "      <td>room</td>\n",
       "      <td>207</td>\n",
       "      <td>POLYGON ((-74.03055 4.85617, -74.03043 4.85600...</td>\n",
       "    </tr>\n",
       "  </tbody>\n",
       "</table>\n",
       "</div>"
      ],
      "text/plain": [
       "                 atype number  \\\n",
       "0                 room    204   \n",
       "1        nurse_station      0   \n",
       "2                 cart      1   \n",
       "3                 cart      0   \n",
       "4               toilet      1   \n",
       "5               toilet      0   \n",
       "6   medication_station      0   \n",
       "7                 room    201   \n",
       "8                 room    202   \n",
       "9                 room    203   \n",
       "10                 bed      0   \n",
       "11                 bed      1   \n",
       "12                 bed      2   \n",
       "13                 bed      2   \n",
       "14                 bed      1   \n",
       "15                 bed      2   \n",
       "16                 bed      1   \n",
       "17                 bed      2   \n",
       "18                 bed      3   \n",
       "19                 bed      0   \n",
       "20                 bed      3   \n",
       "21                 bed      0   \n",
       "22                 bed      3   \n",
       "23                room    206   \n",
       "24                 bed      0   \n",
       "25                room    208   \n",
       "26                room    210   \n",
       "27                room    211   \n",
       "28                 bed      1   \n",
       "29                 bed      1   \n",
       "30                 bed      0   \n",
       "31                 bed      2   \n",
       "32                 bed      2   \n",
       "33                 bed      2   \n",
       "34                 bed      1   \n",
       "35                 bed      1   \n",
       "36                 bed      1   \n",
       "37                 bed      1   \n",
       "38                 bed      2   \n",
       "39                 bed      0   \n",
       "40                 bed      0   \n",
       "41                 bed      0   \n",
       "42                 bed      3   \n",
       "43                 bed      3   \n",
       "44                 bed      3   \n",
       "45                 bed      3   \n",
       "46                 bed      3   \n",
       "47                 bed      0   \n",
       "48                room    211   \n",
       "49                room    205   \n",
       "50                room    207   \n",
       "\n",
       "                                             geometry  \n",
       "0   POLYGON ((-74.03102 4.85562, -74.03095 4.85551...  \n",
       "1   POLYGON ((-74.03089 4.85614, -74.03076 4.85594...  \n",
       "2   POLYGON ((-74.03055 4.85624, -74.03053 4.85620...  \n",
       "3   POLYGON ((-74.03088 4.85597, -74.03083 4.85589...  \n",
       "4   POLYGON ((-74.03069 4.85589, -74.03067 4.85585...  \n",
       "5   POLYGON ((-74.03072 4.85592, -74.03069 4.85589...  \n",
       "6   POLYGON ((-74.03067 4.85595, -74.03064 4.85590...  \n",
       "7   POLYGON ((-74.03132 4.85608, -74.03121 4.85592...  \n",
       "8   POLYGON ((-74.03121 4.85592, -74.03112 4.85577...  \n",
       "9   POLYGON ((-74.03112 4.85577, -74.03102 4.85562...  \n",
       "10  POLYGON ((-74.03091 4.85563, -74.03086 4.85557...  \n",
       "11  POLYGON ((-74.03099 4.85558, -74.03095 4.85551...  \n",
       "12  POLYGON ((-74.03059 4.85648, -74.03055 4.85641...  \n",
       "13  POLYGON ((-74.03125 4.85599, -74.03121 4.85592...  \n",
       "14  POLYGON ((-74.03121 4.85592, -74.03117 4.85586...  \n",
       "15  POLYGON ((-74.03115 4.85583, -74.03111 4.85577...  \n",
       "16  POLYGON ((-74.03111 4.85577, -74.03108 4.85571...  \n",
       "17  POLYGON ((-74.03106 4.85568, -74.03102 4.85562...  \n",
       "18  POLYGON ((-74.03117 4.85604, -74.03113 4.85597...  \n",
       "19  POLYGON ((-74.03113 4.85597, -74.03109 4.85591...  \n",
       "20  POLYGON ((-74.03107 4.85588, -74.03103 4.85582...  \n",
       "21  POLYGON ((-74.03103 4.85582, -74.03099 4.85576...  \n",
       "22  POLYGON ((-74.03098 4.85573, -74.03094 4.85567...  \n",
       "23  POLYGON ((-74.03079 4.85636, -74.03067 4.85617...  \n",
       "24  POLYGON ((-74.03123 4.85613, -74.03119 4.85606...  \n",
       "25  POLYGON ((-74.03059 4.85648, -74.03047 4.85630...  \n",
       "26  POLYGON ((-74.03039 4.85660, -74.03027 4.85642...  \n",
       "27  POLYGON ((-74.03044 4.85624, -74.03033 4.85606...  \n",
       "28  POLYGON ((-74.03131 4.85608, -74.03127 4.85601...  \n",
       "29  POLYGON ((-74.03028 4.85667, -74.03023 4.85661...  \n",
       "30  POLYGON ((-74.03023 4.85661, -74.03019 4.85655...  \n",
       "31  POLYGON ((-74.03039 4.85660, -74.03035 4.85653...  \n",
       "32  POLYGON ((-74.03025 4.85620, -74.03021 4.85614...  \n",
       "33  POLYGON ((-74.03005 4.85633, -74.03001 4.85626...  \n",
       "34  POLYGON ((-74.03017 4.85625, -74.03013 4.85619...  \n",
       "35  POLYGON ((-74.03037 4.85613, -74.03033 4.85606...  \n",
       "36  POLYGON ((-74.03067 4.85643, -74.03063 4.85636...  \n",
       "37  POLYGON ((-74.03048 4.85655, -74.03043 4.85648...  \n",
       "38  POLYGON ((-74.03079 4.85636, -74.03074 4.85629...  \n",
       "39  POLYGON ((-74.03021 4.85631, -74.03017 4.85625...  \n",
       "40  POLYGON ((-74.03063 4.85636, -74.03059 4.85630...  \n",
       "41  POLYGON ((-74.03043 4.85648, -74.03039 4.85642...  \n",
       "42  POLYGON ((-74.03074 4.85629, -74.03070 4.85623...  \n",
       "43  POLYGON ((-74.03055 4.85641, -74.03051 4.85635...  \n",
       "44  POLYGON ((-74.03035 4.85653, -74.03031 4.85647...  \n",
       "45  POLYGON ((-74.03009 4.85639, -74.03005 4.85633...  \n",
       "46  POLYGON ((-74.03029 4.85626, -74.03025 4.85620...  \n",
       "47  POLYGON ((-74.03041 4.85619, -74.03037 4.85613...  \n",
       "48  POLYGON ((-74.03024 4.85637, -74.03013 4.85619...  \n",
       "49  POLYGON ((-74.03065 4.85611, -74.03053 4.85593...  \n",
       "50  POLYGON ((-74.03055 4.85617, -74.03043 4.85600...  "
      ]
     },
     "execution_count": 248,
     "metadata": {},
     "output_type": "execute_result"
    }
   ],
   "source": [
    "file_name='../data/floorplans/unisabana_hospital_polygons.geojson'\n",
    "df=gpd.read_file(file_name)\n",
    "df"
   ]
  },
  {
   "cell_type": "code",
   "execution_count": 249,
   "metadata": {},
   "outputs": [
    {
     "data": {
      "text/html": [
       "<div>\n",
       "<style scoped>\n",
       "    .dataframe tbody tr th:only-of-type {\n",
       "        vertical-align: middle;\n",
       "    }\n",
       "\n",
       "    .dataframe tbody tr th {\n",
       "        vertical-align: top;\n",
       "    }\n",
       "\n",
       "    .dataframe thead th {\n",
       "        text-align: right;\n",
       "    }\n",
       "</style>\n",
       "<table border=\"1\" class=\"dataframe\">\n",
       "  <thead>\n",
       "    <tr style=\"text-align: right;\">\n",
       "      <th></th>\n",
       "      <th>geometry</th>\n",
       "      <th>atype</th>\n",
       "      <th>number</th>\n",
       "    </tr>\n",
       "    <tr>\n",
       "      <th>unique_id</th>\n",
       "      <th></th>\n",
       "      <th></th>\n",
       "      <th></th>\n",
       "    </tr>\n",
       "  </thead>\n",
       "  <tbody>\n",
       "    <tr>\n",
       "      <th>0</th>\n",
       "      <td>POLYGON ((-8241095.378 541173.558, -8241087.45...</td>\n",
       "      <td>room</td>\n",
       "      <td>204</td>\n",
       "    </tr>\n",
       "    <tr>\n",
       "      <th>1</th>\n",
       "      <td>POLYGON ((-8241081.253 541231.221, -8241066.59...</td>\n",
       "      <td>nurse_station</td>\n",
       "      <td>0</td>\n",
       "    </tr>\n",
       "    <tr>\n",
       "      <th>2</th>\n",
       "      <td>POLYGON ((-8241042.965 541242.215, -8241040.52...</td>\n",
       "      <td>cart</td>\n",
       "      <td>1</td>\n",
       "    </tr>\n",
       "    <tr>\n",
       "      <th>3</th>\n",
       "      <td>POLYGON ((-8241079.923 541212.615, -8241074.31...</td>\n",
       "      <td>cart</td>\n",
       "      <td>0</td>\n",
       "    </tr>\n",
       "    <tr>\n",
       "      <th>4</th>\n",
       "      <td>POLYGON ((-8241059.222 541203.081, -8241056.77...</td>\n",
       "      <td>toilet</td>\n",
       "      <td>1</td>\n",
       "    </tr>\n",
       "    <tr>\n",
       "      <th>5</th>\n",
       "      <td>POLYGON ((-8241061.533 541206.628, -8241059.15...</td>\n",
       "      <td>toilet</td>\n",
       "      <td>0</td>\n",
       "    </tr>\n",
       "    <tr>\n",
       "      <th>6</th>\n",
       "      <td>POLYGON ((-8241056.899 541209.979, -8241053.13...</td>\n",
       "      <td>medication_station</td>\n",
       "      <td>0</td>\n",
       "    </tr>\n",
       "    <tr>\n",
       "      <th>7</th>\n",
       "      <td>POLYGON ((-8241128.394 541224.222, -8241117.03...</td>\n",
       "      <td>room</td>\n",
       "      <td>201</td>\n",
       "    </tr>\n",
       "    <tr>\n",
       "      <th>8</th>\n",
       "      <td>POLYGON ((-8241117.036 541206.793, -8241106.20...</td>\n",
       "      <td>room</td>\n",
       "      <td>202</td>\n",
       "    </tr>\n",
       "    <tr>\n",
       "      <th>9</th>\n",
       "      <td>POLYGON ((-8241106.207 541190.175, -8241095.37...</td>\n",
       "      <td>room</td>\n",
       "      <td>203</td>\n",
       "    </tr>\n",
       "    <tr>\n",
       "      <th>10</th>\n",
       "      <td>POLYGON ((-8241082.881 541174.434, -8241078.19...</td>\n",
       "      <td>bed</td>\n",
       "      <td>0</td>\n",
       "    </tr>\n",
       "    <tr>\n",
       "      <th>11</th>\n",
       "      <td>POLYGON ((-8241091.941 541168.719, -8241087.25...</td>\n",
       "      <td>bed</td>\n",
       "      <td>1</td>\n",
       "    </tr>\n",
       "    <tr>\n",
       "      <th>12</th>\n",
       "      <td>POLYGON ((-8241047.772 541269.208, -8241042.82...</td>\n",
       "      <td>bed</td>\n",
       "      <td>2</td>\n",
       "    </tr>\n",
       "    <tr>\n",
       "      <th>13</th>\n",
       "      <td>POLYGON ((-8241121.589 541214.216, -8241116.90...</td>\n",
       "      <td>bed</td>\n",
       "      <td>2</td>\n",
       "    </tr>\n",
       "    <tr>\n",
       "      <th>14</th>\n",
       "      <td>POLYGON ((-8241116.901 541207.022, -8241112.21...</td>\n",
       "      <td>bed</td>\n",
       "      <td>1</td>\n",
       "    </tr>\n",
       "    <tr>\n",
       "      <th>15</th>\n",
       "      <td>POLYGON ((-8241110.364 541196.990, -8241106.00...</td>\n",
       "      <td>bed</td>\n",
       "      <td>2</td>\n",
       "    </tr>\n",
       "    <tr>\n",
       "      <th>16</th>\n",
       "      <td>POLYGON ((-8241106.006 541190.302, -8241101.64...</td>\n",
       "      <td>bed</td>\n",
       "      <td>1</td>\n",
       "    </tr>\n",
       "    <tr>\n",
       "      <th>17</th>\n",
       "      <td>POLYGON ((-8241099.534 541180.372, -8241095.17...</td>\n",
       "      <td>bed</td>\n",
       "      <td>2</td>\n",
       "    </tr>\n",
       "    <tr>\n",
       "      <th>18</th>\n",
       "      <td>POLYGON ((-8241112.529 541219.930, -8241107.84...</td>\n",
       "      <td>bed</td>\n",
       "      <td>3</td>\n",
       "    </tr>\n",
       "    <tr>\n",
       "      <th>19</th>\n",
       "      <td>POLYGON ((-8241107.841 541212.736, -8241103.15...</td>\n",
       "      <td>bed</td>\n",
       "      <td>0</td>\n",
       "    </tr>\n",
       "    <tr>\n",
       "      <th>20</th>\n",
       "      <td>POLYGON ((-8241101.304 541202.704, -8241096.94...</td>\n",
       "      <td>bed</td>\n",
       "      <td>3</td>\n",
       "    </tr>\n",
       "    <tr>\n",
       "      <th>21</th>\n",
       "      <td>POLYGON ((-8241096.946 541196.016, -8241092.58...</td>\n",
       "      <td>bed</td>\n",
       "      <td>0</td>\n",
       "    </tr>\n",
       "    <tr>\n",
       "      <th>22</th>\n",
       "      <td>POLYGON ((-8241090.475 541186.086, -8241086.11...</td>\n",
       "      <td>bed</td>\n",
       "      <td>3</td>\n",
       "    </tr>\n",
       "    <tr>\n",
       "      <th>23</th>\n",
       "      <td>POLYGON ((-8241069.516 541255.495, -8241056.17...</td>\n",
       "      <td>room</td>\n",
       "      <td>206</td>\n",
       "    </tr>\n",
       "    <tr>\n",
       "      <th>24</th>\n",
       "      <td>POLYGON ((-8241119.133 541230.063, -8241114.44...</td>\n",
       "      <td>bed</td>\n",
       "      <td>0</td>\n",
       "    </tr>\n",
       "    <tr>\n",
       "      <th>25</th>\n",
       "      <td>POLYGON ((-8241047.772 541269.208, -8241034.43...</td>\n",
       "      <td>room</td>\n",
       "      <td>208</td>\n",
       "    </tr>\n",
       "    <tr>\n",
       "      <th>26</th>\n",
       "      <td>POLYGON ((-8241025.827 541283.049, -8241012.48...</td>\n",
       "      <td>room</td>\n",
       "      <td>210</td>\n",
       "    </tr>\n",
       "    <tr>\n",
       "      <th>27</th>\n",
       "      <td>POLYGON ((-8241031.208 541242.482, -8241018.39...</td>\n",
       "      <td>room</td>\n",
       "      <td>211</td>\n",
       "    </tr>\n",
       "    <tr>\n",
       "      <th>28</th>\n",
       "      <td>POLYGON ((-8241128.193 541224.349, -8241123.50...</td>\n",
       "      <td>bed</td>\n",
       "      <td>1</td>\n",
       "    </tr>\n",
       "    <tr>\n",
       "      <th>29</th>\n",
       "      <td>POLYGON ((-8241012.942 541291.176, -8241007.99...</td>\n",
       "      <td>bed</td>\n",
       "      <td>1</td>\n",
       "    </tr>\n",
       "    <tr>\n",
       "      <th>30</th>\n",
       "      <td>POLYGON ((-8241007.924 541283.475, -8241003.49...</td>\n",
       "      <td>bed</td>\n",
       "      <td>0</td>\n",
       "    </tr>\n",
       "    <tr>\n",
       "      <th>31</th>\n",
       "      <td>POLYGON ((-8241025.827 541283.049, -8241020.87...</td>\n",
       "      <td>bed</td>\n",
       "      <td>2</td>\n",
       "    </tr>\n",
       "    <tr>\n",
       "      <th>32</th>\n",
       "      <td>POLYGON ((-8241009.464 541238.324, -8241004.90...</td>\n",
       "      <td>bed</td>\n",
       "      <td>2</td>\n",
       "    </tr>\n",
       "    <tr>\n",
       "      <th>33</th>\n",
       "      <td>POLYGON ((-8240987.520 541252.165, -8240982.96...</td>\n",
       "      <td>bed</td>\n",
       "      <td>2</td>\n",
       "    </tr>\n",
       "    <tr>\n",
       "      <th>34</th>\n",
       "      <td>POLYGON ((-8241000.405 541244.038, -8240995.84...</td>\n",
       "      <td>bed</td>\n",
       "      <td>1</td>\n",
       "    </tr>\n",
       "    <tr>\n",
       "      <th>35</th>\n",
       "      <td>POLYGON ((-8241022.954 541229.816, -8241018.39...</td>\n",
       "      <td>bed</td>\n",
       "      <td>1</td>\n",
       "    </tr>\n",
       "    <tr>\n",
       "      <th>36</th>\n",
       "      <td>POLYGON ((-8241056.832 541263.494, -8241051.87...</td>\n",
       "      <td>bed</td>\n",
       "      <td>1</td>\n",
       "    </tr>\n",
       "    <tr>\n",
       "      <th>37</th>\n",
       "      <td>POLYGON ((-8241034.887 541277.335, -8241029.93...</td>\n",
       "      <td>bed</td>\n",
       "      <td>1</td>\n",
       "    </tr>\n",
       "    <tr>\n",
       "      <th>38</th>\n",
       "      <td>POLYGON ((-8241069.516 541255.495, -8241064.56...</td>\n",
       "      <td>bed</td>\n",
       "      <td>2</td>\n",
       "    </tr>\n",
       "    <tr>\n",
       "      <th>39</th>\n",
       "      <td>POLYGON ((-8241004.763 541250.725, -8241000.40...</td>\n",
       "      <td>bed</td>\n",
       "      <td>0</td>\n",
       "    </tr>\n",
       "    <tr>\n",
       "      <th>40</th>\n",
       "      <td>POLYGON ((-8241051.813 541255.793, -8241047.38...</td>\n",
       "      <td>bed</td>\n",
       "      <td>0</td>\n",
       "    </tr>\n",
       "    <tr>\n",
       "      <th>41</th>\n",
       "      <td>POLYGON ((-8241029.868 541269.634, -8241025.44...</td>\n",
       "      <td>bed</td>\n",
       "      <td>0</td>\n",
       "    </tr>\n",
       "    <tr>\n",
       "      <th>42</th>\n",
       "      <td>POLYGON ((-8241064.497 541247.794, -8241060.07...</td>\n",
       "      <td>bed</td>\n",
       "      <td>3</td>\n",
       "    </tr>\n",
       "    <tr>\n",
       "      <th>43</th>\n",
       "      <td>POLYGON ((-8241042.754 541261.507, -8241038.32...</td>\n",
       "      <td>bed</td>\n",
       "      <td>3</td>\n",
       "    </tr>\n",
       "    <tr>\n",
       "      <th>44</th>\n",
       "      <td>POLYGON ((-8241020.809 541275.348, -8241016.38...</td>\n",
       "      <td>bed</td>\n",
       "      <td>3</td>\n",
       "    </tr>\n",
       "    <tr>\n",
       "      <th>45</th>\n",
       "      <td>POLYGON ((-8240991.878 541258.852, -8240987.52...</td>\n",
       "      <td>bed</td>\n",
       "      <td>3</td>\n",
       "    </tr>\n",
       "    <tr>\n",
       "      <th>46</th>\n",
       "      <td>POLYGON ((-8241013.823 541245.011, -8241009.46...</td>\n",
       "      <td>bed</td>\n",
       "      <td>3</td>\n",
       "    </tr>\n",
       "    <tr>\n",
       "      <th>47</th>\n",
       "      <td>POLYGON ((-8241027.312 541236.504, -8241022.95...</td>\n",
       "      <td>bed</td>\n",
       "      <td>0</td>\n",
       "    </tr>\n",
       "    <tr>\n",
       "      <th>48</th>\n",
       "      <td>POLYGON ((-8241008.659 541256.704, -8240995.84...</td>\n",
       "      <td>room</td>\n",
       "      <td>211</td>\n",
       "    </tr>\n",
       "    <tr>\n",
       "      <th>49</th>\n",
       "      <td>POLYGON ((-8241054.159 541228.006, -8241041.34...</td>\n",
       "      <td>room</td>\n",
       "      <td>205</td>\n",
       "    </tr>\n",
       "    <tr>\n",
       "      <th>50</th>\n",
       "      <td>POLYGON ((-8241042.683 541235.244, -8241029.87...</td>\n",
       "      <td>room</td>\n",
       "      <td>207</td>\n",
       "    </tr>\n",
       "    <tr>\n",
       "      <th>0</th>\n",
       "      <td>POLYGON ((-8241127.328 541223.893, -8241116.76...</td>\n",
       "      <td>floor</td>\n",
       "      <td>2</td>\n",
       "    </tr>\n",
       "  </tbody>\n",
       "</table>\n",
       "</div>"
      ],
      "text/plain": [
       "                                                    geometry  \\\n",
       "unique_id                                                      \n",
       "0          POLYGON ((-8241095.378 541173.558, -8241087.45...   \n",
       "1          POLYGON ((-8241081.253 541231.221, -8241066.59...   \n",
       "2          POLYGON ((-8241042.965 541242.215, -8241040.52...   \n",
       "3          POLYGON ((-8241079.923 541212.615, -8241074.31...   \n",
       "4          POLYGON ((-8241059.222 541203.081, -8241056.77...   \n",
       "5          POLYGON ((-8241061.533 541206.628, -8241059.15...   \n",
       "6          POLYGON ((-8241056.899 541209.979, -8241053.13...   \n",
       "7          POLYGON ((-8241128.394 541224.222, -8241117.03...   \n",
       "8          POLYGON ((-8241117.036 541206.793, -8241106.20...   \n",
       "9          POLYGON ((-8241106.207 541190.175, -8241095.37...   \n",
       "10         POLYGON ((-8241082.881 541174.434, -8241078.19...   \n",
       "11         POLYGON ((-8241091.941 541168.719, -8241087.25...   \n",
       "12         POLYGON ((-8241047.772 541269.208, -8241042.82...   \n",
       "13         POLYGON ((-8241121.589 541214.216, -8241116.90...   \n",
       "14         POLYGON ((-8241116.901 541207.022, -8241112.21...   \n",
       "15         POLYGON ((-8241110.364 541196.990, -8241106.00...   \n",
       "16         POLYGON ((-8241106.006 541190.302, -8241101.64...   \n",
       "17         POLYGON ((-8241099.534 541180.372, -8241095.17...   \n",
       "18         POLYGON ((-8241112.529 541219.930, -8241107.84...   \n",
       "19         POLYGON ((-8241107.841 541212.736, -8241103.15...   \n",
       "20         POLYGON ((-8241101.304 541202.704, -8241096.94...   \n",
       "21         POLYGON ((-8241096.946 541196.016, -8241092.58...   \n",
       "22         POLYGON ((-8241090.475 541186.086, -8241086.11...   \n",
       "23         POLYGON ((-8241069.516 541255.495, -8241056.17...   \n",
       "24         POLYGON ((-8241119.133 541230.063, -8241114.44...   \n",
       "25         POLYGON ((-8241047.772 541269.208, -8241034.43...   \n",
       "26         POLYGON ((-8241025.827 541283.049, -8241012.48...   \n",
       "27         POLYGON ((-8241031.208 541242.482, -8241018.39...   \n",
       "28         POLYGON ((-8241128.193 541224.349, -8241123.50...   \n",
       "29         POLYGON ((-8241012.942 541291.176, -8241007.99...   \n",
       "30         POLYGON ((-8241007.924 541283.475, -8241003.49...   \n",
       "31         POLYGON ((-8241025.827 541283.049, -8241020.87...   \n",
       "32         POLYGON ((-8241009.464 541238.324, -8241004.90...   \n",
       "33         POLYGON ((-8240987.520 541252.165, -8240982.96...   \n",
       "34         POLYGON ((-8241000.405 541244.038, -8240995.84...   \n",
       "35         POLYGON ((-8241022.954 541229.816, -8241018.39...   \n",
       "36         POLYGON ((-8241056.832 541263.494, -8241051.87...   \n",
       "37         POLYGON ((-8241034.887 541277.335, -8241029.93...   \n",
       "38         POLYGON ((-8241069.516 541255.495, -8241064.56...   \n",
       "39         POLYGON ((-8241004.763 541250.725, -8241000.40...   \n",
       "40         POLYGON ((-8241051.813 541255.793, -8241047.38...   \n",
       "41         POLYGON ((-8241029.868 541269.634, -8241025.44...   \n",
       "42         POLYGON ((-8241064.497 541247.794, -8241060.07...   \n",
       "43         POLYGON ((-8241042.754 541261.507, -8241038.32...   \n",
       "44         POLYGON ((-8241020.809 541275.348, -8241016.38...   \n",
       "45         POLYGON ((-8240991.878 541258.852, -8240987.52...   \n",
       "46         POLYGON ((-8241013.823 541245.011, -8241009.46...   \n",
       "47         POLYGON ((-8241027.312 541236.504, -8241022.95...   \n",
       "48         POLYGON ((-8241008.659 541256.704, -8240995.84...   \n",
       "49         POLYGON ((-8241054.159 541228.006, -8241041.34...   \n",
       "50         POLYGON ((-8241042.683 541235.244, -8241029.87...   \n",
       "0          POLYGON ((-8241127.328 541223.893, -8241116.76...   \n",
       "\n",
       "                        atype number  \n",
       "unique_id                             \n",
       "0                        room    204  \n",
       "1               nurse_station      0  \n",
       "2                        cart      1  \n",
       "3                        cart      0  \n",
       "4                      toilet      1  \n",
       "5                      toilet      0  \n",
       "6          medication_station      0  \n",
       "7                        room    201  \n",
       "8                        room    202  \n",
       "9                        room    203  \n",
       "10                        bed      0  \n",
       "11                        bed      1  \n",
       "12                        bed      2  \n",
       "13                        bed      2  \n",
       "14                        bed      1  \n",
       "15                        bed      2  \n",
       "16                        bed      1  \n",
       "17                        bed      2  \n",
       "18                        bed      3  \n",
       "19                        bed      0  \n",
       "20                        bed      3  \n",
       "21                        bed      0  \n",
       "22                        bed      3  \n",
       "23                       room    206  \n",
       "24                        bed      0  \n",
       "25                       room    208  \n",
       "26                       room    210  \n",
       "27                       room    211  \n",
       "28                        bed      1  \n",
       "29                        bed      1  \n",
       "30                        bed      0  \n",
       "31                        bed      2  \n",
       "32                        bed      2  \n",
       "33                        bed      2  \n",
       "34                        bed      1  \n",
       "35                        bed      1  \n",
       "36                        bed      1  \n",
       "37                        bed      1  \n",
       "38                        bed      2  \n",
       "39                        bed      0  \n",
       "40                        bed      0  \n",
       "41                        bed      0  \n",
       "42                        bed      3  \n",
       "43                        bed      3  \n",
       "44                        bed      3  \n",
       "45                        bed      3  \n",
       "46                        bed      3  \n",
       "47                        bed      0  \n",
       "48                       room    211  \n",
       "49                       room    205  \n",
       "50                       room    207  \n",
       "0                       floor      2  "
      ]
     },
     "execution_count": 249,
     "metadata": {},
     "output_type": "execute_result"
    }
   ],
   "source": [
    "m.space.get_agents_as_GeoDataFrame()"
   ]
  },
  {
   "cell_type": "code",
   "execution_count": 14,
   "metadata": {},
   "outputs": [
    {
     "ename": "NameError",
     "evalue": "name 'm' is not defined",
     "output_type": "error",
     "traceback": [
      "\u001b[1;31m---------------------------------------------------------------------------\u001b[0m",
      "\u001b[1;31mNameError\u001b[0m                                 Traceback (most recent call last)",
      "\u001b[1;32mc:\\Users\\anita\\Documents\\GitHub\\health_robot\\src\\dev_notebook.ipynb Cell 48\u001b[0m line \u001b[0;36m1\n\u001b[1;32m----> <a href='vscode-notebook-cell:/c%3A/Users/anita/Documents/GitHub/health_robot/src/dev_notebook.ipynb#Y101sZmlsZQ%3D%3D?line=0'>1</a>\u001b[0m m\n",
      "\u001b[1;31mNameError\u001b[0m: name 'm' is not defined"
     ]
    }
   ],
   "source": [
    "m"
   ]
  },
  {
   "cell_type": "code",
   "execution_count": 53,
   "metadata": {},
   "outputs": [],
   "source": [
    "def get_relation_to_AgentCentroid(space, agent, relation, agent_type):\n",
    "    \"\"\"Return a list of related agents.\n",
    "\n",
    "    Args:\n",
    "        agent: the agent for which to compute the relation\n",
    "        relation: must be one of 'intersects', 'within', 'contains',\n",
    "            'touches'\n",
    "        other_agents: A list of agents to compare against.\n",
    "            Omit to compare against all other agents of the layer.\n",
    "    \"\"\"\n",
    "\n",
    "    possible_agents = space._agent_layer._get_rtree_intersections(agent.geometry)\n",
    "    for other_agent in possible_agents:\n",
    "        if (\n",
    "            getattr(agent.geometry.centroid, relation)(other_agent.geometry)\n",
    "            and other_agent.unique_id != agent.unique_id\n",
    "            and other_agent.atype == agent_type\n",
    "        ):\n",
    "            yield other_agent # this is a generator of all matches\n",
    "            #return other_agent # return first match\n",
    "    # if no match was found\n",
    "    return None"
   ]
  },
  {
   "cell_type": "code",
   "execution_count": 31,
   "metadata": {},
   "outputs": [],
   "source": [
    "bed=source"
   ]
  },
  {
   "cell_type": "code",
   "execution_count": 54,
   "metadata": {},
   "outputs": [
    {
     "name": "stdout",
     "output_type": "stream",
     "text": [
      "bed\n",
      "room\n",
      "floor\n"
     ]
    }
   ],
   "source": [
    "for x in m.space._agent_layer._get_rtree_intersections(bed.geometry):\n",
    "    if (getattr(bed.geometry.centroid, 'within')(x.geometry)):\n",
    "        print(x.atype)"
   ]
  },
  {
   "cell_type": "code",
   "execution_count": 55,
   "metadata": {},
   "outputs": [
    {
     "name": "stdout",
     "output_type": "stream",
     "text": [
      "room\n"
     ]
    }
   ],
   "source": [
    "for x in get_relation_to_AgentCentroid(m.space, bed, 'within','room'):\n",
    "    print(x.atype)"
   ]
  },
  {
   "cell_type": "code",
   "execution_count": null,
   "metadata": {},
   "outputs": [],
   "source": []
  }
 ],
 "metadata": {
  "kernelspec": {
   "display_name": "ia_env",
   "language": "python",
   "name": "ia_env"
  },
  "language_info": {
   "codemirror_mode": {
    "name": "ipython",
    "version": 3
   },
   "file_extension": ".py",
   "mimetype": "text/x-python",
   "name": "python",
   "nbconvert_exporter": "python",
   "pygments_lexer": "ipython3",
   "version": "3.8.18"
  },
  "orig_nbformat": 4
 },
 "nbformat": 4,
 "nbformat_minor": 2
}
