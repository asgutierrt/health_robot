{
  "cells": [
    {
      "cell_type": "markdown",
      "metadata": {
        "colab_type": "text",
        "id": "view-in-github"
      },
      "source": [
        "<a href=\"https://colab.research.google.com/github/asgutierrt/health_robot/blob/main/hospital_abms.ipynb\" target=\"_parent\"><img src=\"https://colab.research.google.com/assets/colab-badge.svg\" alt=\"Open In Colab\"/></a>"
      ]
    },
    {
      "cell_type": "code",
      "execution_count": 1,
      "metadata": {
        "colab": {
          "base_uri": "https://localhost:8080/"
        },
        "id": "jB6fzTCzJf8m",
        "outputId": "49f955d0-e039-4d9b-97d8-9d9767b5639a"
      },
      "outputs": [],
      "source": [
        "#%pip install mesa\n",
        "#%pip install mesa_geo"
      ]
    },
    {
      "cell_type": "code",
      "execution_count": 1,
      "metadata": {
        "id": "-0ZhpXogJM0t"
      },
      "outputs": [],
      "source": [
        "import mesa\n",
        "import mesa_geo as mg\n",
        "import json"
      ]
    },
    {
      "cell_type": "markdown",
      "metadata": {
        "id": "XI70xiHxJrK_"
      },
      "source": [
        "# agents"
      ]
    },
    {
      "cell_type": "code",
      "execution_count": 2,
      "metadata": {
        "id": "caVw-jNHJn9G"
      },
      "outputs": [],
      "source": [
        "class Hospital(mg.GeoAgent):\n",
        "    def __init__(self, unique_id, model, geometry, crs):\n",
        "        super().__init__(unique_id, model, geometry, crs)\n",
        "        self.color_hotspot()\n",
        "\n",
        "    def color_hotspot(self):\n",
        "      # Decide if there are agents here\n",
        "      residents = self.model.space.get_intersecting_agents(self)\n",
        "      patients_here = [resident for resident in residents if resident.atype == \"patient\"]\n",
        "\n",
        "      if len(patients_here) >= 1:\n",
        "          self.atype = \"ocupied\"\n",
        "      else:\n",
        "          self.atype = \"empty\"\n",
        "\n",
        "    def __repr__(self):\n",
        "        return \"Hospital space \" + str(self.unique_id)\n",
        "\n",
        "from shapely.geometry import Point\n",
        "class PersonAgent(mg.GeoAgent):\n",
        "    \"\"\"Person Agent.\"\"\"\n",
        "    def __init__( self, unique_id, model, geometry, crs,\n",
        "        agent_type=\"patient\",\n",
        "        mobility_range=4, # movement per step\n",
        "        recovery_rate=0.2,\n",
        "        death_risk=0.1,\n",
        "        p_worker=0.9,\n",
        "    ):\n",
        "        super().__init__(unique_id, model, geometry, crs)\n",
        "        # Agent parameters\n",
        "        self.atype = agent_type\n",
        "        self.mobility_range = mobility_range\n",
        "\n",
        "        # Random choose if healthcare worker\n",
        "        if self.random.random() < p_worker:\n",
        "            self.atype = \"medical provider\"\n",
        "            self.model.counts[\"patient\"] -= 1  # Adjust initial counts\n",
        "            self.model.counts[\"medical provider\"] += 1\n",
        "\n",
        "    def move_point(self, dx, dy):\n",
        "        \"\"\"\n",
        "        Move a point by creating a new one\n",
        "        :param dx:  Distance to move in x-axis\n",
        "        :param dy:  Distance to move in y-axis\n",
        "        \"\"\"\n",
        "        return Point(self.geometry.x + dx, self.geometry.y + dy)\n",
        "\n",
        "    def step(self):\n",
        "        \"\"\"Advance one step.\"\"\"\n",
        "        if self.random.random() < self.death_risk: self.atype = \"dead\"\n",
        "\n",
        "        # If not dead, move\n",
        "        if self.atype != \"dead\":\n",
        "            move_x = self.random.randint(-self.mobility_range, self.mobility_range)\n",
        "            move_y = self.random.randint(-self.mobility_range, self.mobility_range)\n",
        "            self.geometry = self.move_point(move_x, move_y)  # Reassign geometry\n",
        "\n",
        "        self.model.counts[self.atype] += 1  # Count agent type\n",
        "\n",
        "    def __repr__(self):\n",
        "        return \"Person \" + str(self.unique_id)"
      ]
    },
    {
      "cell_type": "markdown",
      "metadata": {
        "id": "EkVcRTq9JtAV"
      },
      "source": [
        "# Model"
      ]
    },
    {
      "cell_type": "code",
      "execution_count": 3,
      "metadata": {
        "id": "JvlUhHy-Jpuq"
      },
      "outputs": [],
      "source": [
        "class GeoModel(mesa.Model):\n",
        "    # Opening geoJSON files\n",
        "    with open('floorplans/map.geojson') as file:\n",
        "        hospital_rooms = json.load(file)\n",
        "\n",
        "    def __init__(self, pop_size=3, p_worker=0.2):\n",
        "\n",
        "        self.schedule = mesa.time.BaseScheduler(self)\n",
        "        self.space = mg.GeoSpace(warn_crs_conversion=False)\n",
        "        self.steps = 0\n",
        "        self.counts = None\n",
        "        self.reset_counts()\n",
        "\n",
        "        # model parameters\n",
        "        self.pop_size = pop_size\n",
        "        self.counts[\"patient\"] = pop_size\n",
        "\n",
        "        self.running = True\n",
        "        self.datacollector = mesa.DataCollector(\n",
        "            {\n",
        "                \"patient\": get_patient_count,\n",
        "                \"medical provider\": get_med_count,\n",
        "                \"dead\": get_dead_count,\n",
        "            }\n",
        "        )\n",
        "\n",
        "        # Set up the Neighbourhood patches for every region in file\n",
        "        # (add to schedule later)\n",
        "        ac = mg.AgentCreator(agent_class=Hospital, model=self)\n",
        "        neighbourhood_agents = ac.from_GeoJSON(self.hospital_rooms)\n",
        "        self.space.add_agents(neighbourhood_agents)\n",
        "\n",
        "        # Generate PersonAgent population\n",
        "        ac_population = mg.AgentCreator( PersonAgent, model=self, crs=self.space.crs )\n",
        "\n",
        "        # Generate random location, add agent to grid and scheduler\n",
        "        for i in range(pop_size):\n",
        "             # Region where agent starts\n",
        "            this_neighbourhood = self.random.randint(0, len(neighbourhood_agents) - 1)\n",
        "\n",
        "            center_x, center_y = neighbourhood_agents[this_neighbourhood].geometry.centroid.coords.xy\n",
        "            this_bounds = neighbourhood_agents[this_neighbourhood].geometry.bounds\n",
        "\n",
        "            # Heuristic for agent spread in region\n",
        "            spread_x = int(this_bounds[2] - this_bounds[0])\n",
        "            spread_y = int(this_bounds[3] - this_bounds[1])\n",
        "            this_x = center_x[0] + self.random.randint(0, spread_x) - spread_x / 2\n",
        "            this_y = center_y[0] + self.random.randint(0, spread_y) - spread_y / 2\n",
        "\n",
        "            # create and place Person\n",
        "            this_person = ac_population.create_agent(Point(this_x, this_y), \"P\" + str(i))\n",
        "            self.space.add_agents(this_person)\n",
        "            self.schedule.add(this_person)\n",
        "\n",
        "        # Add the neighbourhood agents to schedule AFTER person agents,\n",
        "        # to allow them to update their color by using BaseScheduler\n",
        "        for agent in neighbourhood_agents:\n",
        "            self.schedule.add(agent)\n",
        "\n",
        "        self.datacollector.collect(self)\n",
        "\n",
        "    def reset_counts(self):\n",
        "      self.counts = {\n",
        "          \"patient\": 0,\n",
        "          \"medical provider\": 0,\n",
        "          \"dead\": 0,\n",
        "          \"ocupied\": 0,\n",
        "          \"empty\": 0}\n",
        "\n",
        "    def step(self):\n",
        "        \"\"\"Run one step of the model.\"\"\"\n",
        "        self.steps += 1\n",
        "        self.reset_counts()\n",
        "        self.schedule.step()\n",
        "        # Recalculate spatial tree, because agents are moving\n",
        "        self.space._recreate_rtree()\n",
        "\n",
        "        self.datacollector.collect(self)\n",
        "\n",
        "        # Run until no one is in hospital\n",
        "        if self.counts[\"patient\"] == 0 and self.counts[\"medical provider\"]==0:\n",
        "            self.running = False\n",
        "\n",
        "\n",
        "# Functions needed for datacollector\n",
        "def get_patient_count(model): return model.counts[\"patient\"]\n",
        "def get_med_count(model): return model.counts[\"medical provider\"]\n",
        "def get_dead_count(model): return model.counts[\"dead\"]"
      ]
    },
    {
      "cell_type": "markdown",
      "metadata": {
        "id": "vizdJ6nNMkYm"
      },
      "source": [
        "# server"
      ]
    },
    {
      "cell_type": "code",
      "execution_count": 4,
      "metadata": {
        "id": "vxyAiOD2Mllk"
      },
      "outputs": [],
      "source": [
        "############## define server\n",
        "\n",
        "class Text(mesa.visualization.TextElement):\n",
        "    \"\"\"\n",
        "    Display a text\n",
        "    \"\"\"\n",
        "    def __init__(self):\n",
        "        pass\n",
        "\n",
        "    def render(self, model):\n",
        "        return \"Steps: \" + str(model.steps)\n",
        "\n",
        "\n",
        "model_params = {\n",
        "    \"pop_size\": mesa.visualization.Slider(\"Population size\", 30, 10, 100, 10),\n",
        "}\n",
        "\n",
        "def agent_draw(agent):\n",
        "    \"\"\"\n",
        "    Portrayal Method for canvas\n",
        "    \"\"\"\n",
        "    portrayal = {}\n",
        "    if isinstance(agent, PersonAgent): portrayal[\"radius\"] = \"2\"\n",
        "\n",
        "    if agent.atype in [\"ocupied\"]: portrayal[\"color\"] = \"Red\"\n",
        "    elif agent.atype in [\"empty\"]: portrayal[\"color\"] = \"Green\"\n",
        "\n",
        "    elif agent.atype in [\"patient\"]: portrayal[\"color\"] = \"Grey\"\n",
        "    elif agent.atype in [\"medical provider\"]: portrayal[\"color\"] = \"Black\"\n",
        "    elif agent.atype in [\"dead\"]: portrayal[\"color\"] = \"Yellow\"\n",
        "    return portrayal\n",
        "\n",
        "\n",
        "map_element = mg.visualization.MapModule(agent_draw)\n",
        "agents_chart = mesa.visualization.ChartModule(\n",
        "    [\n",
        "        {\"Label\": \"medical provider\", \"Color\": \"Black\"},\n",
        "        {\"Label\": \"patient\", \"Color\": \"Grey\"},\n",
        "        {\"Label\": \"dead\", \"Color\": \"Yellow\"},\n",
        "    ]\n",
        ")\n",
        "\n",
        "server = mesa.visualization.ModularServer(\n",
        "    GeoModel,\n",
        "    [map_element, Text(), agents_chart],\n",
        "    \"agent-based model\",\n",
        "    model_params,\n",
        ")"
      ]
    },
    {
      "cell_type": "code",
      "execution_count": 6,
      "metadata": {},
      "outputs": [
        {
          "ename": "AttributeError",
          "evalue": "'MapModule' object has no attribute 'map_width'",
          "output_type": "error",
          "traceback": [
            "\u001b[1;31m---------------------------------------------------------------------------\u001b[0m",
            "\u001b[1;31mAttributeError\u001b[0m                            Traceback (most recent call last)",
            "\u001b[1;32mc:\\Users\\anita\\Documents\\GitHub\\health_robot\\hospital_abms.ipynb Cell 10\u001b[0m line \u001b[0;36m1\n\u001b[1;32m----> <a href='vscode-notebook-cell:/c%3A/Users/anita/Documents/GitHub/health_robot/hospital_abms.ipynb#X14sZmlsZQ%3D%3D?line=0'>1</a>\u001b[0m map_element\u001b[39m.\u001b[39;49mmap_width\n",
            "\u001b[1;31mAttributeError\u001b[0m: 'MapModule' object has no attribute 'map_width'"
          ]
        }
      ],
      "source": [
        "map_element = mg.visualization.MapModule(agent_draw,map_width=200,map_height=200)\n"
      ]
    },
    {
      "cell_type": "code",
      "execution_count": 7,
      "metadata": {
        "colab": {
          "base_uri": "https://localhost:8080/",
          "height": 338
        },
        "id": "GgXsSgacSKJN",
        "outputId": "5f0eedec-ef28-4136-8f34-f03c63f88d1c"
      },
      "outputs": [],
      "source": [
        "########## web application\n",
        "#server.launch()"
      ]
    },
    {
      "cell_type": "code",
      "execution_count": null,
      "metadata": {},
      "outputs": [],
      "source": []
    }
  ],
  "metadata": {
    "colab": {
      "authorship_tag": "ABX9TyOuitYa7THSVi7eR3KeuLbX",
      "include_colab_link": true,
      "provenance": []
    },
    "kernelspec": {
      "display_name": "Python 3",
      "name": "python3"
    },
    "language_info": {
      "codemirror_mode": {
        "name": "ipython",
        "version": 3
      },
      "file_extension": ".py",
      "mimetype": "text/x-python",
      "name": "python",
      "nbconvert_exporter": "python",
      "pygments_lexer": "ipython3",
      "version": "3.9.13"
    }
  },
  "nbformat": 4,
  "nbformat_minor": 0
}
